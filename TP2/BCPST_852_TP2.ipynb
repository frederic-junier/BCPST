{
 "cells": [
  {
   "cell_type": "markdown",
   "metadata": {},
   "source": [
    "# Tests (Instructions conditionnelles) "
   ]
  },
  {
   "cell_type": "markdown",
   "metadata": {},
   "source": [
    "## Exercice 3.1 IMC"
   ]
  },
  {
   "cell_type": "code",
   "execution_count": 10,
   "metadata": {},
   "outputs": [
    {
     "name": "stdout",
     "output_type": "stream",
     "text": [
      "Entrez votre taille en mètres : 1.78\n",
      "Pour une taille de 1.78 mètres, la masse pour un IMC normal doit êtrecomprise entre 58.62 et 79.21 \n"
     ]
    }
   ],
   "source": [
    "taille = float(input(\"Entrez votre taille en mètres : \"))\n",
    "print(\"Pour une taille de {} mètres, la masse pour un IMC normal doit être\" \n",
    "      \"comprise entre {:.2f} et {:.2f} \".format(taille, 18.5*taille**2, 25*taille**2))"
   ]
  },
  {
   "cell_type": "code",
   "execution_count": 13,
   "metadata": {},
   "outputs": [
    {
     "name": "stdout",
     "output_type": "stream",
     "text": [
      "Entrez votre masse en kilos : 72\n",
      "Pour une masse de 72.0 kilos, la taille pour un IMC normal doit être comprise entre 1.70 et 1.97 \n"
     ]
    }
   ],
   "source": [
    "from math import sqrt\n",
    "masse = float(input(\"Entrez votre masse en kilos : \"))\n",
    "print(\"Pour une masse de {} kilos, la taille pour un IMC normal doit être \"\n",
    "      \"comprise entre {:.2f} et {:.2f} \".format(masse, sqrt(masse/25), sqrt(masse/18.5)))"
   ]
  },
  {
   "cell_type": "code",
   "execution_count": 14,
   "metadata": {},
   "outputs": [
    {
     "name": "stdout",
     "output_type": "stream",
     "text": [
      "Entrez votre taille en mètres : 1.7\n",
      "Entrez votre masse en kilos : 120\n",
      "IMC anormal : surpoids\n"
     ]
    }
   ],
   "source": [
    "taille = float(input(\"Entrez votre taille en mètres : \"))\n",
    "masse = float(input(\"Entrez votre masse en kilos : \"))\n",
    "imc = masse/taille**2\n",
    "if 18.5 <= imc <= 25:\n",
    "    print(\"IMC normal\")\n",
    "elif imc < 18.5:\n",
    "    print(\"IMC anormal : sous-poids\")\n",
    "else:\n",
    "    print(\"IMC anormal : surpoids\")"
   ]
  },
  {
   "cell_type": "markdown",
   "metadata": {},
   "source": [
    "## Exercice bonus Suite croissante, algorithme de tri sur une instance de trois nombres"
   ]
  },
  {
   "cell_type": "markdown",
   "metadata": {},
   "source": [
    "    Version par énumération des 3*2*1 = 6 arrangements"
   ]
  },
  {
   "cell_type": "code",
   "execution_count": null,
   "metadata": {
    "collapsed": true
   },
   "outputs": [],
   "source": [
    "a = float(input('Entrez un réel a : '))\n",
    "b = float(input('Entrez un réel b : '))\n",
    "c = float(input('Entrez un réel c : ')) \n",
    "if a <= c <= b:\n",
    "    c, b = b,c \n",
    "elif b <= a <= c:\n",
    "    a, b = b, a\n",
    "elif b <= c <= a:\n",
    "    a, b, c = b, c , a\n",
    "elif c <= a <= b:\n",
    "    a, b, c = c, a, b\n",
    "elif c <= b <= a:\n",
    "    a, c = c, a    "
   ]
  },
  {
   "cell_type": "markdown",
   "metadata": {},
   "source": [
    "Version tri par sélection"
   ]
  },
  {
   "cell_type": "code",
   "execution_count": 16,
   "metadata": {},
   "outputs": [
    {
     "name": "stdout",
     "output_type": "stream",
     "text": [
      "Entrez un réel a : 852\n",
      "Entrez un réel b : 851\n",
      "Entrez un réel c : 853\n"
     ]
    }
   ],
   "source": [
    "a = float(input('Entrez un réel a : '))\n",
    "b = float(input('Entrez un réel b : '))\n",
    "c = float(input('Entrez un réel c : ')) \n",
    "#on met dans a le minimum de a et b\n",
    "if a > b:\n",
    "   a, b = b, a\n",
    "#on met dans a le minimum de a et c\n",
    "if a > c:\n",
    "   a, c = c, a\n",
    "#desormais a contient le minimum de a, b et c\n",
    "#on met dans b le minimum de b et c\n",
    "if b > c:\n",
    "   b, c = c, b"
   ]
  },
  {
   "cell_type": "code",
   "execution_count": 17,
   "metadata": {},
   "outputs": [
    {
     "data": {
      "text/plain": [
       "(851.0, 852.0, 853.0)"
      ]
     },
     "execution_count": 17,
     "metadata": {},
     "output_type": "execute_result"
    }
   ],
   "source": [
    "a, b, c"
   ]
  },
  {
   "cell_type": "markdown",
   "metadata": {},
   "source": [
    "Version tri par insertion"
   ]
  },
  {
   "cell_type": "code",
   "execution_count": null,
   "metadata": {
    "collapsed": true
   },
   "outputs": [],
   "source": [
    "a = float(input('Entrez un réel a : '))\n",
    "b = float(input('Entrez un réel b : '))\n",
    "c = float(input('Entrez un réel c : '))\n",
    "#on prend le deuxième élément (b) et on l'insère dans la liste\n",
    "#déjà triée (a tout seul)\n",
    "if a > b:\n",
    "   a, b = b, a\n",
    "#on recommence avec c en l'insérant dans la liste a, b déjà triée\n",
    "if a < c < b:\n",
    "   b, c= c, b\n",
    "elif c < a < b:\n",
    "   a, b, c = c, a, b\n",
    "print(a, b, c,sep='<=')"
   ]
  },
  {
   "cell_type": "markdown",
   "metadata": {},
   "source": [
    "## Exercice 3.3 Une première fonction"
   ]
  },
  {
   "cell_type": "code",
   "execution_count": 2,
   "metadata": {
    "collapsed": true
   },
   "outputs": [],
   "source": [
    "def mystere(x):\n",
    "    \"\"\"Aide sur la fonction mystere\"\"\"\n",
    "    if x>15:\n",
    "        print('super')\n",
    "    print('peut mieux faire')"
   ]
  },
  {
   "cell_type": "code",
   "execution_count": 3,
   "metadata": {},
   "outputs": [
    {
     "name": "stdout",
     "output_type": "stream",
     "text": [
      "Help on function mystere in module __main__:\n",
      "\n",
      "mystere(x)\n",
      "    Aide sur la fonction mystere\n",
      "\n"
     ]
    }
   ],
   "source": [
    "help(mystere)"
   ]
  },
  {
   "cell_type": "code",
   "execution_count": 20,
   "metadata": {},
   "outputs": [
    {
     "name": "stdout",
     "output_type": "stream",
     "text": [
      "peut mieux faire\n"
     ]
    }
   ],
   "source": [
    "mystere(14)"
   ]
  },
  {
   "cell_type": "code",
   "execution_count": 21,
   "metadata": {},
   "outputs": [
    {
     "name": "stdout",
     "output_type": "stream",
     "text": [
      "super\n",
      "peut mieux faire\n"
     ]
    }
   ],
   "source": [
    "mystere(16)"
   ]
  },
  {
   "cell_type": "markdown",
   "metadata": {},
   "source": [
    "IL s'agit de remarquer ici que vu  l'identation (le décallage) le commande `print('peut mieux faire')` est exécutée, peu importe que le test ait renvoyé True ou False."
   ]
  },
  {
   "cell_type": "code",
   "execution_count": 1,
   "metadata": {
    "collapsed": true
   },
   "outputs": [],
   "source": [
    "def mystere2(x):\n",
    "    \"\"\"Aide sur la fonction mystere\"\"\"\n",
    "    if x>15:\n",
    "        print('super')\n",
    "    else:\n",
    "        print('peut mieux faire')\n",
    "    return None"
   ]
  },
  {
   "cell_type": "code",
   "execution_count": 2,
   "metadata": {},
   "outputs": [
    {
     "name": "stdout",
     "output_type": "stream",
     "text": [
      "super\n"
     ]
    }
   ],
   "source": [
    "mystere2(18)"
   ]
  },
  {
   "cell_type": "code",
   "execution_count": 3,
   "metadata": {},
   "outputs": [
    {
     "name": "stdout",
     "output_type": "stream",
     "text": [
      "super\n"
     ]
    }
   ],
   "source": [
    "message = mystere2(18)"
   ]
  },
  {
   "cell_type": "code",
   "execution_count": 5,
   "metadata": {},
   "outputs": [
    {
     "name": "stdout",
     "output_type": "stream",
     "text": [
      "None\n"
     ]
    }
   ],
   "source": [
    "print(message)"
   ]
  },
  {
   "cell_type": "code",
   "execution_count": 6,
   "metadata": {
    "collapsed": true
   },
   "outputs": [],
   "source": [
    "def mystere3(x):\n",
    "    \"\"\"Aide sur la fonction mystere\"\"\"\n",
    "    if x>15:\n",
    "        return('super')\n",
    "    else:\n",
    "        return('peut mieux faire')"
   ]
  },
  {
   "cell_type": "code",
   "execution_count": 7,
   "metadata": {},
   "outputs": [
    {
     "data": {
      "text/plain": [
       "'super'"
      ]
     },
     "execution_count": 7,
     "metadata": {},
     "output_type": "execute_result"
    }
   ],
   "source": [
    "mystere3(18)"
   ]
  },
  {
   "cell_type": "code",
   "execution_count": 8,
   "metadata": {
    "collapsed": true
   },
   "outputs": [],
   "source": [
    "message = mystere3(18)"
   ]
  },
  {
   "cell_type": "code",
   "execution_count": 9,
   "metadata": {},
   "outputs": [
    {
     "data": {
      "text/plain": [
       "'super'"
      ]
     },
     "execution_count": 9,
     "metadata": {},
     "output_type": "execute_result"
    }
   ],
   "source": [
    "message"
   ]
  },
  {
   "cell_type": "code",
   "execution_count": 10,
   "metadata": {
    "collapsed": true
   },
   "outputs": [],
   "source": [
    "def mystere4(x):\n",
    "    \"\"\"Aide sur la fonction mystere\"\"\"\n",
    "    if x>15:\n",
    "        return('super')\n",
    "    return('peut mieux faire')"
   ]
  },
  {
   "cell_type": "code",
   "execution_count": 10,
   "metadata": {
    "collapsed": true
   },
   "outputs": [],
   "source": [
    "def carre(x):    \n",
    "    return x**2"
   ]
  },
  {
   "cell_type": "code",
   "execution_count": 11,
   "metadata": {},
   "outputs": [
    {
     "data": {
      "text/plain": [
       "9"
      ]
     },
     "execution_count": 11,
     "metadata": {},
     "output_type": "execute_result"
    }
   ],
   "source": [
    "carre(3)"
   ]
  },
  {
   "cell_type": "code",
   "execution_count": 12,
   "metadata": {},
   "outputs": [],
   "source": [
    "a = carre(3)"
   ]
  },
  {
   "cell_type": "code",
   "execution_count": 13,
   "metadata": {},
   "outputs": [
    {
     "name": "stdout",
     "output_type": "stream",
     "text": [
      "9\n"
     ]
    }
   ],
   "source": [
    "print(a)"
   ]
  },
  {
   "cell_type": "markdown",
   "metadata": {},
   "source": [
    "## Exercice 3.4 Echange conditionnel de valeurs"
   ]
  },
  {
   "cell_type": "code",
   "execution_count": 23,
   "metadata": {},
   "outputs": [
    {
     "name": "stdout",
     "output_type": "stream",
     "text": [
      "Entrez un premier réel a : 14\n",
      "Entrez un second  réel b : 12\n",
      "a =  12.0  b =  14.0\n"
     ]
    }
   ],
   "source": [
    "a = float(input('Entrez un premier réel a : '))\n",
    "b = float(input('Entrez un second  réel b : '))\n",
    "if a > b:\n",
    "    a, b = b, a\n",
    "print('a = ', a,' b = ', b)"
   ]
  },
  {
   "cell_type": "markdown",
   "metadata": {},
   "source": [
    "## Exercice 3.5 Maximum et suites monotones"
   ]
  },
  {
   "cell_type": "code",
   "execution_count": 1,
   "metadata": {},
   "outputs": [],
   "source": [
    "def max2(a,b):\n",
    "    \"\"\"retourne le maximum de deux entiers a et b\"\"\"\n",
    "    if b > a:\n",
    "        return b\n",
    "    return a\n",
    "\n",
    "def max3V0(a, b, c):\n",
    "    if b >= a and b >= c:\n",
    "        return b       \n",
    "    elif c >= a and c >= b:\n",
    "        return c\n",
    "    return a  \n",
    "\n",
    "def max3V1(a, b, c):\n",
    "    if b > a:\n",
    "        a, b = b, a\n",
    "    if c > a:\n",
    "        a, c = c, a\n",
    "    return a    \n",
    "\n",
    "def max3V2(a, b, c):\n",
    "    a = max2(a, b)\n",
    "    a = max2(a, c)\n",
    "    return a \n",
    "\n",
    "def max3V3(a, b, c):\n",
    "    a = max2(a, b)\n",
    "    return max2(a, c)\n",
    "            \n",
    "def max3(a,b,c):\n",
    "    \"\"\"retourne le maximum de trois entiers a et b\"\"\"\n",
    "    return max2(max2(a, b), c)\n",
    "\n",
    "def monotone(x,y,z):\n",
    "    \"\"\"retourne True si x<=y<=z ou z<=y<=x et False sinon\"\"\"\n",
    "    return x <= y <= z or z <= y<= x\n",
    "\n",
    "def monotone2(x,y,z):\n",
    "    \"\"\"retourne True si x<=y<=z ou z<=y<=x et False sinon\"\"\"\n",
    "    if x <= y <= z or z <= y<= x:\n",
    "        return True\n",
    "    return False"
   ]
  },
  {
   "cell_type": "code",
   "execution_count": 12,
   "metadata": {},
   "outputs": [
    {
     "name": "stdout",
     "output_type": "stream",
     "text": [
      "Help on function max2 in module __main__:\n",
      "\n",
      "max2(a, b)\n",
      "    retourne le maximum de deuxs entiers a et b\n",
      "\n"
     ]
    }
   ],
   "source": [
    "help(max2)"
   ]
  },
  {
   "cell_type": "code",
   "execution_count": 13,
   "metadata": {},
   "outputs": [
    {
     "data": {
      "text/plain": [
       "'retourne le maximum de deuxs entiers a et b'"
      ]
     },
     "execution_count": 13,
     "metadata": {},
     "output_type": "execute_result"
    }
   ],
   "source": [
    "max2.__doc__"
   ]
  },
  {
   "cell_type": "code",
   "execution_count": 14,
   "metadata": {},
   "outputs": [
    {
     "data": {
      "text/plain": [
       "'max2'"
      ]
     },
     "execution_count": 14,
     "metadata": {},
     "output_type": "execute_result"
    }
   ],
   "source": [
    "max2.__name__"
   ]
  },
  {
   "cell_type": "markdown",
   "metadata": {},
   "source": [
    "# Boucles"
   ]
  },
  {
   "cell_type": "markdown",
   "metadata": {},
   "source": [
    "## Exercice 3.6"
   ]
  },
  {
   "cell_type": "code",
   "execution_count": 25,
   "metadata": {
    "collapsed": true
   },
   "outputs": [],
   "source": [
    "def mystere(n):\n",
    "    u = 0\n",
    "    for i in range(1, n + 1):\n",
    "        u = 3*u + 2\n",
    "    return u"
   ]
  },
  {
   "cell_type": "markdown",
   "metadata": {},
   "source": [
    "Cette fonction retourne le terme de rang $n$ de la suite arithmético-géométrique définie par $\\begin{cases} u_{0} = 0 \\\\ u_{n+1}=3u_{n}+2 \\end{cases}$."
   ]
  },
  {
   "cell_type": "markdown",
   "metadata": {},
   "source": [
    "## Exercice 3.7"
   ]
  },
  {
   "cell_type": "markdown",
   "metadata": {},
   "source": [
    "Soit $n \\in \\mathbb{N}^*$. On considère les deux sommes suivantes :\n",
    "$$S_n=\\sum_{k=1}^n \\dfrac{1}{k^2}\\qquad\\qquad I_n=\\sum_{k=1}^n \\dfrac{1}{(2k+1)^2}$$\n",
    "Pour tout $n \\in \\mathbb{N}^*$ on a $S_{n+1}=S_{n}+\\frac{1}{(n+1)^{2}}$   et    $I_{n+1}=I_{n}+\\dfrac{1}{(2n+3)^2}$.\n",
    "\n",
    "Pour tout $n \\geqslant 2$ on a $S_{n}=S_{n-1}+\\frac{1}{n^{2}}$   et    $I_{n}=I_{n-1}+\\dfrac{1}{(2n+1)^2}$."
   ]
  },
  {
   "cell_type": "code",
   "execution_count": 27,
   "metadata": {
    "collapsed": true
   },
   "outputs": [],
   "source": [
    "def S(n):\n",
    "    somme = 1\n",
    "    for k in range(2, n + 1):\n",
    "        somme += 1/k**2\n",
    "    return somme\n",
    "\n",
    "def I(n):\n",
    "    somme = 1/9\n",
    "    for k in range(2, n + 1):\n",
    "        somme += 1/(2*k + 1)**2\n",
    "    return somme"
   ]
  },
  {
   "cell_type": "code",
   "execution_count": 28,
   "metadata": {},
   "outputs": [
    {
     "data": {
      "text/plain": [
       "1.6349839001848923"
      ]
     },
     "execution_count": 28,
     "metadata": {},
     "output_type": "execute_result"
    }
   ],
   "source": [
    "S(100)"
   ]
  },
  {
   "cell_type": "code",
   "execution_count": 29,
   "metadata": {},
   "outputs": [
    {
     "data": {
      "text/plain": [
       "0.23122532283135178"
      ]
     },
     "execution_count": 29,
     "metadata": {},
     "output_type": "execute_result"
    }
   ],
   "source": [
    "I(100)"
   ]
  },
  {
   "cell_type": "markdown",
   "metadata": {},
   "source": [
    "## Exercice 3.8"
   ]
  },
  {
   "cell_type": "code",
   "execution_count": 15,
   "metadata": {
    "collapsed": true
   },
   "outputs": [],
   "source": [
    "# Question 1\n",
    "def puissance(x,n):\n",
    "    \"\"\"retourne x**n sans l'opérateur **\"\"\"\n",
    "    p = 1\n",
    "    for i in range(n):\n",
    "        p *= x\n",
    "    return p\n",
    "\n",
    "def puissancen(n):\n",
    "    \"\"\"retourne la fonction x -> x**n\"\"\"\n",
    "    return lambda x : puissance(x, n)\n",
    "    \n",
    "# Question 2\n",
    "def factorielle(n):\n",
    "    \"\"\"retourne 1x2x3x...x(n-1)xn\"\"\"\n",
    "    f = 1\n",
    "    for i in range(2,n+1):\n",
    "        f *= i\n",
    "    return f\n",
    "\n",
    "def factoriellerec(n):\n",
    "    \"\"\"Factorielle récursive\"\"\"\n",
    "    if n == 0:\n",
    "        return 1\n",
    "    return n*factoriellerec(n - 1)\n",
    "\n",
    "def puissancerec(a, n):\n",
    "    if n == 0:\n",
    "        return 1\n",
    "    return a*puissancerec(a, n - 1)"
   ]
  },
  {
   "cell_type": "code",
   "execution_count": 32,
   "metadata": {},
   "outputs": [
    {
     "data": {
      "text/plain": [
       "95367431640625"
      ]
     },
     "execution_count": 32,
     "metadata": {},
     "output_type": "execute_result"
    }
   ],
   "source": [
    "puissance(5, 20)"
   ]
  },
  {
   "cell_type": "code",
   "execution_count": 36,
   "metadata": {},
   "outputs": [
    {
     "data": {
      "text/plain": [
       "3628800"
      ]
     },
     "execution_count": 36,
     "metadata": {},
     "output_type": "execute_result"
    }
   ],
   "source": [
    "factorielle(10)"
   ]
  },
  {
   "cell_type": "code",
   "execution_count": 38,
   "metadata": {},
   "outputs": [
    {
     "data": {
      "text/plain": [
       "3628800"
      ]
     },
     "execution_count": 38,
     "metadata": {},
     "output_type": "execute_result"
    }
   ],
   "source": [
    "factoriellerec(10)"
   ]
  },
  {
   "cell_type": "code",
   "execution_count": 33,
   "metadata": {},
   "outputs": [
    {
     "data": {
      "text/plain": [
       "<function __main__.puissancen.<locals>.<lambda>>"
      ]
     },
     "execution_count": 33,
     "metadata": {},
     "output_type": "execute_result"
    }
   ],
   "source": [
    "puissancen(5)"
   ]
  },
  {
   "cell_type": "code",
   "execution_count": 35,
   "metadata": {},
   "outputs": [
    {
     "name": "stdout",
     "output_type": "stream",
     "text": [
      "0-1-4-9-16-25-36-49-64-81-"
     ]
    }
   ],
   "source": [
    "f = puissancen(2)\n",
    "for k in range(10):\n",
    "    print(f(k), end='-')"
   ]
  },
  {
   "cell_type": "markdown",
   "metadata": {},
   "source": [
    "# Boucle while"
   ]
  },
  {
   "cell_type": "markdown",
   "metadata": {},
   "source": [
    "## Exercice 3.9"
   ]
  },
  {
   "cell_type": "code",
   "execution_count": 4,
   "metadata": {},
   "outputs": [
    {
     "name": "stdout",
     "output_type": "stream",
     "text": [
      "Entrez votre code secret : 0100\n",
      "Code faux\n",
      "Entrez votre code secret : 0200\n",
      "Code faux\n",
      "Entrez votre code secret : 0300\n",
      "Code faux\n",
      "Carte inutilisable.\n"
     ]
    }
   ],
   "source": [
    "secret = \"0000\"\n",
    "essai = 1\n",
    "while essai <= 3 and input(\"Entrez votre code secret : \") != secret:\n",
    "    print(\"Code faux\")\n",
    "    essai += 1\n",
    "if essai == 4:\n",
    "    print(\"Carte inutilisable.\")\n",
    "else:\n",
    "    print(\"Code bon.\")"
   ]
  },
  {
   "cell_type": "markdown",
   "metadata": {},
   "source": [
    "Attention à bien placer le test sur le nombre d'essai avant le test du code saisi sinon un essai supplementaire est possible.\n",
    "\n",
    "Le `and` est _paresseux_, si son premier opérande est faux, les opérandes suivants ne sont pas évalués."
   ]
  },
  {
   "cell_type": "code",
   "execution_count": null,
   "metadata": {
    "collapsed": true
   },
   "outputs": [],
   "source": [
    "secret = \"0000\"\n",
    "for essai in range(3):\n",
    "    if input(\"Entrez votre code secret : \") == secret:\n",
    "        print(\"Code bon.\")\n",
    "        break\n",
    "    print(\"Code faux\")\n",
    "else:\n",
    "    print(\"Carte inutilisable.\")"
   ]
  },
  {
   "cell_type": "markdown",
   "metadata": {},
   "source": [
    "Dans la version ci-dessus on utilise une boucle `for` avec un `break` pour sortir de la boucle si le code correct est saisi et un `else` après le bloc du `for` qui n'est exécuté que s'il n'y a pas eu de sortie de boucle par un  `break` (donc ssi aucun code correct n'a été saisi en 3 essais)."
   ]
  },
  {
   "cell_type": "markdown",
   "metadata": {},
   "source": [
    "## Exercice 3.10"
   ]
  },
  {
   "cell_type": "markdown",
   "metadata": {},
   "source": [
    "La suite définie par $S_n=\\displaystyle \\sum_{k=1}^n \\frac{1}{k}$ est croissante et a pour limite $+\\infty$.\n",
    "\n",
    "Pour tout entier $n \\geqslant 1$, $S_{n+1}=S_{n}+\\frac{1}{n+1}$"
   ]
  },
  {
   "cell_type": "code",
   "execution_count": 5,
   "metadata": {
    "collapsed": true
   },
   "outputs": [],
   "source": [
    "def seuilharmonique(M):\n",
    "    \"\"\"Retourne le + petit entier n tel que sum(k, 1, n, 1/k) >= M\"\"\"\n",
    "    s, k = 1., 1\n",
    "    while s < M:\n",
    "        k += 1\n",
    "        s += 1./k\n",
    "    return k  "
   ]
  },
  {
   "cell_type": "markdown",
   "metadata": {},
   "source": [
    "# Boucles imbriquées"
   ]
  },
  {
   "cell_type": "markdown",
   "metadata": {},
   "source": [
    "## Exercice 3.11"
   ]
  },
  {
   "cell_type": "code",
   "execution_count": 7,
   "metadata": {
    "collapsed": true
   },
   "outputs": [],
   "source": [
    "def imbriquee(n):\n",
    "    for i in range(n):\n",
    "        for j in range(n):\n",
    "            print(i, j)\n",
    "        print(\"*\")\n",
    "    print(\"*\")"
   ]
  },
  {
   "cell_type": "code",
   "execution_count": 8,
   "metadata": {},
   "outputs": [
    {
     "name": "stdout",
     "output_type": "stream",
     "text": [
      "0 0\n",
      "0 1\n",
      "*\n",
      "1 0\n",
      "1 1\n",
      "*\n",
      "*\n"
     ]
    }
   ],
   "source": [
    "imbriquee(2)"
   ]
  },
  {
   "cell_type": "markdown",
   "metadata": {},
   "source": [
    "## Exercice 3.12"
   ]
  },
  {
   "cell_type": "markdown",
   "metadata": {},
   "source": [
    "$\\displaystyle\\sum_{i = 1}^{n}\\sum_{j=1}^{n} ij$"
   ]
  },
  {
   "cell_type": "code",
   "execution_count": 11,
   "metadata": {
    "collapsed": true
   },
   "outputs": [],
   "source": [
    "def rectangle(n):\n",
    "    s = 0\n",
    "    for i in range(1, n + 1):\n",
    "        for j in range(1, n + 1):\n",
    "            s += i*j\n",
    "    return s"
   ]
  },
  {
   "cell_type": "code",
   "execution_count": 12,
   "metadata": {},
   "outputs": [
    {
     "data": {
      "text/plain": [
       "25502500"
      ]
     },
     "execution_count": 12,
     "metadata": {},
     "output_type": "execute_result"
    }
   ],
   "source": [
    "rectangle(100)"
   ]
  },
  {
   "cell_type": "markdown",
   "metadata": {},
   "source": [
    "$\\displaystyle\\sum_{i = 1}^{n - 1}\\sum_{j=i + 1}^{n} i + j$"
   ]
  },
  {
   "cell_type": "code",
   "execution_count": 1,
   "metadata": {
    "collapsed": true
   },
   "outputs": [],
   "source": [
    "def triangle(n):\n",
    "    s = 0\n",
    "    for i in range(1, n):\n",
    "        for j in range(i + 1, n + 1):\n",
    "            s += i + j\n",
    "    return s"
   ]
  },
  {
   "cell_type": "code",
   "execution_count": 2,
   "metadata": {},
   "outputs": [
    {
     "data": {
      "text/plain": [
       "499950"
      ]
     },
     "execution_count": 2,
     "metadata": {},
     "output_type": "execute_result"
    }
   ],
   "source": [
    "triangle(100)"
   ]
  },
  {
   "cell_type": "markdown",
   "metadata": {},
   "source": [
    "$\\displaystyle\\sum_{j = 2}^{n}\\sum_{i=1}^{j-1} i + j$"
   ]
  },
  {
   "cell_type": "code",
   "execution_count": 3,
   "metadata": {
    "collapsed": true
   },
   "outputs": [],
   "source": [
    "def triangle2(n):\n",
    "    s = 0\n",
    "    for j in range(2, n + 1):\n",
    "        for i in range(1, j):\n",
    "            s += i + j\n",
    "    return s"
   ]
  },
  {
   "cell_type": "code",
   "execution_count": 4,
   "metadata": {},
   "outputs": [
    {
     "data": {
      "text/plain": [
       "499950"
      ]
     },
     "execution_count": 4,
     "metadata": {},
     "output_type": "execute_result"
    }
   ],
   "source": [
    "triangle2(100)"
   ]
  },
  {
   "cell_type": "markdown",
   "metadata": {},
   "source": [
    "# D'autres exercices "
   ]
  },
  {
   "cell_type": "markdown",
   "metadata": {},
   "source": [
    "## Exercice 3.13 Somme des carrés"
   ]
  },
  {
   "cell_type": "code",
   "execution_count": 19,
   "metadata": {
    "collapsed": true
   },
   "outputs": [],
   "source": [
    "def sommecarrefor(n):\n",
    "    s = 0\n",
    "    for k in range(1, n + 1):\n",
    "        s += k**2\n",
    "    return s"
   ]
  },
  {
   "cell_type": "code",
   "execution_count": 20,
   "metadata": {
    "collapsed": true
   },
   "outputs": [],
   "source": [
    "def sommecarrewhile(n):\n",
    "    s = 0\n",
    "    k = 0\n",
    "    while k < n:\n",
    "        k += 1\n",
    "        s += k**2\n",
    "    return s"
   ]
  },
  {
   "cell_type": "code",
   "execution_count": 21,
   "metadata": {},
   "outputs": [
    {
     "data": {
      "text/plain": [
       "[0, 1, 5, 14, 30, 55, 91, 140, 204, 285]"
      ]
     },
     "execution_count": 21,
     "metadata": {},
     "output_type": "execute_result"
    }
   ],
   "source": [
    "[sommecarrefor(n) for n in range(0, 10)]"
   ]
  },
  {
   "cell_type": "code",
   "execution_count": 22,
   "metadata": {},
   "outputs": [
    {
     "data": {
      "text/plain": [
       "[0, 1, 5, 14, 30, 55, 91, 140, 204, 285]"
      ]
     },
     "execution_count": 22,
     "metadata": {},
     "output_type": "execute_result"
    }
   ],
   "source": [
    "[sommecarrewhile(n) for n in range(0, 10)]"
   ]
  },
  {
   "cell_type": "code",
   "execution_count": 41,
   "metadata": {
    "collapsed": true
   },
   "outputs": [],
   "source": [
    "def sommecarre_int(n):\n",
    "    \"\"\"Somme des carrés avec typage int\"\"\"\n",
    "    return n*(n + 1)*(2*n + 1)//6"
   ]
  },
  {
   "cell_type": "code",
   "execution_count": 29,
   "metadata": {},
   "outputs": [
    {
     "data": {
      "text/plain": [
       "[0, 1, 5, 14, 30, 55, 91, 140, 204, 285]"
      ]
     },
     "execution_count": 29,
     "metadata": {},
     "output_type": "execute_result"
    }
   ],
   "source": [
    "[sommecarre_int(n) for n in range(0, 10)]"
   ]
  },
  {
   "cell_type": "code",
   "execution_count": 40,
   "metadata": {
    "collapsed": true
   },
   "outputs": [],
   "source": [
    "def sommecarre_float(n):\n",
    "    \"\"\"Somme des carrés avec typage float\"\"\"\n",
    "    return n*(n + 1)*(2*n + 1)/6"
   ]
  },
  {
   "cell_type": "markdown",
   "metadata": {},
   "source": [
    "Les deux fonctions ci-dessus utilisant la formule explicite $\\displaystyle \\sum_{k=1}^{n}\\frac{1}{k^{2}}=\\frac{n(n+1)(2n+1)}{6}$ diffèrent à partir de $10^{6}$ car la première retourne un entier (valeur exacte) et l'autre un flottant (représentation approchée d'un flottant)."
   ]
  },
  {
   "cell_type": "code",
   "execution_count": 39,
   "metadata": {
    "scrolled": true
   },
   "outputs": [
    {
     "data": {
      "text/plain": [
       "[True,\n",
       " True,\n",
       " True,\n",
       " True,\n",
       " True,\n",
       " True,\n",
       " False,\n",
       " False,\n",
       " False,\n",
       " False,\n",
       " False,\n",
       " False,\n",
       " False,\n",
       " False,\n",
       " False,\n",
       " False,\n",
       " False,\n",
       " False,\n",
       " False,\n",
       " False]"
      ]
     },
     "execution_count": 39,
     "metadata": {},
     "output_type": "execute_result"
    }
   ],
   "source": [
    "[sommecarre_float(10**n) == sommecarre_int(10**n) for n in range(0, 20)]"
   ]
  },
  {
   "cell_type": "markdown",
   "metadata": {},
   "source": [
    "## Exercice 3.14"
   ]
  },
  {
   "cell_type": "code",
   "execution_count": null,
   "metadata": {
    "collapsed": true
   },
   "outputs": [],
   "source": [
    "def approx_expoV0(x,n):\n",
    "    \"\"\"retourne 1+x+x^2/2!+....+x^n/n!\"\"\"\n",
    "    somme,terme, puissance, factorielle = 1,1,1,1\n",
    "    for i in range(1,n+1):\n",
    "        puissance = puissance * x\n",
    "        factorielle = factorielle * i\n",
    "        terme = puissance/factorielle\n",
    "        somme += terme\n",
    "    return round(somme,3) #on peut régler la précision de l'arrondi"
   ]
  },
  {
   "cell_type": "code",
   "execution_count": 42,
   "metadata": {
    "collapsed": true
   },
   "outputs": [],
   "source": [
    "def approx_expo(x,n):\n",
    "    \"\"\"retourne 1+x+x^2/2!+....+x^n/n!\"\"\"\n",
    "    somme,terme = 1,1\n",
    "    for i in range(1,n+1):\n",
    "        terme = terme*x/i\n",
    "        somme += terme\n",
    "    return round(somme,3) #on peut régler la précision de l'arrondi"
   ]
  },
  {
   "cell_type": "code",
   "execution_count": 43,
   "metadata": {},
   "outputs": [
    {
     "data": {
      "text/plain": [
       "54.598"
      ]
     },
     "execution_count": 43,
     "metadata": {},
     "output_type": "execute_result"
    }
   ],
   "source": [
    "approx_expo(4, 17)"
   ]
  },
  {
   "cell_type": "markdown",
   "metadata": {},
   "source": [
    "## Exercice 3.15"
   ]
  },
  {
   "cell_type": "code",
   "execution_count": 3,
   "metadata": {},
   "outputs": [],
   "source": [
    "from random import randint\n",
    "\n",
    "def devinette(n):\n",
    "    cible = randint(1, n)\n",
    "    ## choisit la cible au hasard entre 1 et n\n",
    "    reponse = int(input(\"Votre essai ? \"))\n",
    "    ## affiche \"Votre essai ?\", attend que l'utilisateur rentre une\n",
    "    ## valeur validée par entrée et convertit cette valeur en entier.\n",
    "    if reponse == cible:\n",
    "        print(\"Gagné !\")\n",
    "    else:\n",
    "        print(\"Perdu !\")\n",
    "        print(\"La réponse était\", cible)"
   ]
  },
  {
   "cell_type": "code",
   "execution_count": null,
   "metadata": {
    "collapsed": true
   },
   "outputs": [],
   "source": [
    "def devinette_while(n):\n",
    "    cible = randint(1, n)\n",
    "    ## choisit la cible au hasard entre 1 et n\n",
    "    reponse = int(input(\"Votre essai ? \"))\n",
    "    ## affiche \"Votre essai ?\", attend que l'utilisateur rentre une\n",
    "    ## valeur validée par entrée et convertit cette valeur en entier.\n",
    "    while reponse != cible:\n",
    "        if reponse < cible:\n",
    "            print(\"Plus grand!\")\n",
    "        else:\n",
    "            print(\"Plus petit\")\n",
    "        reponse = int(input(\"Votre essai ? \"))\n",
    "    print(\"Gagné !\")"
   ]
  },
  {
   "cell_type": "code",
   "execution_count": 7,
   "metadata": {},
   "outputs": [],
   "source": [
    "def devinette_while2(n):\n",
    "    cible = randint(1, n)\n",
    "    nbessai = 1\n",
    "    ## choisit la cible au hasaard entre 1 et n\n",
    "    reponse = int(input(\"Votre essai ? \"))\n",
    "    ## affiche \"Votre essai ?\", attend que l'utilisateur rentre une\n",
    "    ## valeur validée par entrée et convertit cette valeur en entier.\n",
    "    while reponse != cible:\n",
    "        if reponse < cible:\n",
    "            print(\"Plus grand!\")\n",
    "        else:\n",
    "            print(\"Plus petit\")\n",
    "        nbessai += 1\n",
    "        reponse = int(input(\"Votre essai ? \"))\n",
    "    print(\"Gagné en {} essais!\".format(nbessai))"
   ]
  },
  {
   "cell_type": "code",
   "execution_count": 8,
   "metadata": {},
   "outputs": [],
   "source": [
    "def devinette_while3(n):\n",
    "    cible = randint(1, n)\n",
    "    nbessai = 1\n",
    "    ## choisit la cible au hasaard entre 1 et n\n",
    "    reponse = int(input(\"Votre essai ? \"))\n",
    "    ## affiche \"Votre essai ?\", attend que l'utilisateur rentre une\n",
    "    ## valeur validée par entrée et convertit cette valeur en entier.\n",
    "    while reponse != cible:\n",
    "        if reponse < cible:\n",
    "            print(\"Plus grand!\")\n",
    "        elif reponse > cible:\n",
    "            print(\"Plus petit\")\n",
    "        nbessai += 1\n",
    "        reponse = int(input(\"Votre essai ? \"))\n",
    "    print(\"Gagné en {} essais!\".format(nbessai))"
   ]
  },
  {
   "cell_type": "code",
   "execution_count": 4,
   "metadata": {},
   "outputs": [],
   "source": [
    "def devinette_while4(n):\n",
    "    cible = randint(1, n)\n",
    "    nbessai = 1\n",
    "    ## choisit la cible au hasaard entre 1 et n\n",
    "    essaimax = int(input(\"Nombre maximum d'essais ? \"))    \n",
    "    ## affiche \"Votre essai ?\", attend que l'utilisateur rentre une\n",
    "    ## valeur validée par entrée et convertit cette valeur en entier.\n",
    "    trouve = False\n",
    "    while not trouve and nbessai <= essaimax:\n",
    "        reponse = int(input(\"Votre essai ? \"))\n",
    "        if reponse < cible:\n",
    "            print(\"Plus grand!\")\n",
    "        elif reponse > cible:\n",
    "            print(\"Plus petit\")\n",
    "        else:\n",
    "            trouve = True\n",
    "            print(\"Gagné en {} essais!\".format(nbessai))\n",
    "        nbessai += 1\n",
    "    if not trouve:\n",
    "        print(\"Perdu\")\n",
    "        print(\"Le nombre à deviner était {}\".format(cible))\n",
    "    "
   ]
  },
  {
   "cell_type": "code",
   "execution_count": 2,
   "metadata": {},
   "outputs": [],
   "source": [
    "def devinette_for3(n):\n",
    "    cible = randint(1, n)\n",
    "    nbessai = 1\n",
    "    ## choisit la cible au hasaard entre 1 et n\n",
    "    essaimax = int(input(\"Nombre maximum d'essais ? \"))    \n",
    "    ## affiche \"Votre essai ?\", attend que l'utilisateur rentre une\n",
    "    ## valeur validée par entrée et convertit cette valeur en entier.\n",
    "    for k in range(essaimax):\n",
    "        reponse = int(input(\"Votre essai ? \"))\n",
    "        if reponse < cible:\n",
    "            print(\"Plus grand!\")\n",
    "        elif reponse > cible:\n",
    "            print(\"Plus petit\")\n",
    "        else:           \n",
    "            print(\"Gagné en {} essais!\".format(nbessai))\n",
    "            break\n",
    "    else:\n",
    "        print(\"Perdu\")\n",
    "        print(\"Le nombre à deviner était {}\".format(cible))"
   ]
  },
  {
   "cell_type": "code",
   "execution_count": 59,
   "metadata": {},
   "outputs": [],
   "source": [
    "def devinette_rec(n):\n",
    "    \n",
    "    def jeudevine(nbessai):\n",
    "        \"\"\"Fonction devinette recursive avec nombre d'essais maximum\"\"\"\n",
    "        if nbessai > essaimax:\n",
    "            print(\"Perdu\")\n",
    "            print(\"Le nombre à deviner était {}\".format(cible))\n",
    "        else:        \n",
    "            reponse = int(input(\"Votre essai ? \"))\n",
    "            if reponse == cible:\n",
    "                print(\"Gagné en {} essais!\".format(nbessai))                \n",
    "            else:\n",
    "                if reponse < cible:\n",
    "                    print(\"Plus grand!\")\n",
    "                else:\n",
    "                    print(\"Plus petit\")\n",
    "                jeudevine(nbessai + 1)\n",
    "                \n",
    "    cible = randint(1, n)    \n",
    "    ## choisit la cible au hasard entre 1 et n\n",
    "    essaimax = int(input(\"Nombre maximum d'essais ? \"))\n",
    "    jeudevine(1)          "
   ]
  },
  {
   "cell_type": "code",
   "execution_count": 60,
   "metadata": {},
   "outputs": [
    {
     "name": "stdout",
     "output_type": "stream",
     "text": [
      "Nombre maximum d'essais ? 3\n",
      "Votre essai ? 50\n",
      "Plus grand!\n",
      "Votre essai ? 75\n",
      "Plus grand!\n",
      "Votre essai ? 88\n",
      "Plus petit\n",
      "Perdu\n",
      "Le nombre à deviner était 87\n"
     ]
    }
   ],
   "source": [
    "devinette_rec(100)"
   ]
  },
  {
   "cell_type": "markdown",
   "metadata": {},
   "source": [
    "## Exercice 3.16 Test de primalité"
   ]
  },
  {
   "cell_type": "code",
   "execution_count": 111,
   "metadata": {
    "collapsed": true
   },
   "outputs": [],
   "source": [
    "def est_premier(n):\n",
    "    # le plus grand diviseur premier de n distinct de n est <= sqrt(n)\n",
    "    for diviseur in range(2, int(sqrt(n)) + 1):\n",
    "        if n%diviseur == 0:\n",
    "            return False\n",
    "    return True if n > 1 else False\n",
    "        "
   ]
  },
  {
   "cell_type": "code",
   "execution_count": 110,
   "metadata": {},
   "outputs": [
    {
     "data": {
      "text/plain": [
       "[(1, False),\n",
       " (2, True),\n",
       " (3, True),\n",
       " (4, False),\n",
       " (5, True),\n",
       " (6, False),\n",
       " (7, True),\n",
       " (8, False),\n",
       " (9, False),\n",
       " (10, False),\n",
       " (11, True),\n",
       " (12, False),\n",
       " (13, True),\n",
       " (14, False),\n",
       " (15, False),\n",
       " (16, False),\n",
       " (17, True),\n",
       " (18, False),\n",
       " (19, True),\n",
       " (20, False),\n",
       " (21, False),\n",
       " (22, False),\n",
       " (23, True),\n",
       " (24, False),\n",
       " (25, False),\n",
       " (26, False),\n",
       " (27, False),\n",
       " (28, False),\n",
       " (29, True),\n",
       " (30, False),\n",
       " (31, True),\n",
       " (32, False),\n",
       " (33, False),\n",
       " (34, False),\n",
       " (35, False),\n",
       " (36, False),\n",
       " (37, True),\n",
       " (38, False),\n",
       " (39, False),\n",
       " (40, False),\n",
       " (41, True),\n",
       " (42, False),\n",
       " (43, True),\n",
       " (44, False),\n",
       " (45, False),\n",
       " (46, False),\n",
       " (47, True),\n",
       " (48, False),\n",
       " (49, False),\n",
       " (50, False),\n",
       " (51, False),\n",
       " (52, False),\n",
       " (53, True),\n",
       " (54, False),\n",
       " (55, False),\n",
       " (56, False),\n",
       " (57, False),\n",
       " (58, False),\n",
       " (59, True),\n",
       " (60, False),\n",
       " (61, True),\n",
       " (62, False),\n",
       " (63, False),\n",
       " (64, False),\n",
       " (65, False),\n",
       " (66, False),\n",
       " (67, True),\n",
       " (68, False),\n",
       " (69, False),\n",
       " (70, False),\n",
       " (71, True),\n",
       " (72, False),\n",
       " (73, True),\n",
       " (74, False),\n",
       " (75, False),\n",
       " (76, False),\n",
       " (77, False),\n",
       " (78, False),\n",
       " (79, True),\n",
       " (80, False),\n",
       " (81, False),\n",
       " (82, False),\n",
       " (83, True),\n",
       " (84, False),\n",
       " (85, False),\n",
       " (86, False),\n",
       " (87, False),\n",
       " (88, False),\n",
       " (89, True),\n",
       " (90, False),\n",
       " (91, False),\n",
       " (92, False),\n",
       " (93, False),\n",
       " (94, False),\n",
       " (95, False),\n",
       " (96, False),\n",
       " (97, True),\n",
       " (98, False),\n",
       " (99, False),\n",
       " (100, False)]"
      ]
     },
     "execution_count": 110,
     "metadata": {},
     "output_type": "execute_result"
    }
   ],
   "source": [
    "[(n, est_premier(n)) for n in range(1, 101)]"
   ]
  },
  {
   "cell_type": "code",
   "execution_count": 112,
   "metadata": {},
   "outputs": [
    {
     "data": {
      "text/plain": [
       "False"
      ]
     },
     "execution_count": 112,
     "metadata": {},
     "output_type": "execute_result"
    }
   ],
   "source": [
    "est_premier(51552127)"
   ]
  },
  {
   "cell_type": "markdown",
   "metadata": {},
   "source": [
    "La fonction implémentée effectue au plus $\\sqrt{n}$ divisions si $n$ est premier"
   ]
  },
  {
   "cell_type": "markdown",
   "metadata": {},
   "source": [
    "## Exercice 3.17 Quel jour sommes-nous ?"
   ]
  },
  {
   "cell_type": "code",
   "execution_count": 92,
   "metadata": {
    "collapsed": true
   },
   "outputs": [],
   "source": [
    "def bissextile(n):\n",
    "    return (n%100 != 0 and n%4 == 0) or n%400 == 0"
   ]
  },
  {
   "cell_type": "code",
   "execution_count": 93,
   "metadata": {},
   "outputs": [
    {
     "data": {
      "text/plain": [
       "(True, False, True, False)"
      ]
     },
     "execution_count": 93,
     "metadata": {},
     "output_type": "execute_result"
    }
   ],
   "source": [
    "bissextile(2012), bissextile(2100), bissextile(2000), bissextile(2015)"
   ]
  },
  {
   "cell_type": "code",
   "execution_count": 98,
   "metadata": {
    "collapsed": true
   },
   "outputs": [],
   "source": [
    "def premierjanvier(n):\n",
    "    \"\"\"Retourne le jour de la semaine codé de 0 pour lundi à 6 pour dimanchedu premier janvier de l'année n\n",
    "    sachant que le premier janvier 2013 était un mardi.\n",
    "    Fonctionne jusqu'au 1er janvier 1583 (debut du calendrier grégorien).\"\"\"\n",
    "    semaine = [\"lundi\", \"mardi\",\"mercredi\",\"jeudi\",\"vendredi\",\"samedi\",\"dimanche\"]\n",
    "    jour = 1\n",
    "    if n > 2013:\n",
    "        courant, fin = 2013, n\n",
    "        increment = 1\n",
    "    elif n < 2013:\n",
    "        courant, fin = 2012, n - 1\n",
    "        increment = -1\n",
    "    else:\n",
    "        courant, fin = 2013, 2013\n",
    "    while courant != fin:\n",
    "        if bissextile(courant):\n",
    "            jour = (jour + 366*increment)%7\n",
    "        else:\n",
    "            jour = (jour + 365*increment)%7\n",
    "        courant += increment\n",
    "    return semaine[jour]"
   ]
  },
  {
   "cell_type": "code",
   "execution_count": 99,
   "metadata": {},
   "outputs": [
    {
     "data": {
      "text/plain": [
       "('dimanche', 'samedi')"
      ]
     },
     "execution_count": 99,
     "metadata": {},
     "output_type": "execute_result"
    }
   ],
   "source": [
    "premierjanvier(1950),premierjanvier(2050)"
   ]
  },
  {
   "cell_type": "code",
   "execution_count": 105,
   "metadata": {
    "collapsed": true
   },
   "outputs": [],
   "source": [
    "def joursemaine(jour, mois, annee):\n",
    "    \"\"\"Retourne le jour de la semaine  d'une date du calendrier grégorien. \n",
    "    Fonctionne jusqu'au 1er novembre 1582 (debut du calendrier grégorien).\"\"\" \n",
    "    semaine = [\"lundi\", \"mardi\",\"mercredi\",\"jeudi\",\"vendredi\",\"samedi\",\"dimanche\"]\n",
    "    #nombre de jours par mois dans une année normale\n",
    "    jourmois = [31,28,31,30,31,30,31,31,30,31,30,31]\n",
    "    if bissextile(annee):\n",
    "        jourmois[1] += 1\n",
    "    rangjour = 0\n",
    "    for k in range(1, mois):\n",
    "        rangjour += jourmois[k - 1]\n",
    "    rangjour += jour\n",
    "    #index du jour de la semaine du premier janvier\n",
    "    premier = semaine.index(premierjanvier(annee)) \n",
    "    return semaine[(premier  + rangjour - 1)%7]"
   ]
  },
  {
   "cell_type": "code",
   "execution_count": 103,
   "metadata": {},
   "outputs": [
    {
     "data": {
      "text/plain": [
       "'dimanche'"
      ]
     },
     "execution_count": 103,
     "metadata": {},
     "output_type": "execute_result"
    }
   ],
   "source": [
    "joursemaine(12,7,1998)"
   ]
  },
  {
   "cell_type": "code",
   "execution_count": 104,
   "metadata": {},
   "outputs": [
    {
     "data": {
      "text/plain": [
       "'mardi'"
      ]
     },
     "execution_count": 104,
     "metadata": {},
     "output_type": "execute_result"
    }
   ],
   "source": [
    "joursemaine(8,5,1945)"
   ]
  },
  {
   "cell_type": "markdown",
   "metadata": {},
   "source": [
    "## Exercice bonus Suite de Fibonacci"
   ]
  },
  {
   "cell_type": "code",
   "execution_count": 46,
   "metadata": {
    "collapsed": true
   },
   "outputs": [],
   "source": [
    "def fibo(n):\n",
    "    \"\"\"Retourne le terme de rang n de la suite de Fibonacci\"\"\"\n",
    "    (a, b) = (1, 1)\n",
    "    for k in range(1, n):\n",
    "        (a, b) = (b, a + b)\n",
    "    return a"
   ]
  },
  {
   "cell_type": "code",
   "execution_count": 47,
   "metadata": {},
   "outputs": [
    {
     "data": {
      "text/plain": [
       "55"
      ]
     },
     "execution_count": 47,
     "metadata": {},
     "output_type": "execute_result"
    }
   ],
   "source": [
    "fibo(10)"
   ]
  },
  {
   "cell_type": "code",
   "execution_count": 48,
   "metadata": {},
   "outputs": [
    {
     "data": {
      "text/plain": [
       "[1.0,\n",
       " 1.6181818181818182,\n",
       " 1.6180339985218033,\n",
       " 1.6180339887505408,\n",
       " 1.618033988749895,\n",
       " 1.618033988749895,\n",
       " 1.618033988749895,\n",
       " 1.618033988749895,\n",
       " 1.618033988749895,\n",
       " 1.618033988749895,\n",
       " 1.618033988749895]"
      ]
     },
     "execution_count": 48,
     "metadata": {},
     "output_type": "execute_result"
    }
   ],
   "source": [
    "[fibo(n+1)/fibo(n) for n in range(0, 101, 10)]"
   ]
  },
  {
   "cell_type": "markdown",
   "metadata": {},
   "source": [
    "On retrouve que le quotient de deux termes successifs de la suite de Fibonacci tend vers le _nombre d'or_ $\\frac{1+\\sqrt{5}}{2}$."
   ]
  },
  {
   "cell_type": "markdown",
   "metadata": {},
   "source": [
    "## Exercice bonus"
   ]
  },
  {
   "cell_type": "markdown",
   "metadata": {},
   "source": [
    "On considère la suite définie par : $u_0=1   \\text{ et }  \\forall n \\in \\mathbb{N},\\ u_{n+1}=\\sqrt{u_n^2+\\dfrac{1}{2^n}}.$"
   ]
  },
  {
   "cell_type": "code",
   "execution_count": 73,
   "metadata": {
    "collapsed": true
   },
   "outputs": [],
   "source": [
    "from math import sqrt\n",
    "\n",
    "def terme(n):\n",
    "    \"\"\"calcul du terme de rang n de la suite définie par u(0)=1 et u(n)=sqrt(u(n-1)**2+1/2**(n-1)\"\"\"\n",
    "    # initialisation de la variable u contenant le terme u(n)\n",
    "    u = 1\n",
    "    p = 1 #puissance de 2\n",
    "    for i in range(n):\n",
    "        # attention i désigne l'indice du terme précédent        \n",
    "        u = sqrt(u**2 + 1/p)\n",
    "        p = 2*p\n",
    "    return u"
   ]
  },
  {
   "cell_type": "code",
   "execution_count": 74,
   "metadata": {},
   "outputs": [
    {
     "data": {
      "text/plain": [
       "[1.4142135623730951,\n",
       " 1.7314868971493835,\n",
       " 1.7320508075688763,\n",
       " 1.7320508075688763,\n",
       " 1.7320508075688763]"
      ]
     },
     "execution_count": 74,
     "metadata": {},
     "output_type": "execute_result"
    }
   ],
   "source": [
    "[terme(10**k) for k in range(0, 5)]"
   ]
  },
  {
   "cell_type": "markdown",
   "metadata": {},
   "source": [
    "On peut conjecturer que la suite $\\left(u_{n}\\right)$ converge vers $\\sqrt{3}$"
   ]
  },
  {
   "cell_type": "code",
   "execution_count": 62,
   "metadata": {
    "collapsed": true
   },
   "outputs": [],
   "source": [
    "def seuil(e):\n",
    "    \"\"\"retourne le plus petit entier n tel que abs(u(n)-l)<=e\"\"\"\n",
    "    n,u = 0,1\n",
    "    l = sqrt(3)\n",
    "    while abs(u-l)>e:\n",
    "        u = sqrt(u**2+1/2**n)\n",
    "        n += 1\n",
    "    return n"
   ]
  },
  {
   "cell_type": "markdown",
   "metadata": {},
   "source": [
    "## Exercice bonus  Suite de Syracuse"
   ]
  },
  {
   "cell_type": "code",
   "execution_count": 75,
   "metadata": {
    "collapsed": true
   },
   "outputs": [],
   "source": [
    "def syracuse(u,n):\n",
    "    \"\"\"affiche les n premiers termes (de 0 à n-1) de la suite de syracuse de valeur initiale u(0)=u\"\"\"\n",
    "    #affichage du terme de rang 0\n",
    "    print('u(%s)=%s'%(0,u),end='')\n",
    "    for i in range(1,n):\n",
    "        if u%2 == 0:\n",
    "            u = u//2\n",
    "        else:\n",
    "            u = 3*u + 1\n",
    "        #affichage du terme de rang i\n",
    "        print(',u(%s)=%s'%(i,u),end='')"
   ]
  },
  {
   "cell_type": "code",
   "execution_count": 76,
   "metadata": {},
   "outputs": [
    {
     "name": "stdout",
     "output_type": "stream",
     "text": [
      "u(0)=5,u(1)=16,u(2)=8,u(3)=4,u(4)=2,u(5)=1,u(6)=4,u(7)=2,u(8)=1"
     ]
    }
   ],
   "source": [
    "syracuse(5, 9)"
   ]
  },
  {
   "cell_type": "code",
   "execution_count": 77,
   "metadata": {
    "collapsed": true
   },
   "outputs": [],
   "source": [
    "def first1syracuse(u):\n",
    "    \"\"\"affiche le rang du premier 1 dans la suite de syracuse de valeur initiale u(0)=u\"\"\"\n",
    "    # i contient le rang du terme\n",
    "    i = 0\n",
    "    while u != 1:\n",
    "        i += 1        \n",
    "        if u%2 == 0:\n",
    "            u = u//2\n",
    "        else:\n",
    "            u = 3*u + 1\n",
    "    return i"
   ]
  },
  {
   "cell_type": "code",
   "execution_count": 78,
   "metadata": {
    "collapsed": true
   },
   "outputs": [],
   "source": [
    "def maxsyracuse(u):\n",
    "    \"\"\"affiche la plus grande valeur atteinte jusqu'à l'apparition du premier 1 dans la suite de syracuse telle que u(0)=u\"\"\"\n",
    "    # i pour le rang, m pour le maximum \n",
    "    i, m = 0, u\n",
    "    while u != 1:\n",
    "        i += 1        \n",
    "        if u%2 == 0:\n",
    "            u = u//2\n",
    "        else:\n",
    "            u = 3*u + 1\n",
    "        if u > m:\n",
    "            m = u\n",
    "    return m\n",
    "\n",
    "def maxpremier1(n):\n",
    "    \"\"\"Pour une suite de Syracuse telle que 1<=u(0)<=n, retourne la plus grande valeur de first1syracuse(u) ainsi que la valeur de u(0) correspondante\"\"\"\n",
    "    u, m = 1, 0 # initialisation du rang maximal et du u(0) correspondant\n",
    "    for v in range(2,n+1):\n",
    "        rang = first1syracuse(v)\n",
    "        if rang > m:\n",
    "            u, m = v, rang\n",
    "    return m,u\n",
    "\n",
    "def maxpremier1liste(n):\n",
    "    \"\"\"idem mais affiche la liste des u(0) pour lesquels ce maximum est atteint\"\"\"\n",
    "    L,m = [1],0\n",
    "    for v in range(2,n+1):\n",
    "        rang = first1syracuse(v)\n",
    "        if rang > m:\n",
    "            L= [v]\n",
    "            m = rang\n",
    "        elif rang == m:\n",
    "            L.append(v)\n",
    "    return m,L"
   ]
  },
  {
   "cell_type": "code",
   "execution_count": 79,
   "metadata": {},
   "outputs": [
    {
     "data": {
      "text/plain": [
       "(112, [54, 55])"
      ]
     },
     "execution_count": 79,
     "metadata": {},
     "output_type": "execute_result"
    }
   ],
   "source": [
    "maxpremier1liste(55)"
   ]
  }
 ],
 "metadata": {
  "kernelspec": {
   "display_name": "Python 3",
   "language": "python",
   "name": "python3"
  },
  "language_info": {
   "codemirror_mode": {
    "name": "ipython",
    "version": 3
   },
   "file_extension": ".py",
   "mimetype": "text/x-python",
   "name": "python",
   "nbconvert_exporter": "python",
   "pygments_lexer": "ipython3",
   "version": "3.6.6"
  }
 },
 "nbformat": 4,
 "nbformat_minor": 1
}
