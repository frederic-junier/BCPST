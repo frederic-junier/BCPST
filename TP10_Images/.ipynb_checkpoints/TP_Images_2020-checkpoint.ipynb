{
 "cells": [
  {
   "cell_type": "markdown",
   "metadata": {},
   "source": [
    "# TP Images 852, corrigé"
   ]
  },
  {
   "cell_type": "markdown",
   "metadata": {},
   "source": [
    "## Import des bibliothèques"
   ]
  },
  {
   "cell_type": "code",
   "execution_count": 4,
   "metadata": {},
   "outputs": [],
   "source": [
    "from PIL import Image\n",
    "import numpy as np\n",
    "import matplotlib.pyplot as plt"
   ]
  },
  {
   "cell_type": "code",
   "execution_count": 5,
   "metadata": {},
   "outputs": [],
   "source": [
    "%matplotlib inline"
   ]
  },
  {
   "cell_type": "markdown",
   "metadata": {},
   "source": [
    "## Un premier exemple"
   ]
  },
  {
   "cell_type": "code",
   "execution_count": 2,
   "metadata": {},
   "outputs": [],
   "source": [
    "def miroir(fichier):\n",
    "    \"\"\"prend en entrée un fichier image et retourne l'image de l'image\n",
    "     obtenue par une réflexion par rapport à l'axe vertical droit\n",
    "    \"\"\"\n",
    "    im=Image.open(fichier)\n",
    "    pixels = np.array(im)\n",
    "    hauteur, largeur = pixels.shape[:2]\n",
    "    pixels_res = np.zeros_like(pixels)\n",
    "    for i in range(hauteur):\n",
    "        for j in range(largeur):\n",
    "            pixels_res[i, j,:] = pixels[i, largeur - 1 - j,:]\n",
    "    img_res = Image.fromarray(pixels_res)\n",
    "    img_res.save(\"miroir\"+fichier)\n",
    "    img_res.show()\n",
    "    \n",
    "    \n",
    "def miroir2(fichier):\n",
    "    \"\"\"prend en entrée un fichier image et retourne l'image de l'image\n",
    "     obtenue par une réflexion par rapport à l'axe vertical droit\n",
    "    \"\"\"\n",
    "    im=Image.open(fichier)\n",
    "    pixels = np.array(im)\n",
    "    hauteur, largeur = pixels.shape[:2]\n",
    "    pixels_res = np.zeros_like(pixels)\n",
    "    for i in range(hauteur):\n",
    "        for j in range(largeur):\n",
    "            pixels_res[i, j] = pixels[i, largeur - 1 - j]\n",
    "    img_res = Image.fromarray(pixels_res)\n",
    "    img_res.save(\"miroir\"+fichier)\n",
    "    img_res.show()"
   ]
  },
  {
   "cell_type": "code",
   "execution_count": 22,
   "metadata": {},
   "outputs": [
    {
     "name": "stdout",
     "output_type": "stream",
     "text": [
      "10_Images_Correction.py  \u001b[0m\u001b[01;32m852-correc-TPImages-2018-md.py\u001b[0m*  \u001b[01;35mmystere.png\u001b[0m\r\n",
      "10_Images_Eleves.py      \u001b[01;35mlena.png\u001b[0m                         \u001b[01;35mplatane.jpg\u001b[0m\r\n",
      "10_Images_numpy.pdf      \u001b[01;32mMakefile\u001b[0m*                        Untitled.ipynb\r\n",
      "10_Images_numpy.tex      \u001b[01;35mmiroir_valleluna.jpg\u001b[0m             \u001b[01;35mvalleluna.jpg\u001b[0m\r\n"
     ]
    }
   ],
   "source": [
    "%ls"
   ]
  },
  {
   "cell_type": "code",
   "execution_count": 6,
   "metadata": {},
   "outputs": [],
   "source": [
    "miroir2('valleluna.jpg')"
   ]
  },
  {
   "cell_type": "markdown",
   "metadata": {},
   "source": [
    "* L'image initiale :\n",
    "\n",
    "!['valleluna.jpg'](valleluna.jpg)\n",
    "\n",
    "* L'image miroir :\n",
    "\n",
    "!['miroir_valleluna.jpg'](miroirvalleluna.jpg)"
   ]
  },
  {
   "cell_type": "markdown",
   "metadata": {},
   "source": [
    "## Exercice 1  : _Passage en niveau de gris_"
   ]
  },
  {
   "cell_type": "code",
   "execution_count": 124,
   "metadata": {},
   "outputs": [],
   "source": [
    "def gris(imsource, coeff):\n",
    "    \"\"\" coeff est une liste composée de 3 éléments \"\"\"\n",
    "    im = Image.open(imsource)\n",
    "    pixels = np.array(im)\n",
    "    hauteur, largeur = pixels.shape[:2]\n",
    "    pixels_res = np.zeros_like(pixels)\n",
    "    somme_coef = np.sum(coeff)\n",
    "    for j in range(largeur):\n",
    "        for i in range(hauteur):\n",
    "            pixels_res[i, j] = int(np.sum(pixels[i,j,:] * coeff)/somme_coef)\n",
    "    img_res = Image.fromarray(pixels_res)\n",
    "    img_res.save(\"gris\"+imsource)\n",
    "    img_res.show() \n",
    "    \n",
    "def gris2(imsource, coeff):\n",
    "    \"\"\" coeff est une liste composée de 3 éléments \"\"\"\n",
    "    im = Image.open(imsource)\n",
    "    pixels = np.array(im)\n",
    "    hauteur, largeur = pixels.shape[:2]\n",
    "    somme_coef = np.sum(coeff)\n",
    "    for j in range(largeur):\n",
    "        for i in range(hauteur):\n",
    "            pixels[i, j] = int(np.sum(pixels[i,j,:] * coeff)/somme_coef)\n",
    "    img_res = Image.fromarray(pixels)\n",
    "    img_res.save(\"gris\"+imsource)\n",
    "    img_res.show() "
   ]
  },
  {
   "cell_type": "code",
   "execution_count": 34,
   "metadata": {},
   "outputs": [],
   "source": [
    "gris(\"valleluna.jpg\", [30, 59, 11])"
   ]
  },
  {
   "cell_type": "code",
   "execution_count": 125,
   "metadata": {},
   "outputs": [],
   "source": [
    "gris2(\"valleluna.jpg\", [30, 59, 11])"
   ]
  },
  {
   "cell_type": "markdown",
   "metadata": {},
   "source": [
    "* Conversion de `valleluna.jpg` en niveaux de gris :\n",
    "    \n",
    "!['grisvalleluna.jpg'](grisvalleluna.jpg)"
   ]
  },
  {
   "cell_type": "markdown",
   "metadata": {},
   "source": [
    "## Exercice 2 : _Négatif / Monochrome_"
   ]
  },
  {
   "cell_type": "code",
   "execution_count": 7,
   "metadata": {},
   "outputs": [],
   "source": [
    "def negatif(imsource):\n",
    "    \"\"\" Retourne le négatif d'une image \"\"\"\n",
    "    im = Image.open(imsource)\n",
    "    pixels = np.array(im)\n",
    "    pixels_res = np.zeros_like(pixels)\n",
    "    pixels_res = 255 - pixels\n",
    "    img_res = Image.fromarray(pixels_res)\n",
    "    img_res.save(\"negatif\"+imsource)\n",
    "    img_res.show() \n",
    "    \n",
    "def negatif2(imsource):\n",
    "    \"\"\" Retourne le négatif d'une image \"\"\"\n",
    "    im = Image.open(imsource)\n",
    "    pixels = np.array(im)\n",
    "    img_res = Image.fromarray(255 - pixels)\n",
    "    img_res.save(\"negatif\"+imsource)\n",
    "    img_res.show() "
   ]
  },
  {
   "cell_type": "code",
   "execution_count": 8,
   "metadata": {},
   "outputs": [],
   "source": [
    "negatif('valleluna.jpg')"
   ]
  },
  {
   "cell_type": "code",
   "execution_count": 40,
   "metadata": {},
   "outputs": [],
   "source": [
    "negatif('grisvalleluna.jpg')"
   ]
  },
  {
   "cell_type": "markdown",
   "metadata": {},
   "source": [
    "* Le négatif de l'image `valleluna.jpg` :\n",
    "\n",
    "!['negatifvalleluna.jpg'](negatifvalleluna.jpg)\n",
    "\n",
    "* Le négatif de l'image en niveaux de gris  `grisvalleluna.jpg` :\n",
    "\n",
    "!['negatifvalleluna.jpg'](negatifgrisvalleluna.jpg)\n"
   ]
  },
  {
   "cell_type": "markdown",
   "metadata": {},
   "source": [
    "## Exercice 3 _Extraction de composantes_"
   ]
  },
  {
   "cell_type": "code",
   "execution_count": 126,
   "metadata": {},
   "outputs": [],
   "source": [
    "def monochrome(imsource):\n",
    "    \"\"\"prend en entrée un fichier image et retourne une version monochome pour chacune des couleurs\n",
    "    \"\"\"\n",
    "    im=Image.open(imsource)\n",
    "    pixels = np.array(im)\n",
    "    hauteur, largeur =pixels.shape[:2]\n",
    "    pixels_res_rouge = np.zeros_like(pixels)\n",
    "    pixels_res_vert = np.zeros_like(pixels)\n",
    "    pixels_res_bleu = np.zeros_like(pixels)\n",
    "    for i in range(hauteur):\n",
    "        for j in range(largeur):\n",
    "            [r, g, b] = pixels[i,j,:]\n",
    "            pixels_res_rouge[i, j] = [r, 0, 0]\n",
    "            pixels_res_vert[i, j] = [0, g, 0]\n",
    "            pixels_res_bleu[i, j] = [0, 0, b]\n",
    "    img_res_r = Image.fromarray(pixels_res_rouge)\n",
    "    img_res_r.save(\"rouge\"+imsource)\n",
    "    img_res_r.show()\n",
    "    img_res_v = Image.fromarray(pixels_res_vert)\n",
    "    img_res_v.save(\"vert\"+imsource)\n",
    "    img_res_v.show()\n",
    "    img_res_b = Image.fromarray(pixels_res_bleu)\n",
    "    img_res_b.save(\"bleu\"+imsource)\n",
    "    img_res_b.show()  \n",
    "    \n",
    "def monochrome_slicing(imsource):\n",
    "    \"\"\"prend en entrée un fichier image et retourne une version monochome pour chacune des couleurs\n",
    "    \"\"\"\n",
    "    im=Image.open(imsource)\n",
    "    pixels = np.array(im)\n",
    "    pixels_res_rouge = np.zeros_like(pixels)\n",
    "    pixels_res_rouge[:,:,0] = pixels[:,:,0] \n",
    "    pixels_res_vert = np.zeros_like(pixels)\n",
    "    pixels_res_vert[:,:,1] = pixels[:,:,1] \n",
    "    pixels_res_bleu = np.zeros_like(pixels)\n",
    "    pixels_res_bleu[:,:,2] = pixels[:,:,2] \n",
    "    img_res_r = Image.fromarray(pixels_res_rouge)\n",
    "    img_res_r.save(\"rouge\"+imsource)\n",
    "    img_res_r.show()\n",
    "    img_res_v = Image.fromarray(pixels_res_vert)\n",
    "    img_res_v.save(\"vert\"+imsource)\n",
    "    img_res_v.show()\n",
    "    img_res_b = Image.fromarray(pixels_res_bleu)\n",
    "    img_res_b.save(\"bleu\"+imsource)\n",
    "    img_res_b.show()"
   ]
  },
  {
   "cell_type": "code",
   "execution_count": 61,
   "metadata": {},
   "outputs": [],
   "source": [
    "monochrome_slicing('valleluna.jpg')"
   ]
  },
  {
   "cell_type": "markdown",
   "metadata": {},
   "source": [
    "* Composante rouge de `valleluna.jpg` : \n",
    "    \n",
    "![\"rougevalleluna.jpg\"](rougevalleluna.jpg)\n",
    "\n",
    "* Composante verte de `valleluna.jpg` : \n",
    "    \n",
    "![\"vertvalleluna.jpg\"](vertvalleluna.jpg)\n",
    "\n",
    "* Composante bleue de `valleluna.jpg` : \n",
    "    \n",
    "![\"bleuvalleluna.jpg\"](bleuvalleluna.jpg)"
   ]
  },
  {
   "cell_type": "markdown",
   "metadata": {},
   "source": [
    "## Exercice 4 _Max/Min_"
   ]
  },
  {
   "cell_type": "code",
   "execution_count": 14,
   "metadata": {},
   "outputs": [],
   "source": [
    "def maxmin(x):\n",
    "    \"\"\"Retourne 0 si x < 255, 255 si x > 255 et x sinon\"\"\"\n",
    "    return int(max(min(x, 255), 0))"
   ]
  },
  {
   "cell_type": "code",
   "execution_count": 64,
   "metadata": {},
   "outputs": [
    {
     "data": {
      "text/plain": [
       "[0, 0, 128, 255, 255]"
      ]
     },
     "execution_count": 64,
     "metadata": {},
     "output_type": "execute_result"
    }
   ],
   "source": [
    "[maxmin(x) for x in [-10, 0, 128, 255, 256]]"
   ]
  },
  {
   "cell_type": "code",
   "execution_count": 68,
   "metadata": {},
   "outputs": [
    {
     "data": {
      "text/plain": [
       "[<matplotlib.lines.Line2D at 0x7f4318d28828>]"
      ]
     },
     "execution_count": 68,
     "metadata": {},
     "output_type": "execute_result"
    },
    {
     "data": {
      "image/png": "[encoded data removed]",
      "text/plain": [
       "<Figure size 432x288 with 1 Axes>"
      ]
     },
     "metadata": {
      "needs_background": "light"
     },
     "output_type": "display_data"
    }
   ],
   "source": [
    "les_x = np.arange(-250, 500,1)\n",
    "plt.plot(les_x, [maxmin(v) for v in les_x])"
   ]
  },
  {
   "cell_type": "code",
   "execution_count": 11,
   "metadata": {},
   "outputs": [],
   "source": [
    "def maxminmat(matrice):\n",
    "    taille=matrice.shape\n",
    "    res=np.zeros_like(matrice)\n",
    "    if len(taille)==3:\n",
    "        for i in range(taille[0]):\n",
    "            for j in range(taille[1]):\n",
    "                for k in range(taille[2]):\n",
    "                    res[i,j,k]=maxmin(matrice[i,j,k])\n",
    "    else:\n",
    "        for i in range(taille[0]):\n",
    "            for j in range(taille[1]):\n",
    "                res[i,j]=maxmin(matrice[i,j])\n",
    "    return res\n",
    "\n",
    "def maxminmatV2(matrice):\n",
    "    hauteur, largeur = matrice.shape[:2]\n",
    "    if len(matrice.shape) == 2:        \n",
    "        return np.array([[maxmin(matrice[i,j])   for j in range(largeur)] for i in range(hauteur)])\n",
    "    elif len(matrice.shape) == 3:\n",
    "        return np.array([[[maxmin(matrice[i,j,k]) for k in range(matrice.shape[2])]  for j in range(largeur)] for i in range(hauteur)])"
   ]
  },
  {
   "cell_type": "code",
   "execution_count": 83,
   "metadata": {},
   "outputs": [
    {
     "data": {
      "text/plain": [
       "array([[-475, -219, -274, -459],\n",
       "       [-231,   65,  419,  183],\n",
       "       [ 156,   54,  220,    2],\n",
       "       [ 173,  165,  465,   27]])"
      ]
     },
     "execution_count": 83,
     "metadata": {},
     "output_type": "execute_result"
    }
   ],
   "source": [
    "mtest = np.random.randint(-500,500,(4,4))\n",
    "mtest"
   ]
  },
  {
   "cell_type": "code",
   "execution_count": 87,
   "metadata": {},
   "outputs": [
    {
     "data": {
      "text/plain": [
       "array([[  0,   0,   0,   0],\n",
       "       [  0,  65, 255, 183],\n",
       "       [156,  54, 220,   2],\n",
       "       [173, 165, 255,  27]])"
      ]
     },
     "execution_count": 87,
     "metadata": {},
     "output_type": "execute_result"
    }
   ],
   "source": [
    "maxminmat(mtest)"
   ]
  },
  {
   "cell_type": "code",
   "execution_count": 88,
   "metadata": {},
   "outputs": [
    {
     "data": {
      "text/plain": [
       "array([[  0,   0,   0,   0],\n",
       "       [  0,  65, 255, 183],\n",
       "       [156,  54, 220,   2],\n",
       "       [173, 165, 255,  27]])"
      ]
     },
     "execution_count": 88,
     "metadata": {},
     "output_type": "execute_result"
    }
   ],
   "source": [
    "maxminmatV2(mtest)"
   ]
  },
  {
   "cell_type": "markdown",
   "metadata": {},
   "source": [
    "## Exercice 5 Luminosité 1"
   ]
  },
  {
   "cell_type": "code",
   "execution_count": 17,
   "metadata": {},
   "outputs": [],
   "source": [
    "def luminosite1(imsource,unite):\n",
    "    im = Image.open(imsource)\n",
    "    pixels = np.array(im)\n",
    "    #pour ne plus calculer modulo 255 avec des entiers sur 8 bits\n",
    "    pixels = pixels.astype(int)  \n",
    "    #seuillage\n",
    "    pixels_res = maxminmat(pixels+unite)\n",
    "    #on revient dans la plage modulo 255 avec des entiers sur 8 bits\n",
    "    pixels_res = pixels_res.astype(np.uint8)\n",
    "    img_res = Image.fromarray(pixels_res)\n",
    "    img_res.save(\"lum1_\"+imsource)\n",
    "    img_res.show()    "
   ]
  },
  {
   "cell_type": "code",
   "execution_count": 18,
   "metadata": {},
   "outputs": [],
   "source": [
    "luminosite1('valleluna.jpg', 50)"
   ]
  },
  {
   "cell_type": "markdown",
   "metadata": {},
   "source": [
    "* Image `valleluna.jpg` éclaircie de 50 pixels :\n",
    "\n",
    "!['lum1_valleluna.jpg'](lum1_valleluna.jpg)\n",
    "    "
   ]
  },
  {
   "cell_type": "markdown",
   "metadata": {},
   "source": [
    "## Exercice 6 _Luminosité, contraste_"
   ]
  },
  {
   "cell_type": "code",
   "execution_count": 25,
   "metadata": {},
   "outputs": [],
   "source": [
    "# Liste des fonctions\n",
    "\n",
    "def filtre_puissance(x,p):\n",
    "    return int(255*(x/255)**p)\n",
    "    \n",
    "def f(x):\n",
    "    return 3*x**2-2*x**3\n",
    "    \n",
    "def g(x):\n",
    "    return (x**3)*(6*x**2 -15*x + 10)\n",
    "\n",
    "def filtre_f(x, p):\n",
    "    return int(255*f(x/255))\n",
    "\n",
    "def filtre_g(x, p):\n",
    "    return int(255*g(x/255))\n",
    "\n",
    "# Fonction lum_contraste\n",
    "\n",
    "def lum_contraste(imsource,fonction,parametre):\n",
    "    im=Image.open(imsource)\n",
    "    pixels = np.array(im)\n",
    "    hauteur, largeur = pixels.shape[:2]\n",
    "    pixels_res = np.zeros_like(pixels)\n",
    "    if len(pixels.shape) == 3:\n",
    "        for i in range(hauteur):\n",
    "            for j in range(largeur):\n",
    "                for k in range(3):\n",
    "                    pixels_res[i,j,k] = maxmin(fonction(pixels[i,j,k],parametre))\n",
    "    else:\n",
    "        for i in range(hauteur):\n",
    "            for j in range(largeur):\n",
    "                pixels_res[i,j] = maxmin(fonction(pixels[i,j],parametre))\n",
    "    img_res = Image.fromarray(pixels_res)\n",
    "    img_res.save(\"lum_cont\" + fonction.__name__ + imsource)\n",
    "    img_res.show() \n",
    "    \n",
    "def lum_contraste2(imsource,fonction):\n",
    "    im=Image.open(imsource)\n",
    "    pixels = np.array(im)\n",
    "    hauteur, largeur = pixels.shape[:2]\n",
    "    if len(pixels.shape) == 3:\n",
    "        for i in range(hauteur):\n",
    "            for j in range(largeur):\n",
    "                for k in range(3):\n",
    "                    pixels[i,j,k] = maxmin(fonction(pixels[i,j,k]))\n",
    "    else:\n",
    "        for i in range(hauteur):\n",
    "            for j in range(largeur):\n",
    "                pixels[i,j] = maxmin(fonction(pixels[i,j]))\n",
    "    img_res = Image.fromarray(pixels)\n",
    "    img_res.save(\"lum_cont\" + fonction.__name__ + imsource)\n",
    "    img_res.show() "
   ]
  },
  {
   "cell_type": "code",
   "execution_count": 118,
   "metadata": {},
   "outputs": [],
   "source": [
    "lum_contraste('valleluna.jpg', filtre_f, 12)"
   ]
  },
  {
   "cell_type": "code",
   "execution_count": 119,
   "metadata": {},
   "outputs": [],
   "source": [
    "lum_contraste('valleluna.jpg', filtre_g, 12)"
   ]
  },
  {
   "cell_type": "code",
   "execution_count": 120,
   "metadata": {},
   "outputs": [],
   "source": [
    "lum_contraste('valleluna.jpg', filtre_puissance, 2)"
   ]
  },
  {
   "cell_type": "code",
   "execution_count": 121,
   "metadata": {},
   "outputs": [],
   "source": [
    "lum_contraste('valleluna.jpg', filtre_puissance, 0.5)"
   ]
  },
  {
   "cell_type": "code",
   "execution_count": 26,
   "metadata": {},
   "outputs": [],
   "source": [
    "lum_contraste2('valleluna.jpg', lambda x : int(255*f(x/255)))"
   ]
  },
  {
   "cell_type": "code",
   "execution_count": 21,
   "metadata": {},
   "outputs": [],
   "source": [
    "lum_contraste2('valleluna.jpg', lambda x : int(255*g(x/255)))"
   ]
  },
  {
   "cell_type": "code",
   "execution_count": 22,
   "metadata": {},
   "outputs": [],
   "source": [
    "lum_contraste2('valleluna.jpg', lambda x : int(255*(x/255)**2))"
   ]
  },
  {
   "cell_type": "code",
   "execution_count": 23,
   "metadata": {},
   "outputs": [],
   "source": [
    "lum_contraste2('valleluna.jpg', lambda x : int(255*(x/255)**0.5))"
   ]
  },
  {
   "cell_type": "markdown",
   "metadata": {},
   "source": [
    "* Image obtenue avec la fonction de filtre `f` (accentuation de contraste) :\n",
    "    \n",
    "!['lum_contfiltre_fvalleluna.jpg'](lum_contfiltre_fvalleluna.jpg)\n",
    "\n",
    "* Image obtenue avec la fonction de filtre `g` (accentuation de contraste):\n",
    "    \n",
    "!['lum_contfiltre_gvalleluna.jpg'](lum_contfiltre_gvalleluna.jpg)\n",
    "\n",
    "* Image obtenue avec la fonction de filtre $x \\mapsto x^2$ (assombrissement) :\n",
    "    \n",
    "!['lum_contfiltre_puissance2valleluna.jpg'](lum_contfiltre_puissance2valleluna.jpg)\n",
    "\n",
    "* Image obtenue avec la fonction de filtre $x \\mapsto \\sqrt{x}$ (éclaircissement) :\n",
    "    \n",
    "!['lum_contfiltre_puissancevalleluna.jpg'](lum_contfiltre_puissancevalleluna.jpg)\n"
   ]
  }
 ],
 "metadata": {
  "kernelspec": {
   "display_name": "Python 3",
   "language": "python",
   "name": "python3"
  },
  "language_info": {
   "codemirror_mode": {
    "name": "ipython",
    "version": 3
   },
   "file_extension": ".py",
   "mimetype": "text/x-python",
   "name": "python",
   "nbconvert_exporter": "python",
   "pygments_lexer": "ipython3",
   "version": "3.6.9"
  }
 },
 "nbformat": 4,
 "nbformat_minor": 2
}
