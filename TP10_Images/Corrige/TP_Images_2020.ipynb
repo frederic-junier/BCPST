{
 "cells": [
  {
   "cell_type": "markdown",
   "metadata": {},
   "source": [
    "# TP Images 852, corrigé"
   ]
  },
  {
   "cell_type": "markdown",
   "metadata": {},
   "source": [
    "## Import des bibliothèques"
   ]
  },
  {
   "cell_type": "code",
   "execution_count": 3,
   "metadata": {},
   "outputs": [],
   "source": [
    "from PIL import Image\n",
    "import numpy as np\n",
    "import matplotlib.pyplot as plt"
   ]
  },
  {
   "cell_type": "code",
   "execution_count": 4,
   "metadata": {},
   "outputs": [],
   "source": [
    "%matplotlib inline"
   ]
  },
  {
   "cell_type": "markdown",
   "metadata": {},
   "source": [
    "## Un premier exemple"
   ]
  },
  {
   "cell_type": "code",
   "execution_count": 98,
   "metadata": {},
   "outputs": [],
   "source": [
    "def miroir(fichier):\n",
    "    \"\"\"prend en entrée un fichier image et retourne l'image de l'image\n",
    "     obtenue par une réflexion par rapport à l'axe vertical droit\n",
    "    \"\"\"\n",
    "    im=Image.open(fichier)\n",
    "    pixels = np.array(im)\n",
    "    hauteur, largeur = pixels.shape[:2]\n",
    "    pixels_res = np.zeros_like(pixels)\n",
    "    for i in range(hauteur):\n",
    "        for j in range(largeur):\n",
    "            pixels_res[i, j,:] = pixels[i, largeur - 1 - j,:]\n",
    "            #pixels_res[i, j] = pixels[i, largeur - 1 - j]\n",
    "    img_res = Image.fromarray(pixels_res)\n",
    "    img_res.save(\"miroir\"+fichier)\n",
    "    img_res.show()"
   ]
  },
  {
   "cell_type": "code",
   "execution_count": 100,
   "metadata": {},
   "outputs": [
    {
     "name": "stdout",
     "output_type": "stream",
     "text": [
      "10_Images_Correction.py                 \u001b[0m\u001b[01;35mmystere.png\u001b[0m\r\n",
      "852-correc-TPImages-2018-md.py          \u001b[01;35mnegatifgrisvalleluna.jpg\u001b[0m\r\n",
      "\u001b[01;35mbleu_valleluna.jpg\u001b[0m                      \u001b[01;35mnegatifvalleluna.jpg\u001b[0m\r\n",
      "\u001b[01;35mbleuvalleluna.jpg\u001b[0m                       \u001b[01;35moutput_26_1.png\u001b[0m\r\n",
      "\u001b[01;35mcontour_10_grisvalleluna.jpg\u001b[0m            \u001b[01;35mpixel_valleluna.jpg\u001b[0m\r\n",
      "\u001b[01;35mcontour_20_grisvalleluna.jpg\u001b[0m            \u001b[01;35mplatane.jpg\u001b[0m\r\n",
      "\u001b[01;35mcontour_5_grisvalleluna.jpg\u001b[0m             \u001b[01;35mrouge_valleluna.jpg\u001b[0m\r\n",
      "\u001b[01;35mfiltre_net_valleluna.jpg\u001b[0m                \u001b[01;35mrougevalleluna.jpg\u001b[0m\r\n",
      "\u001b[01;35mfiltrevalleluna.jpg\u001b[0m                     \u001b[01;35mseuil_100_grisvalleluna.jpg\u001b[0m\r\n",
      "\u001b[01;35mflou_valleluna.jpg\u001b[0m                      \u001b[01;35mseuil_10_grisvalleluna.jpg\u001b[0m\r\n",
      "\u001b[01;35mgrisvalleluna.jpg\u001b[0m                       \u001b[01;35mseuil_150_grisvalleluna.jpg\u001b[0m\r\n",
      "\u001b[01;35mlena.png\u001b[0m                                \u001b[01;35mseuil_1_grisvalleluna.jpg\u001b[0m\r\n",
      "\u001b[01;35mlum1_valleluna.jpg\u001b[0m                      \u001b[01;35mseuil_20_grisvalleluna.jpg\u001b[0m\r\n",
      "\u001b[01;35mlum_contfiltre_fvalleluna.jpg\u001b[0m           \u001b[01;35mseuil_5_grisvalleluna.jpg\u001b[0m\r\n",
      "\u001b[01;35mlum_contfiltre_gvalleluna.jpg\u001b[0m           \u001b[01;35mseuil_70_grisvalleluna.jpg\u001b[0m\r\n",
      "\u001b[01;35mlum_contfiltre_puissance2valleluna.jpg\u001b[0m  TP_Images_2020.ipynb\r\n",
      "\u001b[01;35mlum_contfiltre_puissancevalleluna.jpg\u001b[0m   TP_Images_2020.pdf\r\n",
      "\u001b[01;35mlum_contvalleluna.jpg\u001b[0m                   \u001b[01;35mvalleluna.jpg\u001b[0m\r\n",
      "\u001b[01;35mmiroir_valleluna.jpg\u001b[0m                    \u001b[01;35mvert_valleluna.jpg\u001b[0m\r\n",
      "\u001b[01;35mmiroirvalleluna.jpg\u001b[0m                     \u001b[01;35mvertvalleluna.jpg\u001b[0m\r\n"
     ]
    }
   ],
   "source": [
    "%ls"
   ]
  },
  {
   "cell_type": "code",
   "execution_count": 99,
   "metadata": {},
   "outputs": [],
   "source": [
    "miroir('valleluna.jpg')"
   ]
  },
  {
   "cell_type": "markdown",
   "metadata": {},
   "source": [
    "* L'image initiale :\n",
    "\n",
    "!['valleluna.jpg'](valleluna.jpg)\n",
    "\n",
    "* L'image miroir :\n",
    "\n",
    "!['miroir_valleluna.jpg'](miroirvalleluna.jpg)"
   ]
  },
  {
   "cell_type": "markdown",
   "metadata": {},
   "source": [
    "## Exercice 1  : _Passage en niveau de gris_"
   ]
  },
  {
   "cell_type": "code",
   "execution_count": 41,
   "metadata": {},
   "outputs": [],
   "source": [
    "def gris(imsource, coeff):\n",
    "    \"\"\" coeff est une liste composée de 3 éléments \"\"\"\n",
    "    im = Image.open(imsource)\n",
    "    pixels = np.array(im)\n",
    "    hauteur, largeur = pixels.shape[:2]\n",
    "    pixels_res = np.zeros([hauteur,largeur], dtype=\"uint8\") #pixels_res doit être de dimension 2\n",
    "    somme_coef = np.sum(coeff)\n",
    "    for j in range(largeur):\n",
    "        for i in range(hauteur):\n",
    "            pixels_res[i, j] = int(np.sum(pixels[i,j] * coeff)/somme_coef)\n",
    "    img_res = Image.fromarray(pixels_res)\n",
    "    img_res.save(\"gris\"+imsource)\n",
    "    img_res.show() "
   ]
  },
  {
   "cell_type": "code",
   "execution_count": 42,
   "metadata": {},
   "outputs": [],
   "source": [
    "gris(\"valleluna.jpg\", [30, 59, 11])"
   ]
  },
  {
   "cell_type": "markdown",
   "metadata": {},
   "source": [
    "* Conversion de `valleluna.jpg` en niveaux de gris :\n",
    "    \n",
    "!['grisvalleluna.jpg'](grisvalleluna.jpg)"
   ]
  },
  {
   "cell_type": "markdown",
   "metadata": {},
   "source": [
    "## Exercice 2 : _Négatif / Monochrome_"
   ]
  },
  {
   "cell_type": "code",
   "execution_count": 7,
   "metadata": {
    "collapsed": true
   },
   "outputs": [],
   "source": [
    "def negatif(imsource):\n",
    "    \"\"\" Retourne le négatif d'une image \"\"\"\n",
    "    im = Image.open(imsource)\n",
    "    pixels = np.array(im)\n",
    "    pixels_res = np.zeros_like(pixels)\n",
    "    pixels_res = 255 - pixels\n",
    "    img_res = Image.fromarray(pixels_res)\n",
    "    img_res.save(\"negatif\"+imsource)\n",
    "    img_res.show() \n",
    "    \n",
    "def negatif2(imsource):\n",
    "    \"\"\" Retourne le négatif d'une image \"\"\"\n",
    "    im = Image.open(imsource)\n",
    "    pixels = np.array(im)\n",
    "    img_res = Image.fromarray(255 - pixels)\n",
    "    img_res.save(\"negatif\"+imsource)\n",
    "    img_res.show() "
   ]
  },
  {
   "cell_type": "code",
   "execution_count": 8,
   "metadata": {
    "collapsed": true
   },
   "outputs": [],
   "source": [
    "negatif('valleluna.jpg')"
   ]
  },
  {
   "cell_type": "code",
   "execution_count": 40,
   "metadata": {
    "collapsed": true
   },
   "outputs": [],
   "source": [
    "negatif('grisvalleluna.jpg')"
   ]
  },
  {
   "cell_type": "markdown",
   "metadata": {},
   "source": [
    "* Le négatif de l'image `valleluna.jpg` :\n",
    "\n",
    "!['negatifvalleluna.jpg'](negatifvalleluna.jpg)\n",
    "\n",
    "* Le négatif de l'image en niveaux de gris  `grisvalleluna.jpg` :\n",
    "\n",
    "!['negatifvalleluna.jpg'](negatifgrisvalleluna.jpg)\n"
   ]
  },
  {
   "cell_type": "markdown",
   "metadata": {},
   "source": [
    "## Exercice 3 _Extraction de composantes_"
   ]
  },
  {
   "cell_type": "code",
   "execution_count": 126,
   "metadata": {
    "collapsed": true
   },
   "outputs": [],
   "source": [
    "def monochrome(imsource):\n",
    "    \"\"\"prend en entrée un fichier image et retourne une version monochome pour chacune des couleurs\n",
    "    \"\"\"\n",
    "    im=Image.open(imsource)\n",
    "    pixels = np.array(im)\n",
    "    hauteur, largeur =pixels.shape[:2]\n",
    "    pixels_res_rouge = np.zeros_like(pixels)\n",
    "    pixels_res_vert = np.zeros_like(pixels)\n",
    "    pixels_res_bleu = np.zeros_like(pixels)\n",
    "    for i in range(hauteur):\n",
    "        for j in range(largeur):\n",
    "            [r, g, b] = pixels[i,j,:]\n",
    "            pixels_res_rouge[i, j] = [r, 0, 0]\n",
    "            pixels_res_vert[i, j] = [0, g, 0]\n",
    "            pixels_res_bleu[i, j] = [0, 0, b]\n",
    "    img_res_r = Image.fromarray(pixels_res_rouge)\n",
    "    img_res_r.save(\"rouge\"+imsource)\n",
    "    img_res_r.show()\n",
    "    img_res_v = Image.fromarray(pixels_res_vert)\n",
    "    img_res_v.save(\"vert\"+imsource)\n",
    "    img_res_v.show()\n",
    "    img_res_b = Image.fromarray(pixels_res_bleu)\n",
    "    img_res_b.save(\"bleu\"+imsource)\n",
    "    img_res_b.show()  \n",
    "    \n",
    "def monochrome_slicing(imsource):\n",
    "    \"\"\"prend en entrée un fichier image et retourne une version monochome pour chacune des couleurs\n",
    "    \"\"\"\n",
    "    im=Image.open(imsource)\n",
    "    pixels = np.array(im)\n",
    "    pixels_res_rouge = np.zeros_like(pixels)\n",
    "    pixels_res_rouge[:,:,0] = pixels[:,:,0] \n",
    "    pixels_res_vert = np.zeros_like(pixels)\n",
    "    pixels_res_vert[:,:,1] = pixels[:,:,1] \n",
    "    pixels_res_bleu = np.zeros_like(pixels)\n",
    "    pixels_res_bleu[:,:,2] = pixels[:,:,2] \n",
    "    img_res_r = Image.fromarray(pixels_res_rouge)\n",
    "    img_res_r.save(\"rouge\"+imsource)\n",
    "    img_res_r.show()\n",
    "    img_res_v = Image.fromarray(pixels_res_vert)\n",
    "    img_res_v.save(\"vert\"+imsource)\n",
    "    img_res_v.show()\n",
    "    img_res_b = Image.fromarray(pixels_res_bleu)\n",
    "    img_res_b.save(\"bleu\"+imsource)\n",
    "    img_res_b.show()"
   ]
  },
  {
   "cell_type": "code",
   "execution_count": 61,
   "metadata": {
    "collapsed": true
   },
   "outputs": [],
   "source": [
    "monochrome_slicing('valleluna.jpg')"
   ]
  },
  {
   "cell_type": "markdown",
   "metadata": {},
   "source": [
    "* Composante rouge de `valleluna.jpg` : \n",
    "    \n",
    "![\"rougevalleluna.jpg\"](rougevalleluna.jpg)\n",
    "\n",
    "* Composante verte de `valleluna.jpg` : \n",
    "    \n",
    "![\"vertvalleluna.jpg\"](vertvalleluna.jpg)\n",
    "\n",
    "* Composante bleue de `valleluna.jpg` : \n",
    "    \n",
    "![\"bleuvalleluna.jpg\"](bleuvalleluna.jpg)"
   ]
  },
  {
   "cell_type": "markdown",
   "metadata": {},
   "source": [
    "## Exercice 4 _Max/Min_"
   ]
  },
  {
   "cell_type": "code",
   "execution_count": 52,
   "metadata": {},
   "outputs": [],
   "source": [
    "def maxmin(x):\n",
    "    \"\"\"Retourne 0 si x < 255, 255 si x > 255 et x sinon\"\"\"\n",
    "    return int(max(min(x, 255), 0))"
   ]
  },
  {
   "cell_type": "code",
   "execution_count": 64,
   "metadata": {},
   "outputs": [
    {
     "data": {
      "text/plain": [
       "[0, 0, 128, 255, 255]"
      ]
     },
     "execution_count": 64,
     "metadata": {},
     "output_type": "execute_result"
    }
   ],
   "source": [
    "[maxmin(x) for x in [-10, 0, 128, 255, 256]]"
   ]
  },
  {
   "cell_type": "code",
   "execution_count": 68,
   "metadata": {},
   "outputs": [
    {
     "data": {
      "text/plain": [
       "[<matplotlib.lines.Line2D at 0x7f4318d28828>]"
      ]
     },
     "execution_count": 68,
     "metadata": {},
     "output_type": "execute_result"
    },
    {
     "data": {
      "image/png": "[encoded data removed]",
      "text/plain": [
       "<Figure size 432x288 with 1 Axes>"
      ]
     },
     "metadata": {
      "needs_background": "light"
     },
     "output_type": "display_data"
    }
   ],
   "source": [
    "les_x = np.arange(-250, 500,1)\n",
    "plt.plot(les_x, [maxmin(v) for v in les_x])"
   ]
  },
  {
   "cell_type": "code",
   "execution_count": 51,
   "metadata": {},
   "outputs": [],
   "source": [
    "def maxminmat(matrice):\n",
    "    taille=matrice.shape\n",
    "    res=np.zeros_like(matrice)\n",
    "    if len(taille)==3:\n",
    "        for i in range(taille[0]):\n",
    "            for j in range(taille[1]):\n",
    "                for k in range(taille[2]):\n",
    "                    res[i,j,k]=maxmin(matrice[i,j,k])\n",
    "    else:\n",
    "        for i in range(taille[0]):\n",
    "            for j in range(taille[1]):\n",
    "                res[i,j]=maxmin(matrice[i,j])\n",
    "    return res\n",
    "\n",
    "def maxminmatV2(matrice):\n",
    "    hauteur, largeur = matrice.shape[:2]\n",
    "    if len(matrice.shape) == 2:        \n",
    "        return np.array([[maxmin(matrice[i,j])   for j in range(largeur)] for i in range(hauteur)])\n",
    "    elif len(matrice.shape) == 3:\n",
    "        return np.array([[[maxmin(matrice[i,j,k]) for k in range(matrice.shape[2])]  for j in range(largeur)] for i in range(hauteur)])"
   ]
  },
  {
   "cell_type": "code",
   "execution_count": 83,
   "metadata": {},
   "outputs": [
    {
     "data": {
      "text/plain": [
       "array([[-475, -219, -274, -459],\n",
       "       [-231,   65,  419,  183],\n",
       "       [ 156,   54,  220,    2],\n",
       "       [ 173,  165,  465,   27]])"
      ]
     },
     "execution_count": 83,
     "metadata": {},
     "output_type": "execute_result"
    }
   ],
   "source": [
    "mtest = np.random.randint(-500,500,(4,4))\n",
    "mtest"
   ]
  },
  {
   "cell_type": "code",
   "execution_count": 87,
   "metadata": {},
   "outputs": [
    {
     "data": {
      "text/plain": [
       "array([[  0,   0,   0,   0],\n",
       "       [  0,  65, 255, 183],\n",
       "       [156,  54, 220,   2],\n",
       "       [173, 165, 255,  27]])"
      ]
     },
     "execution_count": 87,
     "metadata": {},
     "output_type": "execute_result"
    }
   ],
   "source": [
    "maxminmat(mtest)"
   ]
  },
  {
   "cell_type": "code",
   "execution_count": 88,
   "metadata": {},
   "outputs": [
    {
     "data": {
      "text/plain": [
       "array([[  0,   0,   0,   0],\n",
       "       [  0,  65, 255, 183],\n",
       "       [156,  54, 220,   2],\n",
       "       [173, 165, 255,  27]])"
      ]
     },
     "execution_count": 88,
     "metadata": {},
     "output_type": "execute_result"
    }
   ],
   "source": [
    "maxminmatV2(mtest)"
   ]
  },
  {
   "cell_type": "markdown",
   "metadata": {},
   "source": [
    "## Exercice 5 Luminosité 1"
   ]
  },
  {
   "cell_type": "code",
   "execution_count": 50,
   "metadata": {},
   "outputs": [],
   "source": [
    "def luminosite1(imsource,unite):\n",
    "    im = Image.open(imsource)\n",
    "    pixels = np.array(im)\n",
    "    #pour ne plus calculer modulo 255 avec des entiers sur 8 bits\n",
    "    pixels = pixels.astype(int)  \n",
    "    #seuillage\n",
    "    pixels_res = maxminmat(pixels+unite)\n",
    "    #on revient dans la plage modulo 255 avec des entiers sur 8 bits\n",
    "    pixels_res = pixels_res.astype(np.uint8)\n",
    "    img_res = Image.fromarray(pixels_res)\n",
    "    img_res.save(\"lum1_\"+imsource)\n",
    "    img_res.show()    "
   ]
  },
  {
   "cell_type": "code",
   "execution_count": 18,
   "metadata": {
    "collapsed": true
   },
   "outputs": [],
   "source": [
    "luminosite1('valleluna.jpg', 50)"
   ]
  },
  {
   "cell_type": "markdown",
   "metadata": {},
   "source": [
    "* Image `valleluna.jpg` éclaircie de 50 pixels :\n",
    "\n",
    "!['lum1_valleluna.jpg'](lum1_valleluna.jpg)\n",
    "    "
   ]
  },
  {
   "cell_type": "markdown",
   "metadata": {},
   "source": [
    "## Exercice 6 _Luminosité, contraste_"
   ]
  },
  {
   "cell_type": "code",
   "execution_count": 49,
   "metadata": {},
   "outputs": [],
   "source": [
    "# Liste des fonctions\n",
    "\n",
    "def filtre_puissance(x,p):\n",
    "    return int(255*(x/255)**p)\n",
    "    \n",
    "def f(x):\n",
    "    return 3*x**2-2*x**3\n",
    "    \n",
    "def g(x):\n",
    "    return (x**3)*(6*x**2 -15*x + 10)\n",
    "\n",
    "def filtre_f(x, p):\n",
    "    return int(255*f(x/255))\n",
    "\n",
    "def filtre_g(x, p):\n",
    "    return int(255*g(x/255))\n",
    "\n",
    "# Fonction lum_contraste\n",
    "\n",
    "def lum_contraste(imsource,fonction,parametre):\n",
    "    im=Image.open(imsource)\n",
    "    pixels = np.array(im)\n",
    "    hauteur, largeur = pixels.shape[:2]\n",
    "    pixels_res = np.zeros_like(pixels)\n",
    "    if len(pixels.shape) == 3:\n",
    "        for i in range(hauteur):\n",
    "            for j in range(largeur):\n",
    "                for k in range(3):\n",
    "                    pixels_res[i,j,k] = maxmin(fonction(pixels[i,j,k],parametre))\n",
    "    else:\n",
    "        for i in range(hauteur):\n",
    "            for j in range(largeur):\n",
    "                pixels_res[i,j] = maxmin(fonction(pixels[i,j],parametre))\n",
    "    img_res = Image.fromarray(pixels_res)\n",
    "    img_res.save(\"lum_cont\" + fonction.__name__ + imsource)\n",
    "    img_res.show() \n",
    "    \n",
    "def lum_contraste2(imsource,fonction):\n",
    "    im=Image.open(imsource)\n",
    "    pixels = np.array(im)\n",
    "    hauteur, largeur = pixels.shape[:2]\n",
    "    if len(pixels.shape) == 3:\n",
    "        for i in range(hauteur):\n",
    "            for j in range(largeur):\n",
    "                for k in range(3):\n",
    "                    pixels[i,j,k] = maxmin(fonction(pixels[i,j,k]))\n",
    "    else:\n",
    "        for i in range(hauteur):\n",
    "            for j in range(largeur):\n",
    "                pixels[i,j] = maxmin(fonction(pixels[i,j]))\n",
    "    img_res = Image.fromarray(pixels)\n",
    "    img_res.save(\"lum_cont\" + fonction.__name__ + imsource)\n",
    "    img_res.show() "
   ]
  },
  {
   "cell_type": "code",
   "execution_count": 118,
   "metadata": {
    "collapsed": true
   },
   "outputs": [],
   "source": [
    "lum_contraste('valleluna.jpg', filtre_f, 12)"
   ]
  },
  {
   "cell_type": "code",
   "execution_count": 119,
   "metadata": {
    "collapsed": true
   },
   "outputs": [],
   "source": [
    "lum_contraste('valleluna.jpg', filtre_g, 12)"
   ]
  },
  {
   "cell_type": "code",
   "execution_count": 120,
   "metadata": {
    "collapsed": true
   },
   "outputs": [],
   "source": [
    "lum_contraste('valleluna.jpg', filtre_puissance, 2)"
   ]
  },
  {
   "cell_type": "code",
   "execution_count": 121,
   "metadata": {
    "collapsed": true
   },
   "outputs": [],
   "source": [
    "lum_contraste('valleluna.jpg', filtre_puissance, 0.5)"
   ]
  },
  {
   "cell_type": "code",
   "execution_count": 26,
   "metadata": {
    "collapsed": true
   },
   "outputs": [],
   "source": [
    "lum_contraste2('valleluna.jpg', lambda x : int(255*f(x/255)))"
   ]
  },
  {
   "cell_type": "code",
   "execution_count": 21,
   "metadata": {
    "collapsed": true
   },
   "outputs": [],
   "source": [
    "lum_contraste2('valleluna.jpg', lambda x : int(255*g(x/255)))"
   ]
  },
  {
   "cell_type": "code",
   "execution_count": 22,
   "metadata": {
    "collapsed": true
   },
   "outputs": [],
   "source": [
    "lum_contraste2('valleluna.jpg', lambda x : int(255*(x/255)**2))"
   ]
  },
  {
   "cell_type": "code",
   "execution_count": 23,
   "metadata": {
    "collapsed": true
   },
   "outputs": [],
   "source": [
    "lum_contraste2('valleluna.jpg', lambda x : int(255*(x/255)**0.5))"
   ]
  },
  {
   "cell_type": "markdown",
   "metadata": {},
   "source": [
    "* Image obtenue avec la fonction de filtre `f` (accentuation de contraste) :\n",
    "    \n",
    "!['lum_contfiltre_fvalleluna.jpg'](lum_contfiltre_fvalleluna.jpg)\n",
    "\n",
    "* Image obtenue avec la fonction de filtre `g` (accentuation de contraste):\n",
    "    \n",
    "!['lum_contfiltre_gvalleluna.jpg'](lum_contfiltre_gvalleluna.jpg)\n",
    "\n",
    "* Image obtenue avec la fonction de filtre $x \\mapsto x^2$ (assombrissement) :\n",
    "    \n",
    "!['lum_contfiltre_puissance2valleluna.jpg'](lum_contfiltre_puissance2valleluna.jpg)\n",
    "\n",
    "* Image obtenue avec la fonction de filtre $x \\mapsto \\sqrt{x}$ (éclaircissement) :\n",
    "    \n",
    "!['lum_contfiltre_puissancevalleluna.jpg'](lum_contfiltre_puissancevalleluna.jpg)\n"
   ]
  },
  {
   "cell_type": "markdown",
   "metadata": {},
   "source": [
    "## Exercice 7 _Moyenne par blocs_"
   ]
  },
  {
   "cell_type": "code",
   "execution_count": 59,
   "metadata": {},
   "outputs": [],
   "source": [
    "# Matrices filtre\n",
    "\n",
    "def flou(k):\n",
    "    return np.ones((2*k+1,2*k+1),dtype=\"uint8\")\n",
    "\n",
    "flou_bis = np.array([[1, 2, 1],\n",
    "                 [2, 4, 2],\n",
    "                 [1, 2, 1]])\n",
    "                 \n",
    "A = np.array([[-1, -2, -1],\n",
    "                    [-2, 16, -2],\n",
    "                    [-1, -2, -1]])\n",
    "     \n",
    "B = np.array([[0, 1, 0],\n",
    "     [1, 1, 1],\n",
    "     [0, 1, 0]])\n",
    "     \n",
    "accentue = np.array([[-1,1,-1,1,-1],\n",
    "     [1,-1, -2, -1,1],\n",
    "     [-1,-2, 16, -2,-1],\n",
    "     [1,-1, -2, -1,1],\n",
    "     [-1,1,-1,1,-1]])\n",
    "\n",
    "# Filtre de repoussage (emboss)\n",
    "C = np.array([[2, 1, 0],\n",
    "     [1, 1, -1],\n",
    "     [0, -1, -2]])\n",
    "     \n",
    "D = np.array([[-2, -1, 0],\n",
    "     [-1, 1, 1],\n",
    "     [0, 1, 2]])\n",
    "\n",
    "# Détection de bords\n",
    "E = np.array([[-1/9, -1/9, -1/9],\n",
    "     [-1/9, 8/9, -1/9],\n",
    "     [-1/9, -1/9, -1/9]])\n",
    "     \n",
    "F = np.array([[0, -1, 0],\n",
    "     [-1, 4, -1],\n",
    "     [0, -1, 0]])\n",
    "    \n",
    "G = np.array([[1, 0, -1],\n",
    "     [1, 0, -1],\n",
    "     [1, 0, -1]])\n",
    "     \n",
    "H = np.array([[-1, -2, -1],\n",
    "     [0, 0, 0],\n",
    "     [1, 2, 1]])\n"
   ]
  },
  {
   "cell_type": "code",
   "execution_count": 54,
   "metadata": {},
   "outputs": [],
   "source": [
    "def  moyenne_bloc(pixels, i, j, matrice):\n",
    "    \"\"\"Fait la convolution de la matrice pixels par la matrice passée en paramètre\"\"\"\n",
    "    rayonbloc = len(matrice) // 2  #matrice carrée avec des dimensions impaires\n",
    "    somme_coef = np.sum(matrice)\n",
    "    if somme_coef == 0:\n",
    "        somme_coef = 1\n",
    "    hauteur, largeur = pixels.shape[:2]\n",
    "    #si pixels est une matrice de pixels en niveau de gris\n",
    "    if len(pixels.shape) == 2:\n",
    "        return maxmin(np.sum(pixels[i - rayonbloc : i + rayonbloc + 1, j - rayonbloc : j + rayonbloc + 1] * matrice) / somme_coef)\n",
    "    else: #si pixels est une matrice de pixels couleurs en (R,G,B)\n",
    "        return [maxmin(np.sum(pixels[i - rayonbloc : i + rayonbloc + 1, j - rayonbloc : j + rayonbloc + 1, k] * matrice) / somme_coef) \\\n",
    "                for k in range(3)]\n",
    "    return pixels_res    \n",
    "\n",
    "\n",
    "def moyenne_bloc2(pixels, i, j, matrice):\n",
    "    rayonbloc = len(matrice)//2\n",
    "    if np.sum(matrice)==0:\n",
    "        som_matrice=1\n",
    "    else:\n",
    "        som_matrice=np.sum(matrice)\n",
    "    if len(pixels.shape)==3:\n",
    "        pixel=[0,0,0]\n",
    "        for k in range(3):\n",
    "            pixel[k]=maxmin(np.sum(pixels[i-rayonbloc:i+rayonbloc+1, j-rayonbloc:j+rayonbloc+1,k]*matrice)//som_matrice)\n",
    "    else :\n",
    "        pixel=maxmin(np.sum(pixels[i-rayonbloc:i+rayonbloc+1, j-rayonbloc:j+rayonbloc+1]*matrice)//som_matrice)\n",
    "    return pixel\n",
    "    \n",
    "\n",
    "def applique_filtre(imsource, matrice, filtre =\"filtre\"):\n",
    "    im = Image.open(imsource)\n",
    "    pixels = np.array(im)\n",
    "    hauteur, largeur = pixels.shape[:2]\n",
    "    pixels_res = np.zeros_like(pixels)\n",
    "    rayonbloc = len(matrice)//2\n",
    "    for i in range(rayonbloc,hauteur-rayonbloc):\n",
    "        for j in range(rayonbloc,largeur-rayonbloc):\n",
    "            pixels_res[i,j] = moyenne_bloc(pixels,i,j,matrice)\n",
    "    img_res = Image.fromarray(pixels_res)\n",
    "    img_res.save(filtre + imsource)\n",
    "    img_res.show()   "
   ]
  },
  {
   "cell_type": "code",
   "execution_count": 55,
   "metadata": {},
   "outputs": [],
   "source": [
    "flou_bis = np.array([[1, 2, 1],\n",
    "                 [2, 4, 2],\n",
    "                 [1, 2, 1]])"
   ]
  },
  {
   "cell_type": "code",
   "execution_count": 56,
   "metadata": {},
   "outputs": [],
   "source": [
    "applique_filtre('valleluna.jpg', flou_bis, filtre = \"flou_\")"
   ]
  },
  {
   "cell_type": "code",
   "execution_count": 60,
   "metadata": {},
   "outputs": [
    {
     "data": {
      "text/plain": [
       "array([[-1, -2, -1],\n",
       "       [-2, 16, -2],\n",
       "       [-1, -2, -1]])"
      ]
     },
     "execution_count": 60,
     "metadata": {},
     "output_type": "execute_result"
    }
   ],
   "source": [
    "A"
   ]
  },
  {
   "cell_type": "code",
   "execution_count": 61,
   "metadata": {},
   "outputs": [],
   "source": [
    "applique_filtre('valleluna.jpg', A, filtre = \"filtre_net_\")"
   ]
  },
  {
   "cell_type": "markdown",
   "metadata": {},
   "source": [
    "* Application du filtre de floutage gaussien $M = \\begin{pmatrix} 1 & 2 & 1 \\\\ 2 & 4 & 2 \\\\ 1 & 2 & 1 \\end{pmatrix}$\n",
    "\n",
    "!['floutage_valleluna.jpg'](flou_valleluna.jpg)\n",
    "\n",
    "* Application du filtre de convolution de la matrice $A=\\begin{pmatrix}\n",
    "0&0&0\\\\0&20&0\\\\0&0&0\n",
    "\\end{pmatrix}-M=\\begin{pmatrix}\n",
    "-1&-2&-1\\\\-2&16&-2\\\\-1&-2&-1\n",
    "\\end{pmatrix}$ (Augmentation du contraste)\n",
    "\n",
    "!['filtrevalleluna.jpg'](filtre_net_valleluna.jpg)"
   ]
  },
  {
   "cell_type": "markdown",
   "metadata": {},
   "source": [
    "## Exercice 8 _Pixellisation_ "
   ]
  },
  {
   "cell_type": "code",
   "execution_count": 26,
   "metadata": {},
   "outputs": [],
   "source": [
    "def  pixellisation(imsource, taillebloc):\n",
    "    im = Image.open(imsource)\n",
    "    pixels = np.array(im)\n",
    "    hauteur, largeur = pixels.shape[:2]\n",
    "    pixels_res = np.zeros_like(pixels)\n",
    "    for i in range(0, hauteur - taillebloc + 1, taillebloc):\n",
    "        for j in range(0, largeur - taillebloc + 1, taillebloc):\n",
    "            pixel_moyen = [0, 0, 0]\n",
    "            for k in range(3):\n",
    "                pixel_moyen[k] = int(np.mean(pixels[i : i + taillebloc, j : j + taillebloc,k]))\n",
    "            #pixels_res[i : i + taille_bloc, j : j + taille_bloc] =  np.array([[pixel_moyen for _ in range(taille_bloc)]for _ in range(taille_bloc)])\n",
    "            for x in range(taillebloc):\n",
    "                for y in range(taillebloc):\n",
    "                    pixels_res[i + x, j + y] = pixel_moyen\n",
    "    img_res = Image.fromarray(pixels_res)\n",
    "    img_res.save(\"pixel_\"+imsource)\n",
    "    img_res.show()   \n",
    "    \n",
    "    \n",
    "def pixellisation2(imsource,taillebloc):\n",
    "    im=Image.open(imsource)\n",
    "    pixels = np.array(im)\n",
    "    hauteur, largeur =pixels.shape[:2]\n",
    "    pixels = pixels.astype(int)\n",
    "    pixels_res = np.zeros_like(pixels)\n",
    "    for i in range(0,hauteur-taillebloc+1,taillebloc):\n",
    "        for j in range(0,largeur-taillebloc+1,taillebloc):\n",
    "            for k in range(3):\n",
    "                couleur = np.mean(pixels[i:i+taillebloc,j:j+taillebloc,k])\n",
    "                for x in range(taillebloc):\n",
    "                    for y in range(taillebloc):\n",
    "                        pixels_res[i+x,j+y,k] = couleur\n",
    "    pixels_res=pixels_res.astype(np.uint8)\n",
    "    img_res = Image.fromarray(pixels_res)\n",
    "    img_res.save(\"pixel_\" + str(taillebloc) + \"_\" + imsource)\n",
    "    img_res.show()"
   ]
  },
  {
   "cell_type": "code",
   "execution_count": 44,
   "metadata": {},
   "outputs": [],
   "source": [
    "pixellisation('valleluna.jpg', 10)"
   ]
  },
  {
   "cell_type": "code",
   "execution_count": 24,
   "metadata": {},
   "outputs": [],
   "source": [
    "pixellisation2('valleluna.jpg', 10)"
   ]
  },
  {
   "cell_type": "markdown",
   "metadata": {},
   "source": [
    "* Image pixellisée avec des blocs de  $10$ pixels de côté :\n",
    "    \n",
    "!['pixel_valleluna.jpg'](pixel_valleluna.jpg)"
   ]
  },
  {
   "cell_type": "markdown",
   "metadata": {},
   "source": [
    "## Exercice 9 : seuillage"
   ]
  },
  {
   "cell_type": "code",
   "execution_count": 91,
   "metadata": {},
   "outputs": [],
   "source": [
    "def seuillage(imsource, s):\n",
    "    im = Image.open(imsource)\n",
    "    pixels = np.array(im)\n",
    "    assert len(pixels.shape) == 2, \"l'image doit être en niveau de gris\"\n",
    "    hauteur, largeur = pixels.shape[:2]\n",
    "    pixels_res = np.zeros_like(pixels)\n",
    "    for i in range(0, hauteur):\n",
    "        for j in range(0, largeur):\n",
    "            if pixels[i, j] <= s:\n",
    "                pixels_res[i,j] = 0\n",
    "            else:\n",
    "                pixels_res[i, j] = pixels[i, j]\n",
    "    img_res = Image.fromarray(pixels_res)\n",
    "    img_res.save(\"seuil_\" + str(s) + \"_\" + imsource)\n",
    "    img_res.show()    "
   ]
  },
  {
   "cell_type": "code",
   "execution_count": 92,
   "metadata": {},
   "outputs": [],
   "source": [
    "seuillage('grisvalleluna.jpg', 70)"
   ]
  },
  {
   "cell_type": "markdown",
   "metadata": {},
   "source": [
    "* image initiale :\n",
    "\n",
    "!['grisvalleluna.jpg'](grisvalleluna.jpg)\n",
    "\n",
    "* seuillage avec un seuil de $70$ :\n",
    "    \n",
    "!['seuil_70_grisvalleluna.jpg'](seuil_70_grisvalleluna.jpg)"
   ]
  },
  {
   "cell_type": "markdown",
   "metadata": {},
   "source": [
    "## Exercice 10 : détection de contours"
   ]
  },
  {
   "cell_type": "code",
   "execution_count": 94,
   "metadata": {},
   "outputs": [],
   "source": [
    "def contour(imsource, s):\n",
    "    im = Image.open(imsource)\n",
    "    pixels = np.array(im)\n",
    "    pixels = pixels.astype(float)\n",
    "    assert len(pixels.shape) == 2, \"l'image doit être en niveau de gris\"\n",
    "    hauteur, largeur = pixels.shape[:2]\n",
    "    pixels_res = np.zeros([hauteur,largeur], dtype=\"uint8\")\n",
    "    for i in range(1, hauteur - 1):\n",
    "        for j in range(1, largeur - 1):            \n",
    "            a = pixels[i, j - 1]\n",
    "            b = pixels[i, j + 1]\n",
    "            c = pixels[i - 1, j]\n",
    "            d = pixels[i + 1, j]\n",
    "            if np.sqrt((a - b) ** 2 + (c - d) ** 2) <= s:\n",
    "                pixels_res[i, j] = 255\n",
    "            else:\n",
    "                pixels_res[i,j] = 0               \n",
    "    img_res = Image.fromarray(pixels_res)\n",
    "    img_res.save(\"contour_\" + str(s) + \"_\" + imsource)\n",
    "    img_res.show()    "
   ]
  },
  {
   "cell_type": "code",
   "execution_count": 97,
   "metadata": {},
   "outputs": [],
   "source": [
    "contour('grisvalleluna.jpg', 20)"
   ]
  },
  {
   "cell_type": "markdown",
   "metadata": {},
   "source": [
    "* image initiale :\n",
    "\n",
    "!['grisvalleluna.jpg'](grisvalleluna.jpg)\n",
    "\n",
    "* contour avec un seuil de  5 pixels :\n",
    "    \n",
    "!['contour_5_grisvalleluna.jpg'](contour_5_grisvalleluna.jpg)\n",
    "\n",
    "* contour avec un seuil de 10 pixels :\n",
    "    \n",
    "!['contour_10_grisvalleluna.jpg'](contour_10_grisvalleluna.jpg)\n",
    "\n",
    "* contour avec un seuil de  20 pixels :\n",
    "    \n",
    "!['contour_20_grisvalleluna.jpg'](contour_20_grisvalleluna.jpg)"
   ]
  },
  {
   "cell_type": "markdown",
   "metadata": {},
   "source": [
    "## Exercice 11 _Quart de tour direct_"
   ]
  },
  {
   "cell_type": "code",
   "execution_count": 110,
   "metadata": {},
   "outputs": [],
   "source": [
    "def quart_tour(fichier):\n",
    "    im=Image.open(fichier)\n",
    "    pixels = np.array(im)   \n",
    "    assert len(pixels.shape) == 2 or len(pixels.shape) == 3, \"format d'image non conforme\"\n",
    "    hauteur, largeur = pixels.shape[:2]\n",
    "    if len(pixels.shape) == 3:\n",
    "        pixels_res = np.zeros([largeur, hauteur, 3], dtype=\"uint8\")\n",
    "    else:\n",
    "        pixels_res = np.zeros([largeur, hauteur], dtype=\"uint8\")\n",
    "    for i in range(largeur):\n",
    "        for j in range(hauteur):\n",
    "            pixels_res[i, j] = pixels[j, largeur - 1 - i]\n",
    "    img_res = Image.fromarray(pixels_res)\n",
    "    img_res.save(\"quart_tour_\" + fichier)\n",
    "    img_res.show()"
   ]
  },
  {
   "cell_type": "code",
   "execution_count": 108,
   "metadata": {},
   "outputs": [],
   "source": [
    "quart_tour('valleluna.jpg')"
   ]
  },
  {
   "cell_type": "markdown",
   "metadata": {},
   "source": [
    "* L'image initiale :\n",
    "\n",
    "!['valleluna.jpg'](valleluna.jpg)\n",
    "\n",
    "* L'image obtenue par quart de tour direct :\n",
    "\n",
    "!['quart_tour_valleluna.jpg'](quart_tour_valleluna.jpg)"
   ]
  },
  {
   "cell_type": "markdown",
   "metadata": {},
   "source": [
    "## Exercice 12 _Réduction / Agrandissement_"
   ]
  },
  {
   "cell_type": "code",
   "execution_count": 113,
   "metadata": {},
   "outputs": [],
   "source": [
    "def reduction(imsource, coef):\n",
    "    im = Image.open(imsource)\n",
    "    pixels = np.array(im)   \n",
    "    assert len(pixels.shape) == 2 or len(pixels.shape) == 3, \"format d'image non conforme\"\n",
    "    hauteur, largeur = pixels.shape[:2]\n",
    "    hauteur_res, largeur_res = hauteur // coef, largeur // coef\n",
    "    pixels_res = np.zeros([hauteur_res, largeur_res, 3], dtype=\"uint8\")    \n",
    "    for i in range(hauteur_res):\n",
    "        for j in range(largeur_res):\n",
    "            pixels_res[i, j] = pixels[i * coef, j * coef]\n",
    "    img_res = Image.fromarray(pixels_res)\n",
    "    img_res.save(\"reduction_\" + str(coef) + \"_\" + imsource)\n",
    "    img_res.show()"
   ]
  },
  {
   "cell_type": "code",
   "execution_count": 114,
   "metadata": {},
   "outputs": [],
   "source": [
    "reduction(\"valleluna.jpg\", 2)"
   ]
  },
  {
   "cell_type": "markdown",
   "metadata": {},
   "source": [
    "* L'image initiale :\n",
    "\n",
    "!['valleluna.jpg'](valleluna.jpg)\n",
    "\n",
    "* L'image obtenue par réduction de coefficient 2 :\n",
    "\n",
    "!['reduction_2_valleluna.jpg'](reduction_2_valleluna.jpg)"
   ]
  },
  {
   "cell_type": "code",
   "execution_count": 121,
   "metadata": {},
   "outputs": [],
   "source": [
    "def agrandissement(imsource, coef):\n",
    "    im = Image.open(imsource)\n",
    "    pixels = np.array(im)   \n",
    "    assert len(pixels.shape) == 2 or len(pixels.shape) == 3, \"format d'image non conforme\"\n",
    "    hauteur, largeur = pixels.shape[:2]\n",
    "    hauteur_res, largeur_res = hauteur * coef, largeur * coef\n",
    "    pixels_res = np.zeros([hauteur_res, largeur_res, 3], dtype=\"uint8\")    \n",
    "    for i in range(hauteur_res):\n",
    "        for j in range(largeur_res):\n",
    "            pixels_res[i, j] = pixels[i // coef, j // coef]\n",
    "    img_res = Image.fromarray(pixels_res)\n",
    "    img_res.save(\"agrandissement_\" + str(coef) + \"_\" + imsource)\n",
    "    img_res.show()"
   ]
  },
  {
   "cell_type": "code",
   "execution_count": 122,
   "metadata": {},
   "outputs": [],
   "source": [
    "agrandissement(\"valleluna.jpg\", 2)"
   ]
  },
  {
   "cell_type": "code",
   "execution_count": 123,
   "metadata": {},
   "outputs": [],
   "source": [
    "reduction(\"valleluna.jpg\", 2)\n",
    "agrandissement(\"reduction_2_valleluna.jpg\", 4)"
   ]
  },
  {
   "cell_type": "markdown",
   "metadata": {},
   "source": [
    "* L'image initiale :\n",
    "\n",
    "!['valleluna.jpg'](valleluna.jpg)\n",
    "\n",
    "* L'image obtenue par agrandissement de coefficient 2 :\n",
    "\n",
    "!['agrandissement_2_valleluna.jpg'](agrandissement_2_valleluna.jpg)\n",
    "\n",
    "* L'image obtenue par réduction de coefficient 2 puis agrandissement de coefficient 4   :\n",
    "\n",
    "!['agrandissement_4_reduction_2_valleluna.jpg'](agrandissement_4_reduction_2_valleluna.jpg)"
   ]
  },
  {
   "cell_type": "markdown",
   "metadata": {},
   "source": [
    "## Exercice 13 _Stéganographie_"
   ]
  },
  {
   "cell_type": "code",
   "execution_count": 144,
   "metadata": {},
   "outputs": [],
   "source": [
    "def extraction_image(imsource):\n",
    "    \"\"\"Extrait une image cachée dans imsource :  les 4 bits de poids forts\n",
    "    de l'image cachée sont les 4 bits de poids faibles dans imsource\"\"\"\n",
    "    im = Image.open(imsource)\n",
    "    pixels = np.array(im)   \n",
    "    assert len(pixels.shape) == 2 , \"Il faut une image en niveau de gris\"\n",
    "    pixels_res = np.zeros_like(pixels) \n",
    "    hauteur, largeur = pixels.shape[:2]\n",
    "    for i in range(hauteur):\n",
    "        for j in range(largeur):\n",
    "            pixels_res[i, j] = (pixels[i, j ] % 16) * 16\n",
    "    img_res = Image.fromarray(pixels_res)\n",
    "    img_res.save(\"image_cache_\"  + imsource)\n",
    "    img_res.show()"
   ]
  },
  {
   "cell_type": "code",
   "execution_count": 127,
   "metadata": {},
   "outputs": [],
   "source": [
    "extraction_image(\"mystere.png\")"
   ]
  },
  {
   "cell_type": "markdown",
   "metadata": {},
   "source": [
    "* L'image source :\n",
    "\n",
    "!['mystere.png'](mystere.png)\n",
    "\n",
    "* L'image qui était cachée dans l'image source :\n",
    "\n",
    "!['image_cache__mystere.png'](image_cache_mystere.png)"
   ]
  },
  {
   "cell_type": "code",
   "execution_count": 131,
   "metadata": {},
   "outputs": [],
   "source": [
    "def cache_image(imcache, imsecret):\n",
    "    \"\"\"Cache imsecret dans imcache  :  les 4 bits de poids forts de imsecret\n",
    "    remplacent les 4 bits de poids faibles de  imcache\"\"\"\n",
    "    im1 = Image.open(imcache)\n",
    "    im2 = Image.open(imsecret)\n",
    "    pixels1 = np.array(im1)\n",
    "    pixels2 = np.array(im2) \n",
    "    assert len(pixels1.shape) == 2 and  pixels1.shape == pixels2.shape, \"Il faut deux images en niveau de gris de même dimension\"\n",
    "    hauteur, largeur = pixels1.shape[:2]\n",
    "    pixels_res = np.zeros_like(pixels1)\n",
    "    for i in range(hauteur):\n",
    "        for j in range(largeur):\n",
    "            pixels_res[i, j] = (pixels1[i, j] // 16) * 16 + pixels2[i, j] // 16\n",
    "    img_res = Image.fromarray(pixels_res)\n",
    "    img_res.save(\"image_\" + imsecret.split('.')[0] + \"_dans_\" +  imcache.split('.')[0] + \".png\")\n",
    "    img_res.show()"
   ]
  },
  {
   "cell_type": "code",
   "execution_count": 136,
   "metadata": {},
   "outputs": [],
   "source": [
    "gris('cypres.bmp',[30, 59, 11])"
   ]
  },
  {
   "cell_type": "code",
   "execution_count": 137,
   "metadata": {},
   "outputs": [],
   "source": [
    "gris('femme.bmp',[30, 59, 11])"
   ]
  },
  {
   "cell_type": "code",
   "execution_count": 138,
   "metadata": {},
   "outputs": [],
   "source": [
    "cache_image('griscypres.bmp', 'grisfemme.bmp')"
   ]
  },
  {
   "cell_type": "code",
   "execution_count": 140,
   "metadata": {},
   "outputs": [],
   "source": [
    "extraction_image_(\"image_grisfemme_dans_griscypres.png\")"
   ]
  },
  {
   "cell_type": "markdown",
   "metadata": {},
   "source": [
    "* Image cachette avant stéganographie : \n",
    "    \n",
    "!['griscypres.bmp'](griscypres.bmp)\n",
    "\n",
    "* Image secret / cachée avant stéganographie :  \n",
    "    \n",
    "!['grisfemme.bmp'](grisfemme.bmp)\n",
    "\n",
    "* Image cachette avec stéganographie :\n",
    "    \n",
    "!['image_grisfemme_dans_griscypres.png'](image_grisfemme_dans_griscypres.png)\n",
    "\n",
    "* Image secret / cachée extraite après stéganographie :  \n",
    "\n",
    "!['image_cache_image_grisfemme_dans_griscypres.png'](image_cache_image_grisfemme_dans_griscypres.png)"
   ]
  },
  {
   "cell_type": "code",
   "execution_count": 145,
   "metadata": {},
   "outputs": [],
   "source": [
    "def extraction_image_couleur(imsource):\n",
    "    \"\"\"Extrait une image cachée dans imsource :  les 4 bits de poids forts\n",
    "    de l'image cachée sont les 4 bits de poids faibles dans imsource\"\"\"\n",
    "    im = Image.open(imsource)\n",
    "    pixels = np.array(im)   \n",
    "    assert len(pixels.shape) == 3, \"Il faut une image en R,G,B)\"\n",
    "    pixels_res = np.zeros_like(pixels) \n",
    "    hauteur, largeur = pixels.shape[:2]\n",
    "    for i in range(hauteur):\n",
    "        for j in range(largeur):\n",
    "            for k in range(3):\n",
    "                pixels_res[i, j, k] = (pixels[i, j, k] % 16) * 16\n",
    "    img_res = Image.fromarray(pixels_res)\n",
    "    img_res.save(\"image_cache_\"  + imsource)\n",
    "    img_res.show()\n",
    "\n",
    "def cache_image_couleur(imcache, imsecret):\n",
    "    \"\"\"Cache imsecret dans imcache  :  les 4 bits de poids forts de imsecret\n",
    "    remplacent les 4 bits de poids faibles de  imcache\"\"\"\n",
    "    im1 = Image.open(imcache)\n",
    "    im2 = Image.open(imsecret)\n",
    "    pixels1 = np.array(im1)\n",
    "    pixels2 = np.array(im2) \n",
    "    assert len(pixels1.shape) == 3 and  pixels1.shape == pixels2.shape, \"Il faut deux images en (R,G,B) de même dimension\"\n",
    "    hauteur, largeur = pixels1.shape[:2]\n",
    "    pixels_res = np.zeros_like(pixels1)\n",
    "    for i in range(hauteur):\n",
    "        for j in range(largeur):\n",
    "            for k in range(3):\n",
    "                pixels_res[i, j, k] = (pixels1[i, j, k] // 16) * 16 + pixels2[i, j, k] // 16\n",
    "    img_res = Image.fromarray(pixels_res)\n",
    "    img_res.save(\"image_\" + imsecret.split('.')[0] + \"_dans_\" +  imcache.split('.')[0] + \".png\")\n",
    "    img_res.show()"
   ]
  },
  {
   "cell_type": "code",
   "execution_count": 143,
   "metadata": {},
   "outputs": [],
   "source": [
    "cache_image_couleur('cypres.bmp', 'femme.bmp')"
   ]
  },
  {
   "cell_type": "code",
   "execution_count": 147,
   "metadata": {},
   "outputs": [],
   "source": [
    "extraction_image_couleur(\"image_femme_dans_cypres.png\")"
   ]
  },
  {
   "cell_type": "markdown",
   "metadata": {},
   "source": [
    "* Image cachette avant stéganographie : \n",
    "    \n",
    "!['cypres.bmp'](cypres.bmp)\n",
    "\n",
    "* Image secret / cachée avant stéganographie :  \n",
    "    \n",
    "!['femme.bmp'](femme.bmp)\n",
    "\n",
    "* Image cachette avec stéganographie :\n",
    "    \n",
    "!['image_femme_dans_cypres.png'](image_femme_dans_cypres.png)\n",
    "\n",
    "* Image secret / cachée extraite après stéganographie :  \n",
    "\n",
    "!['image_cache_image_femme_dans_cypres.png'](image_cache_image_femme_dans_cypres.png)"
   ]
  }
 ],
 "metadata": {
  "kernelspec": {
   "display_name": "Python 3",
   "language": "python",
   "name": "python3"
  },
  "language_info": {
   "codemirror_mode": {
    "name": "ipython",
    "version": 3
   },
   "file_extension": ".py",
   "mimetype": "text/x-python",
   "name": "python",
   "nbconvert_exporter": "python",
   "pygments_lexer": "ipython3",
   "version": "3.6.9"
  }
 },
 "nbformat": 4,
 "nbformat_minor": 2
}
