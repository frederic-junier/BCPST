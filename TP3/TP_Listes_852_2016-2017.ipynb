{
 "cells": [
  {
   "cell_type": "markdown",
   "metadata": {},
   "source": [
    "## Présentation des listes avec [pythontutor.com](http://pythontutor.com/)"
   ]
  },
  {
   "cell_type": "markdown",
   "metadata": {},
   "source": [
    "http://www.pythontutor.com/visualize.html#code=c1+%3D+%5B851,+852,+853%5D%0Ac2+%3D+c1%0Ac3+%3D+c1%5B%3A%5D%0Ac4+%3D+852%0Ac1%5B0%5D+%3D+850%0Ac3%5B0%5D+%3D+849%0A%0Adef+modifier_tab(t%29%3A%0A++++t%5B0%5D+%3D+-12%0A%0Adef+modifier_entier(n%29%3A%0A++++n+%3D+-12%0A++++%0Amodifier_tab(c1%29%0A%0Amodifier_entier(c4%29&mode=display&origin=opt-frontend.js&cumulative=false&heapPrimitives=false&textReferences=false&py=3&rawInputLstJSON=%5B%5D&curInstr=16\n"
   ]
  },
  {
   "cell_type": "markdown",
   "metadata": {},
   "source": [
    "# Définition et création de listes"
   ]
  },
  {
   "cell_type": "markdown",
   "metadata": {},
   "source": [
    "### Exercice 1  Des listes jouets"
   ]
  },
  {
   "cell_type": "code",
   "execution_count": 6,
   "metadata": {
    "collapsed": true
   },
   "outputs": [],
   "source": [
    "t1=[10,30,42,2,17,5,30,-20]\n",
    "t2=[i**2 for i in range(-3,6)]\n",
    "t3=[i**3 for i in range(1000) if (i%5) in [0,2,4]]\n",
    "t4=[841.0]\n",
    "for i in range(20):\n",
    "    t4.append(t4[i]/3+28)\n",
    "#t5 identique à t2\n",
    "t5 = [] \n",
    "for i in range(-3,6):\n",
    "    t5.append(i**2)\n",
    "#t6 identique à t3\n",
    "t6 = []\n",
    "for i in range(1000):\n",
    "    if (i%5) in [0,2,4]: \n",
    "        t6.append(i**3)"
   ]
  },
  {
   "cell_type": "code",
   "execution_count": 3,
   "metadata": {
    "collapsed": false
   },
   "outputs": [],
   "source": [
    "t7 = ['ab', 'bc', 'a', 'bb']\n",
    "t8 = [t7[i] for i in range(len(t7)) if 'a' in t7[i]]"
   ]
  },
  {
   "cell_type": "code",
   "execution_count": 4,
   "metadata": {
    "collapsed": false
   },
   "outputs": [
    {
     "data": {
      "text/plain": [
       "(['ab', 'bc', 'a', 'bb'], ['ab', 'a'])"
      ]
     },
     "execution_count": 4,
     "metadata": {},
     "output_type": "execute_result"
    }
   ],
   "source": [
    "t7, t8"
   ]
  },
  {
   "cell_type": "code",
   "execution_count": 2,
   "metadata": {
    "collapsed": false
   },
   "outputs": [
    {
     "data": {
      "text/plain": [
       "([9, 4, 1, 0, 1, 4, 9, 16, 25], [9, 4, 1, 0, 1, 4, 9, 16, 25])"
      ]
     },
     "execution_count": 2,
     "metadata": {},
     "output_type": "execute_result"
    }
   ],
   "source": [
    "t5, t2"
   ]
  },
  {
   "cell_type": "code",
   "execution_count": 4,
   "metadata": {
    "collapsed": false
   },
   "outputs": [
    {
     "data": {
      "text/plain": [
       "600"
      ]
     },
     "execution_count": 4,
     "metadata": {},
     "output_type": "execute_result"
    }
   ],
   "source": [
    "len(t6)"
   ]
  },
  {
   "cell_type": "code",
   "execution_count": 5,
   "metadata": {
    "collapsed": false
   },
   "outputs": [
    {
     "data": {
      "text/plain": [
       "True"
      ]
     },
     "execution_count": 5,
     "metadata": {},
     "output_type": "execute_result"
    }
   ],
   "source": [
    "t6 == t3"
   ]
  },
  {
   "cell_type": "markdown",
   "metadata": {},
   "source": [
    "# Manipulation de listes"
   ]
  },
  {
   "cell_type": "markdown",
   "metadata": {},
   "source": [
    "## Accès aux éléments"
   ]
  },
  {
   "cell_type": "markdown",
   "metadata": {},
   "source": [
    "### Exercice 2  Longueur d'une liste"
   ]
  },
  {
   "cell_type": "code",
   "execution_count": 7,
   "metadata": {
    "collapsed": false
   },
   "outputs": [
    {
     "data": {
      "text/plain": [
       "8"
      ]
     },
     "execution_count": 7,
     "metadata": {},
     "output_type": "execute_result"
    }
   ],
   "source": [
    "len(t1)  #donne la longueur de t1"
   ]
  },
  {
   "cell_type": "code",
   "execution_count": 93,
   "metadata": {
    "collapsed": false
   },
   "outputs": [
    {
     "data": {
      "text/plain": [
       "[8, 9, 600, 21]"
      ]
     },
     "execution_count": 93,
     "metadata": {},
     "output_type": "execute_result"
    }
   ],
   "source": [
    "[len(L) for L in [t1,t2,t3,t4]]"
   ]
  },
  {
   "cell_type": "markdown",
   "metadata": {},
   "source": [
    "### Exercice 3 Procédure échangeant deux valeurs dans une liste/tableau"
   ]
  },
  {
   "cell_type": "code",
   "execution_count": 7,
   "metadata": {
    "collapsed": false
   },
   "outputs": [],
   "source": [
    "L = [i for i in range(851, 854)]"
   ]
  },
  {
   "cell_type": "code",
   "execution_count": 8,
   "metadata": {
    "collapsed": false
   },
   "outputs": [
    {
     "data": {
      "text/plain": [
       "[851, 852, 853]"
      ]
     },
     "execution_count": 8,
     "metadata": {},
     "output_type": "execute_result"
    }
   ],
   "source": [
    "L"
   ]
  },
  {
   "cell_type": "code",
   "execution_count": 9,
   "metadata": {
    "collapsed": true
   },
   "outputs": [],
   "source": [
    "L[0], L[1] = L[1], L[0]"
   ]
  },
  {
   "cell_type": "code",
   "execution_count": 10,
   "metadata": {
    "collapsed": false
   },
   "outputs": [
    {
     "data": {
      "text/plain": [
       "[852, 851, 853]"
      ]
     },
     "execution_count": 10,
     "metadata": {},
     "output_type": "execute_result"
    }
   ],
   "source": [
    "L"
   ]
  },
  {
   "cell_type": "code",
   "execution_count": 94,
   "metadata": {
    "collapsed": true
   },
   "outputs": [],
   "source": [
    "def echange(t, i, j):\n",
    "    \"\"\"echange les valeurs des termes t[i] et t[j] du tableau t\"\"\"\n",
    "    t[i], t[j] = t[j], t[i]\n",
    "    # inutile de retourner t puisque les listes sont passées par référence"
   ]
  },
  {
   "cell_type": "code",
   "execution_count": 95,
   "metadata": {
    "collapsed": false
   },
   "outputs": [
    {
     "data": {
      "text/plain": [
       "[0, 1, 2, 3, 4, 5, 6, 7, 8, 9]"
      ]
     },
     "execution_count": 95,
     "metadata": {},
     "output_type": "execute_result"
    }
   ],
   "source": [
    "t = [k for k in range(10)]\n",
    "t"
   ]
  },
  {
   "cell_type": "code",
   "execution_count": 96,
   "metadata": {
    "collapsed": true
   },
   "outputs": [],
   "source": [
    "echange(t, 1, 9)"
   ]
  },
  {
   "cell_type": "code",
   "execution_count": 97,
   "metadata": {
    "collapsed": false
   },
   "outputs": [
    {
     "data": {
      "text/plain": [
       "[0, 9, 2, 3, 4, 5, 6, 7, 8, 1]"
      ]
     },
     "execution_count": 97,
     "metadata": {},
     "output_type": "execute_result"
    }
   ],
   "source": [
    "t"
   ]
  },
  {
   "cell_type": "markdown",
   "metadata": {},
   "source": [
    "## Liste de listes, matrices"
   ]
  },
  {
   "cell_type": "code",
   "execution_count": 98,
   "metadata": {
    "collapsed": false
   },
   "outputs": [
    {
     "data": {
      "text/plain": [
       "[[1, 2, 3], [4, 5, 6]]"
      ]
     },
     "execution_count": 98,
     "metadata": {},
     "output_type": "execute_result"
    }
   ],
   "source": [
    "M = [ [1, 2, 3], [4,5, 6] ]\n",
    "M"
   ]
  },
  {
   "cell_type": "code",
   "execution_count": 99,
   "metadata": {
    "collapsed": false
   },
   "outputs": [
    {
     "data": {
      "text/plain": [
       "2"
      ]
     },
     "execution_count": 99,
     "metadata": {},
     "output_type": "execute_result"
    }
   ],
   "source": [
    "len(M)"
   ]
  },
  {
   "cell_type": "code",
   "execution_count": 100,
   "metadata": {
    "collapsed": false
   },
   "outputs": [
    {
     "data": {
      "text/plain": [
       "[4, 5, 6]"
      ]
     },
     "execution_count": 100,
     "metadata": {},
     "output_type": "execute_result"
    }
   ],
   "source": [
    "M[1]"
   ]
  },
  {
   "cell_type": "code",
   "execution_count": 101,
   "metadata": {
    "collapsed": false
   },
   "outputs": [
    {
     "data": {
      "text/plain": [
       "3"
      ]
     },
     "execution_count": 101,
     "metadata": {},
     "output_type": "execute_result"
    }
   ],
   "source": [
    "M[0][2]"
   ]
  },
  {
   "cell_type": "code",
   "execution_count": 102,
   "metadata": {
    "collapsed": false
   },
   "outputs": [
    {
     "name": "stdout",
     "output_type": "stream",
     "text": [
      "|1 , 2 , 3|\n",
      "|4 , 5 , 6|\n"
     ]
    }
   ],
   "source": [
    "for i in range(len(M)):\n",
    "    p = len(M[i])\n",
    "    print('|',end='')\n",
    "    for j in range(p - 1):\n",
    "        print(M[i][j], end=' , ')\n",
    "    print(M[i][p - 1], end='|\\n')"
   ]
  },
  {
   "cell_type": "markdown",
   "metadata": {},
   "source": [
    "### Exercice 4"
   ]
  },
  {
   "cell_type": "code",
   "execution_count": 9,
   "metadata": {
    "collapsed": true
   },
   "outputs": [],
   "source": [
    "def dimensions(M):    \n",
    "    return (len(M), len(M[0]))"
   ]
  },
  {
   "cell_type": "code",
   "execution_count": 10,
   "metadata": {
    "collapsed": false
   },
   "outputs": [],
   "source": [
    "d = dimensions([[0,1,2], [3,4,5]])"
   ]
  },
  {
   "cell_type": "code",
   "execution_count": 11,
   "metadata": {
    "collapsed": false
   },
   "outputs": [
    {
     "data": {
      "text/plain": [
       "(2, 3)"
      ]
     },
     "execution_count": 11,
     "metadata": {},
     "output_type": "execute_result"
    }
   ],
   "source": [
    "d"
   ]
  },
  {
   "cell_type": "code",
   "execution_count": 12,
   "metadata": {
    "collapsed": false
   },
   "outputs": [
    {
     "data": {
      "text/plain": [
       "2"
      ]
     },
     "execution_count": 12,
     "metadata": {},
     "output_type": "execute_result"
    }
   ],
   "source": [
    "d[0]"
   ]
  },
  {
   "cell_type": "code",
   "execution_count": 13,
   "metadata": {
    "collapsed": false
   },
   "outputs": [
    {
     "data": {
      "text/plain": [
       "3"
      ]
     },
     "execution_count": 13,
     "metadata": {},
     "output_type": "execute_result"
    }
   ],
   "source": [
    "d[1]"
   ]
  },
  {
   "cell_type": "code",
   "execution_count": 14,
   "metadata": {
    "collapsed": false
   },
   "outputs": [
    {
     "data": {
      "text/plain": [
       "tuple"
      ]
     },
     "execution_count": 14,
     "metadata": {},
     "output_type": "execute_result"
    }
   ],
   "source": [
    "type(d)"
   ]
  },
  {
   "cell_type": "code",
   "execution_count": 15,
   "metadata": {
    "collapsed": false
   },
   "outputs": [
    {
     "ename": "TypeError",
     "evalue": "'tuple' object does not support item assignment",
     "output_type": "error",
     "traceback": [
      "\u001b[1;31m---------------------------------------------------------------------------\u001b[0m",
      "\u001b[1;31mTypeError\u001b[0m                                 Traceback (most recent call last)",
      "\u001b[1;32m<ipython-input-15-92a878cd05cb>\u001b[0m in \u001b[0;36m<module>\u001b[1;34m()\u001b[0m\n\u001b[1;32m----> 1\u001b[1;33m \u001b[0md\u001b[0m\u001b[1;33m[\u001b[0m\u001b[1;36m0\u001b[0m\u001b[1;33m]\u001b[0m \u001b[1;33m=\u001b[0m \u001b[1;36m4\u001b[0m\u001b[1;33m\u001b[0m\u001b[0m\n\u001b[0m",
      "\u001b[1;31mTypeError\u001b[0m: 'tuple' object does not support item assignment"
     ]
    }
   ],
   "source": [
    "d[0] = 4"
   ]
  },
  {
   "cell_type": "markdown",
   "metadata": {},
   "source": [
    "## Slicing"
   ]
  },
  {
   "cell_type": "code",
   "execution_count": 2,
   "metadata": {
    "collapsed": true
   },
   "outputs": [],
   "source": [
    "L = [i for i in range(10)]"
   ]
  },
  {
   "cell_type": "code",
   "execution_count": 12,
   "metadata": {
    "collapsed": false
   },
   "outputs": [
    {
     "data": {
      "text/plain": [
       "[0, 1, 2, 3, 4, 5, 6, 7, 8, 9]"
      ]
     },
     "execution_count": 12,
     "metadata": {},
     "output_type": "execute_result"
    }
   ],
   "source": [
    "L"
   ]
  },
  {
   "cell_type": "code",
   "execution_count": 13,
   "metadata": {
    "collapsed": false
   },
   "outputs": [
    {
     "data": {
      "text/plain": [
       "2"
      ]
     },
     "execution_count": 13,
     "metadata": {},
     "output_type": "execute_result"
    }
   ],
   "source": [
    "L[2] #élément en position 3"
   ]
  },
  {
   "cell_type": "code",
   "execution_count": 14,
   "metadata": {
    "collapsed": false
   },
   "outputs": [
    {
     "data": {
      "text/plain": [
       "9"
      ]
     },
     "execution_count": 14,
     "metadata": {},
     "output_type": "execute_result"
    }
   ],
   "source": [
    "#dernier élément\n",
    "L[len(L) - 1]"
   ]
  },
  {
   "cell_type": "code",
   "execution_count": 3,
   "metadata": {
    "collapsed": false
   },
   "outputs": [
    {
     "data": {
      "text/plain": [
       "[0, 1, 2, 3, 4, 5, 6, 7, 8, 9]"
      ]
     },
     "execution_count": 3,
     "metadata": {},
     "output_type": "execute_result"
    }
   ],
   "source": [
    "L"
   ]
  },
  {
   "cell_type": "markdown",
   "metadata": {},
   "source": [
    "On peut indexer les éléments à partir de la fin\n",
    "Le dernier a pour index -1 \n",
    "Le premier cad L[0] a pour index -len(L)"
   ]
  },
  {
   "cell_type": "code",
   "execution_count": 16,
   "metadata": {
    "collapsed": false
   },
   "outputs": [
    {
     "data": {
      "text/plain": [
       "9"
      ]
     },
     "execution_count": 16,
     "metadata": {},
     "output_type": "execute_result"
    }
   ],
   "source": [
    "L[-1]"
   ]
  },
  {
   "cell_type": "code",
   "execution_count": 17,
   "metadata": {
    "collapsed": false
   },
   "outputs": [
    {
     "data": {
      "text/plain": [
       "0"
      ]
     },
     "execution_count": 17,
     "metadata": {},
     "output_type": "execute_result"
    }
   ],
   "source": [
    "L[-len(L)]"
   ]
  },
  {
   "cell_type": "markdown",
   "metadata": {},
   "source": [
    "Découpage de tranches ou slicing"
   ]
  },
  {
   "cell_type": "code",
   "execution_count": 18,
   "metadata": {
    "collapsed": false
   },
   "outputs": [
    {
     "data": {
      "text/plain": [
       "[0, 1, 2, 3, 4, 5, 6, 7, 8, 9]"
      ]
     },
     "execution_count": 18,
     "metadata": {},
     "output_type": "execute_result"
    }
   ],
   "source": [
    "L"
   ]
  },
  {
   "cell_type": "code",
   "execution_count": 19,
   "metadata": {
    "collapsed": false
   },
   "outputs": [
    {
     "data": {
      "text/plain": [
       "[2, 3, 4]"
      ]
     },
     "execution_count": 19,
     "metadata": {},
     "output_type": "execute_result"
    }
   ],
   "source": [
    "# la tranche des éléments de L entre l'index 2 \n",
    "#et l'index 5 exclu, c'est une liste\n",
    "L[2:5]"
   ]
  },
  {
   "cell_type": "code",
   "execution_count": 21,
   "metadata": {
    "collapsed": false
   },
   "outputs": [
    {
     "data": {
      "text/plain": [
       "[7, 8, 9]"
      ]
     },
     "execution_count": 21,
     "metadata": {},
     "output_type": "execute_result"
    }
   ],
   "source": [
    "#trois derniers éléments\n",
    "L[-3:]"
   ]
  },
  {
   "cell_type": "code",
   "execution_count": 22,
   "metadata": {
    "collapsed": false
   },
   "outputs": [
    {
     "data": {
      "text/plain": [
       "[0, 1, 2]"
      ]
     },
     "execution_count": 22,
     "metadata": {},
     "output_type": "execute_result"
    }
   ],
   "source": [
    "#les trois premiers\n",
    "L[:3]"
   ]
  },
  {
   "cell_type": "code",
   "execution_count": 23,
   "metadata": {
    "collapsed": false
   },
   "outputs": [
    {
     "data": {
      "text/plain": [
       "[3, 4, 5, 6]"
      ]
     },
     "execution_count": 23,
     "metadata": {},
     "output_type": "execute_result"
    }
   ],
   "source": [
    "#tous sauf les trois premiers et les trois derniers\n",
    "L[3:-3]"
   ]
  },
  {
   "cell_type": "code",
   "execution_count": 25,
   "metadata": {
    "collapsed": false
   },
   "outputs": [
    {
     "data": {
      "text/plain": [
       "[0, 1, 2, 7, 8, 9]"
      ]
     },
     "execution_count": 25,
     "metadata": {},
     "output_type": "execute_result"
    }
   ],
   "source": [
    "#les trois premiers suivis des trois derniers\n",
    "L[:3] + L[-3:]"
   ]
  },
  {
   "cell_type": "markdown",
   "metadata": {},
   "source": [
    "### Exercice 5"
   ]
  },
  {
   "cell_type": "code",
   "execution_count": 105,
   "metadata": {
    "collapsed": false
   },
   "outputs": [
    {
     "data": {
      "text/plain": [
       "[952763904,\n",
       " 955671625,\n",
       " 961504803,\n",
       " 967361669,\n",
       " 970299000,\n",
       " 976191488,\n",
       " 982107784,\n",
       " 985074875,\n",
       " 991026973,\n",
       " 997002999]"
      ]
     },
     "execution_count": 105,
     "metadata": {},
     "output_type": "execute_result"
    }
   ],
   "source": [
    "# dix derniers éléments de t3\n",
    "t3[-10:]"
   ]
  },
  {
   "cell_type": "code",
   "execution_count": 106,
   "metadata": {
    "collapsed": false
   },
   "outputs": [
    {
     "data": {
      "text/plain": [
       "[72511713,\n",
       " 73560059,\n",
       " 74088000,\n",
       " 75151448,\n",
       " 76225024,\n",
       " 76765625,\n",
       " 77854483,\n",
       " 78953589,\n",
       " 79507000,\n",
       " 80621568,\n",
       " 81746504,\n",
       " 82312875,\n",
       " 83453453,\n",
       " 84604519,\n",
       " 85184000,\n",
       " 86350888,\n",
       " 87528384,\n",
       " 88121125,\n",
       " 89314623,\n",
       " 90518849,\n",
       " 91125000,\n",
       " 92345408,\n",
       " 93576664,\n",
       " 94196375,\n",
       " 95443993,\n",
       " 96702579,\n",
       " 97336000,\n",
       " 98611128,\n",
       " 99897344,\n",
       " 100544625,\n",
       " 101847563,\n",
       " 103161709,\n",
       " 103823000,\n",
       " 105154048,\n",
       " 106496424,\n",
       " 107171875,\n",
       " 108531333,\n",
       " 109902239,\n",
       " 110592000,\n",
       " 111980168,\n",
       " 113379904,\n",
       " 114084125,\n",
       " 115501303,\n",
       " 116930169,\n",
       " 117649000,\n",
       " 119095488,\n",
       " 120553784,\n",
       " 121287375,\n",
       " 122763473,\n",
       " 124251499,\n",
       " 125000000,\n",
       " 126506008,\n",
       " 128024064,\n",
       " 128787625,\n",
       " 130323843,\n",
       " 131872229,\n",
       " 132651000,\n",
       " 134217728,\n",
       " 135796744,\n",
       " 136590875,\n",
       " 138188413,\n",
       " 139798359,\n",
       " 140608000,\n",
       " 142236648,\n",
       " 143877824,\n",
       " 144703125,\n",
       " 146363183,\n",
       " 148035889,\n",
       " 148877000,\n",
       " 150568768,\n",
       " 152273304,\n",
       " 153130375,\n",
       " 154854153,\n",
       " 156590819,\n",
       " 157464000,\n",
       " 159220088,\n",
       " 160989184,\n",
       " 161878625,\n",
       " 163667323,\n",
       " 165469149,\n",
       " 166375000,\n",
       " 168196608,\n",
       " 170031464,\n",
       " 170953875,\n",
       " 172808693,\n",
       " 174676879,\n",
       " 175616000,\n",
       " 177504328,\n",
       " 179406144,\n",
       " 180362125,\n",
       " 182284263,\n",
       " 184220009,\n",
       " 185193000,\n",
       " 187149248,\n",
       " 189119224,\n",
       " 190109375,\n",
       " 192100033,\n",
       " 194104539,\n",
       " 195112000,\n",
       " 197137368]"
      ]
     },
     "execution_count": 106,
     "metadata": {},
     "output_type": "execute_result"
    }
   ],
   "source": [
    "# éléments de t3 sauf les 250 premiers et les 250 derniers\n",
    "t3[250:-250]"
   ]
  },
  {
   "cell_type": "code",
   "execution_count": 107,
   "metadata": {
    "collapsed": false
   },
   "outputs": [
    {
     "data": {
      "text/plain": [
       "[841.0,\n",
       " 308.3333333333333,\n",
       " 130.77777777777777,\n",
       " 71.59259259259258,\n",
       " 51.86419753086419,\n",
       " 42.000018561227925,\n",
       " 42.000006187075975,\n",
       " 42.00000206235866,\n",
       " 42.00000068745289,\n",
       " 42.00000022915096]"
      ]
     },
     "execution_count": 107,
     "metadata": {},
     "output_type": "execute_result"
    }
   ],
   "source": [
    "# cinq premiers éléments de t4 suivie des cinq derniers de t4\n",
    "t4[:5]+t4[-5:]"
   ]
  },
  {
   "cell_type": "markdown",
   "metadata": {},
   "source": [
    "## Modification, ajout et suppression d'éléments"
   ]
  },
  {
   "cell_type": "markdown",
   "metadata": {},
   "source": [
    "### Ajout d'un élément, extension, insertion"
   ]
  },
  {
   "cell_type": "code",
   "execution_count": 108,
   "metadata": {
    "collapsed": false
   },
   "outputs": [
    {
     "data": {
      "text/plain": [
       "3025647820"
      ]
     },
     "execution_count": 108,
     "metadata": {},
     "output_type": "execute_result"
    }
   ],
   "source": [
    "li = [5, 6, 9, 12]\n",
    "id(li)"
   ]
  },
  {
   "cell_type": "code",
   "execution_count": 109,
   "metadata": {
    "collapsed": true
   },
   "outputs": [],
   "source": [
    "li.append(-14)"
   ]
  },
  {
   "cell_type": "code",
   "execution_count": 110,
   "metadata": {
    "collapsed": false
   },
   "outputs": [
    {
     "data": {
      "text/plain": [
       "[5, 6, 9, 12, -14]"
      ]
     },
     "execution_count": 110,
     "metadata": {},
     "output_type": "execute_result"
    }
   ],
   "source": [
    "li"
   ]
  },
  {
   "cell_type": "code",
   "execution_count": 111,
   "metadata": {
    "collapsed": false
   },
   "outputs": [
    {
     "data": {
      "text/plain": [
       "3025647820"
      ]
     },
     "execution_count": 111,
     "metadata": {},
     "output_type": "execute_result"
    }
   ],
   "source": [
    "id(li) #l'adresse mémoire de li n'est pas modifiée par append"
   ]
  },
  {
   "cell_type": "code",
   "execution_count": 112,
   "metadata": {
    "collapsed": false
   },
   "outputs": [
    {
     "data": {
      "text/plain": [
       "3025646284"
      ]
     },
     "execution_count": 112,
     "metadata": {},
     "output_type": "execute_result"
    }
   ],
   "source": [
    "lj = [7, 8, 10]\n",
    "id(lj)"
   ]
  },
  {
   "cell_type": "code",
   "execution_count": 113,
   "metadata": {
    "collapsed": true
   },
   "outputs": [],
   "source": [
    "lj = lj + [14]"
   ]
  },
  {
   "cell_type": "code",
   "execution_count": 114,
   "metadata": {
    "collapsed": false
   },
   "outputs": [
    {
     "data": {
      "text/plain": [
       "[7, 8, 10, 14]"
      ]
     },
     "execution_count": 114,
     "metadata": {},
     "output_type": "execute_result"
    }
   ],
   "source": [
    "lj"
   ]
  },
  {
   "cell_type": "code",
   "execution_count": 115,
   "metadata": {
    "collapsed": false
   },
   "outputs": [
    {
     "data": {
      "text/plain": [
       "3025638028"
      ]
     },
     "execution_count": 115,
     "metadata": {},
     "output_type": "execute_result"
    }
   ],
   "source": [
    "id(lj) #une nouvelle adresse mémoire a été affectée à lj"
   ]
  },
  {
   "cell_type": "code",
   "execution_count": 116,
   "metadata": {
    "collapsed": true
   },
   "outputs": [],
   "source": [
    "li.extend(lj)"
   ]
  },
  {
   "cell_type": "code",
   "execution_count": 117,
   "metadata": {
    "collapsed": false
   },
   "outputs": [
    {
     "data": {
      "text/plain": [
       "[5, 6, 9, 12, -14, 7, 8, 10, 14]"
      ]
     },
     "execution_count": 117,
     "metadata": {},
     "output_type": "execute_result"
    }
   ],
   "source": [
    "li"
   ]
  },
  {
   "cell_type": "code",
   "execution_count": 118,
   "metadata": {
    "collapsed": false
   },
   "outputs": [
    {
     "data": {
      "text/plain": [
       "3025647820"
      ]
     },
     "execution_count": 118,
     "metadata": {},
     "output_type": "execute_result"
    }
   ],
   "source": [
    "id(li)  #l'adresse mémoire de li n'est pas modifiée par extend"
   ]
  },
  {
   "cell_type": "code",
   "execution_count": 119,
   "metadata": {
    "collapsed": false
   },
   "outputs": [
    {
     "data": {
      "text/plain": [
       "[5, 6, 9, 12]"
      ]
     },
     "execution_count": 119,
     "metadata": {},
     "output_type": "execute_result"
    }
   ],
   "source": [
    "li[:4]"
   ]
  },
  {
   "cell_type": "code",
   "execution_count": 120,
   "metadata": {
    "collapsed": false
   },
   "outputs": [],
   "source": [
    "lj = li[:4] + lj"
   ]
  },
  {
   "cell_type": "code",
   "execution_count": 121,
   "metadata": {
    "collapsed": false
   },
   "outputs": [
    {
     "data": {
      "text/plain": [
       "[5, 6, 9, 12, 7, 8, 10, 14]"
      ]
     },
     "execution_count": 121,
     "metadata": {},
     "output_type": "execute_result"
    }
   ],
   "source": [
    "lj"
   ]
  },
  {
   "cell_type": "code",
   "execution_count": 122,
   "metadata": {
    "collapsed": true
   },
   "outputs": [],
   "source": [
    "lj.insert(1, 13) #insertion de 13 en position 1"
   ]
  },
  {
   "cell_type": "code",
   "execution_count": 123,
   "metadata": {
    "collapsed": false
   },
   "outputs": [
    {
     "data": {
      "text/plain": [
       "[5, 13, 6, 9, 12, 7, 8, 10, 14]"
      ]
     },
     "execution_count": 123,
     "metadata": {},
     "output_type": "execute_result"
    }
   ],
   "source": [
    "lj"
   ]
  },
  {
   "cell_type": "code",
   "execution_count": 124,
   "metadata": {
    "collapsed": true
   },
   "outputs": [],
   "source": [
    "lj[3:4] = [100]  #insertion de 100 à la place de 9 en position 3"
   ]
  },
  {
   "cell_type": "code",
   "execution_count": 125,
   "metadata": {
    "collapsed": false
   },
   "outputs": [
    {
     "data": {
      "text/plain": [
       "[5, 13, 6, 100, 12, 7, 8, 10, 14]"
      ]
     },
     "execution_count": 125,
     "metadata": {},
     "output_type": "execute_result"
    }
   ],
   "source": [
    "lj"
   ]
  },
  {
   "cell_type": "code",
   "execution_count": 126,
   "metadata": {
    "collapsed": true
   },
   "outputs": [],
   "source": [
    "lj[3:3] = [99]  #insertion de 99 en position 3 "
   ]
  },
  {
   "cell_type": "code",
   "execution_count": 127,
   "metadata": {
    "collapsed": false
   },
   "outputs": [
    {
     "data": {
      "text/plain": [
       "[5, 13, 6, 99, 100, 12, 7, 8, 10, 14]"
      ]
     },
     "execution_count": 127,
     "metadata": {},
     "output_type": "execute_result"
    }
   ],
   "source": [
    "lj"
   ]
  },
  {
   "cell_type": "markdown",
   "metadata": {},
   "source": [
    "### Suppression"
   ]
  },
  {
   "cell_type": "code",
   "execution_count": 128,
   "metadata": {
    "collapsed": true
   },
   "outputs": [],
   "source": [
    "L = [42, \"BCPST\", 2 < 3, 3.14, [5, 4]]"
   ]
  },
  {
   "cell_type": "code",
   "execution_count": 129,
   "metadata": {
    "collapsed": true
   },
   "outputs": [],
   "source": [
    "del L[2] #suppression de l'élément en position 2"
   ]
  },
  {
   "cell_type": "code",
   "execution_count": 130,
   "metadata": {
    "collapsed": false
   },
   "outputs": [
    {
     "data": {
      "text/plain": [
       "[42, 'BCPST', 3.14, [5, 4]]"
      ]
     },
     "execution_count": 130,
     "metadata": {},
     "output_type": "execute_result"
    }
   ],
   "source": [
    "L"
   ]
  },
  {
   "cell_type": "code",
   "execution_count": 131,
   "metadata": {
    "collapsed": true
   },
   "outputs": [],
   "source": [
    "L[1:2] = []  #suppression de l'élément en position 1"
   ]
  },
  {
   "cell_type": "code",
   "execution_count": 132,
   "metadata": {
    "collapsed": false
   },
   "outputs": [
    {
     "data": {
      "text/plain": [
       "[42, 3.14, [5, 4]]"
      ]
     },
     "execution_count": 132,
     "metadata": {},
     "output_type": "execute_result"
    }
   ],
   "source": [
    "L"
   ]
  },
  {
   "cell_type": "code",
   "execution_count": 133,
   "metadata": {
    "collapsed": true
   },
   "outputs": [],
   "source": [
    "val = L.pop(1)    #suppression de l'élément en position 1 et récupération de la valeur"
   ]
  },
  {
   "cell_type": "code",
   "execution_count": 134,
   "metadata": {
    "collapsed": false
   },
   "outputs": [
    {
     "data": {
      "text/plain": [
       "3.14"
      ]
     },
     "execution_count": 134,
     "metadata": {},
     "output_type": "execute_result"
    }
   ],
   "source": [
    "val"
   ]
  },
  {
   "cell_type": "code",
   "execution_count": 135,
   "metadata": {
    "collapsed": false
   },
   "outputs": [
    {
     "data": {
      "text/plain": [
       "[42, [5, 4]]"
      ]
     },
     "execution_count": 135,
     "metadata": {},
     "output_type": "execute_result"
    }
   ],
   "source": [
    "L"
   ]
  },
  {
   "cell_type": "markdown",
   "metadata": {},
   "source": [
    "### Les listes, des objets itérables"
   ]
  },
  {
   "cell_type": "code",
   "execution_count": 17,
   "metadata": {
    "collapsed": false
   },
   "outputs": [],
   "source": [
    "L = [i for i in range(851, 854)]"
   ]
  },
  {
   "cell_type": "markdown",
   "metadata": {},
   "source": [
    "Parcours sur les index"
   ]
  },
  {
   "cell_type": "code",
   "execution_count": 18,
   "metadata": {
    "collapsed": false
   },
   "outputs": [
    {
     "name": "stdout",
     "output_type": "stream",
     "text": [
      "0 851\n",
      "1 852\n",
      "2 853\n"
     ]
    }
   ],
   "source": [
    "for i in range(len(L)):\n",
    "    print(i, L[i])"
   ]
  },
  {
   "cell_type": "markdown",
   "metadata": {},
   "source": [
    "Parcours sur les valeurs"
   ]
  },
  {
   "cell_type": "code",
   "execution_count": 19,
   "metadata": {
    "collapsed": false
   },
   "outputs": [
    {
     "name": "stdout",
     "output_type": "stream",
     "text": [
      "851\n",
      "852\n",
      "853\n"
     ]
    }
   ],
   "source": [
    "for element in L:\n",
    "    print(element)"
   ]
  },
  {
   "cell_type": "markdown",
   "metadata": {},
   "source": [
    "Carrés de L"
   ]
  },
  {
   "cell_type": "code",
   "execution_count": 20,
   "metadata": {
    "collapsed": false
   },
   "outputs": [
    {
     "data": {
      "text/plain": [
       "[724201, 725904, 727609]"
      ]
     },
     "execution_count": 20,
     "metadata": {},
     "output_type": "execute_result"
    }
   ],
   "source": [
    "[L[i] ** 2  for i in range(len(L))]"
   ]
  },
  {
   "cell_type": "code",
   "execution_count": 21,
   "metadata": {
    "collapsed": false
   },
   "outputs": [
    {
     "data": {
      "text/plain": [
       "[724201, 725904, 727609]"
      ]
     },
     "execution_count": 21,
     "metadata": {},
     "output_type": "execute_result"
    }
   ],
   "source": [
    "[ element ** 2 for element in L]"
   ]
  },
  {
   "cell_type": "markdown",
   "metadata": {},
   "source": [
    "### Exercice 6"
   ]
  },
  {
   "cell_type": "code",
   "execution_count": 136,
   "metadata": {
    "collapsed": true
   },
   "outputs": [],
   "source": [
    "t5 = [t2[2*i+1] for i in range(3)]"
   ]
  },
  {
   "cell_type": "code",
   "execution_count": 137,
   "metadata": {
    "collapsed": false
   },
   "outputs": [
    {
     "data": {
      "text/plain": [
       "([9, 4, 1, 0, 1, 4, 9, 16, 25], [4, 0, 4])"
      ]
     },
     "execution_count": 137,
     "metadata": {},
     "output_type": "execute_result"
    }
   ],
   "source": [
    "# t5 contient les trois premiers éléments de t2 d'indice impair\n",
    "t2, t5"
   ]
  },
  {
   "cell_type": "code",
   "execution_count": 138,
   "metadata": {
    "collapsed": false
   },
   "outputs": [
    {
     "data": {
      "text/plain": [
       "[4, 0, 4]"
      ]
     },
     "execution_count": 138,
     "metadata": {},
     "output_type": "execute_result"
    }
   ],
   "source": [
    "t2[1:7:2] #trois premiers éléments de t2 d'indice impair par slicing"
   ]
  },
  {
   "cell_type": "code",
   "execution_count": 139,
   "metadata": {
    "collapsed": true
   },
   "outputs": [],
   "source": [
    "t6 = [x**2 for x in t2]"
   ]
  },
  {
   "cell_type": "code",
   "execution_count": 140,
   "metadata": {
    "collapsed": false
   },
   "outputs": [
    {
     "data": {
      "text/plain": [
       "[81, 16, 1, 0, 1, 16, 81, 256, 625]"
      ]
     },
     "execution_count": 140,
     "metadata": {},
     "output_type": "execute_result"
    }
   ],
   "source": [
    "# t6 contient les carrés des éléments de t2\n",
    "t6"
   ]
  },
  {
   "cell_type": "code",
   "execution_count": 141,
   "metadata": {
    "collapsed": true
   },
   "outputs": [],
   "source": [
    "t7 = [(x,y) for x in [1,2,3] for y in [3,1,4] if x != y]"
   ]
  },
  {
   "cell_type": "markdown",
   "metadata": {},
   "source": [
    "t7 avec Pythontutor\n",
    "\n",
    "http://www.pythontutor.com/visualize.html#code=t7+%3D+%5B(x,y%29+for+x+in+%5B1,2,3%5D+for+y+in+%5B3,1,4%5D+if+x+!%3D+y%5D%0A%0At7bis+%3D+%5B%5D%0Afor+x+in+%5B1,2,3%5D%3A%0A++++for+y+in+%5B3,1,4%5D%3A%0A++++++++if+x+!%3D+y%3A%0A++++++++++++t7bis.append((x,y%29%29&mode=display&origin=opt-frontend.js&cumulative=false&heapPrimitives=false&textReferences=false&py=3&rawInputLstJSON=%5B%5D&curInstr=26"
   ]
  },
  {
   "cell_type": "markdown",
   "metadata": {},
   "source": [
    "t7 contient les couples (i,j) avec i in [1,2,3] et j in [3,1,4] et i!=j "
   ]
  },
  {
   "cell_type": "markdown",
   "metadata": {},
   "source": [
    "### Exercice 7 Listes en compréhension ou slicing ?"
   ]
  },
  {
   "cell_type": "markdown",
   "metadata": {},
   "source": [
    "Liste des éléments d'indice pair de t1"
   ]
  },
  {
   "cell_type": "code",
   "execution_count": 142,
   "metadata": {
    "collapsed": false
   },
   "outputs": [
    {
     "data": {
      "text/plain": [
       "[10, 30, 42, 2, 17, 5, 30, -20]"
      ]
     },
     "execution_count": 142,
     "metadata": {},
     "output_type": "execute_result"
    }
   ],
   "source": [
    "t1"
   ]
  },
  {
   "cell_type": "code",
   "execution_count": 143,
   "metadata": {
    "collapsed": false
   },
   "outputs": [
    {
     "data": {
      "text/plain": [
       "[10, 42, 17, 30]"
      ]
     },
     "execution_count": 143,
     "metadata": {},
     "output_type": "execute_result"
    }
   ],
   "source": [
    "# Par slicing\n",
    "t1[::2]"
   ]
  },
  {
   "cell_type": "code",
   "execution_count": 144,
   "metadata": {
    "collapsed": false
   },
   "outputs": [
    {
     "data": {
      "text/plain": [
       "[10, 42, 17, 30]"
      ]
     },
     "execution_count": 144,
     "metadata": {},
     "output_type": "execute_result"
    }
   ],
   "source": [
    "#Par liste en compréhension\n",
    "[t1[i]  for i in range(0, len(t1), 2)]"
   ]
  },
  {
   "cell_type": "code",
   "execution_count": null,
   "metadata": {
    "collapsed": true
   },
   "outputs": [],
   "source": [
    "[t1[i]  for i in range(0, len(t1)) if i%2 == 0]"
   ]
  },
  {
   "cell_type": "code",
   "execution_count": null,
   "metadata": {
    "collapsed": true
   },
   "outputs": [],
   "source": [
    "L = []\n",
    "for i in range(0, len(t1)):\n",
    "    if i%2 == 0:\n",
    "        L.append(t1[i])"
   ]
  },
  {
   "cell_type": "markdown",
   "metadata": {},
   "source": [
    "Liste des termes pairs de t1"
   ]
  },
  {
   "cell_type": "code",
   "execution_count": 145,
   "metadata": {
    "collapsed": false
   },
   "outputs": [
    {
     "data": {
      "text/plain": [
       "[10, 30, 42, 2, 30, -20]"
      ]
     },
     "execution_count": 145,
     "metadata": {},
     "output_type": "execute_result"
    }
   ],
   "source": [
    "#par liste en compréhension\n",
    "[e for e in t1 if e%2 == 0]"
   ]
  },
  {
   "cell_type": "code",
   "execution_count": 146,
   "metadata": {
    "collapsed": false
   },
   "outputs": [
    {
     "name": "stdout",
     "output_type": "stream",
     "text": [
      "[10, 30, 42, 2, 30, -20]\n"
     ]
    }
   ],
   "source": [
    "#avec append\n",
    "pair = []\n",
    "for e in t1:\n",
    "    if e % 2 == 0:\n",
    "        pair.append(e)\n",
    "print(pair)"
   ]
  },
  {
   "cell_type": "markdown",
   "metadata": {},
   "source": [
    "### Exercice 8"
   ]
  },
  {
   "cell_type": "code",
   "execution_count": null,
   "metadata": {
    "collapsed": true
   },
   "outputs": [],
   "source": [
    "def somme1(t):\n",
    "    s = 0\n",
    "    for i range(len(t)):\n",
    "        s = s + t[i]\n",
    "    return s    "
   ]
  },
  {
   "cell_type": "code",
   "execution_count": 23,
   "metadata": {
    "collapsed": true
   },
   "outputs": [],
   "source": [
    "def somme(tab):\n",
    "    \"\"\"somme des éléments d'un tableau, redéfinition de sum\"\"\"\n",
    "    s = 0\n",
    "    for terme in tab:\n",
    "        s += terme\n",
    "    return s"
   ]
  },
  {
   "cell_type": "code",
   "execution_count": 148,
   "metadata": {
    "collapsed": false
   },
   "outputs": [
    {
     "data": {
      "text/plain": [
       "116"
      ]
     },
     "execution_count": 148,
     "metadata": {},
     "output_type": "execute_result"
    }
   ],
   "source": [
    "somme(t1)"
   ]
  },
  {
   "cell_type": "code",
   "execution_count": 22,
   "metadata": {
    "collapsed": true
   },
   "outputs": [],
   "source": [
    "def moyenne(tab):\n",
    "    \"\"\"moyenne des éléments d'un tableau sous forme de flottant\"\"\"\n",
    "    return float(somme(tab))/len(tab)"
   ]
  },
  {
   "cell_type": "code",
   "execution_count": 150,
   "metadata": {
    "collapsed": false
   },
   "outputs": [
    {
     "data": {
      "text/plain": [
       "7.666666666666667"
      ]
     },
     "execution_count": 150,
     "metadata": {},
     "output_type": "execute_result"
    }
   ],
   "source": [
    "moyenne(t2)"
   ]
  },
  {
   "cell_type": "markdown",
   "metadata": {},
   "source": [
    "moyenne des carrés de t2"
   ]
  },
  {
   "cell_type": "code",
   "execution_count": 24,
   "metadata": {
    "collapsed": false
   },
   "outputs": [
    {
     "data": {
      "text/plain": [
       "119.66666666666667"
      ]
     },
     "execution_count": 24,
     "metadata": {},
     "output_type": "execute_result"
    }
   ],
   "source": [
    "moyenne([e**2 for e in t2])"
   ]
  },
  {
   "cell_type": "markdown",
   "metadata": {
    "collapsed": true
   },
   "source": [
    "Racine carré"
   ]
  },
  {
   "cell_type": "code",
   "execution_count": 26,
   "metadata": {
    "collapsed": false
   },
   "outputs": [
    {
     "data": {
      "text/plain": [
       "1.4142135623730951"
      ]
     },
     "execution_count": 26,
     "metadata": {},
     "output_type": "execute_result"
    }
   ],
   "source": [
    "from math import sqrt\n",
    "sqrt(2)"
   ]
  },
  {
   "cell_type": "code",
   "execution_count": 27,
   "metadata": {
    "collapsed": false
   },
   "outputs": [
    {
     "data": {
      "text/plain": [
       "1.4142135623730951"
      ]
     },
     "execution_count": 27,
     "metadata": {},
     "output_type": "execute_result"
    }
   ],
   "source": [
    "2 ** 0.5"
   ]
  },
  {
   "cell_type": "code",
   "execution_count": 28,
   "metadata": {
    "collapsed": false
   },
   "outputs": [
    {
     "data": {
      "text/plain": [
       "1.4142135623730951"
      ]
     },
     "execution_count": 28,
     "metadata": {},
     "output_type": "execute_result"
    }
   ],
   "source": [
    "2 ** (1/2)"
   ]
  },
  {
   "cell_type": "code",
   "execution_count": 29,
   "metadata": {
    "collapsed": false
   },
   "outputs": [
    {
     "data": {
      "text/plain": [
       "1.0"
      ]
     },
     "execution_count": 29,
     "metadata": {},
     "output_type": "execute_result"
    }
   ],
   "source": [
    "2**1/2"
   ]
  },
  {
   "cell_type": "code",
   "execution_count": 25,
   "metadata": {
    "collapsed": true
   },
   "outputs": [],
   "source": [
    "def ecart_type1(tab):\n",
    "    \"\"\"écart-type des éléments d'un tableau avec la  formule de Konig\"\"\"\n",
    "    tabcarre = [x**2 for x in tab]\n",
    "    return (moyenne(tabcarre)-moyenne(tab)**2)**0.5"
   ]
  },
  {
   "cell_type": "code",
   "execution_count": 152,
   "metadata": {
    "collapsed": false
   },
   "outputs": [
    {
     "data": {
      "text/plain": [
       "7.803133273813083"
      ]
     },
     "execution_count": 152,
     "metadata": {},
     "output_type": "execute_result"
    }
   ],
   "source": [
    "ecart_type1(t2)"
   ]
  },
  {
   "cell_type": "code",
   "execution_count": 153,
   "metadata": {
    "collapsed": true
   },
   "outputs": [],
   "source": [
    "def ecart_type2(tab):\n",
    "    \"\"\"écart-type des éléments d'un tableau avec la définition et sans listes en compréhension\"\"\"\n",
    "    m = moyenne(tab) # m est un flottant\n",
    "    s = 0. #s sera un flottant\n",
    "    # s recevra la somme des carrés des écarts à la moyenne\n",
    "    for x in tab:\n",
    "        s = s +(x - m)**2\n",
    "    return (s/len(tab))**0.5"
   ]
  },
  {
   "cell_type": "code",
   "execution_count": 154,
   "metadata": {
    "collapsed": false
   },
   "outputs": [
    {
     "data": {
      "text/plain": [
       "7.803133273813083"
      ]
     },
     "execution_count": 154,
     "metadata": {},
     "output_type": "execute_result"
    }
   ],
   "source": [
    "ecart_type2(t2)"
   ]
  },
  {
   "cell_type": "markdown",
   "metadata": {},
   "source": [
    "### Exercice 9"
   ]
  },
  {
   "cell_type": "code",
   "execution_count": 26,
   "metadata": {
    "collapsed": true
   },
   "outputs": [],
   "source": [
    "def maximum(tab):\n",
    "    \"\"\"retourne le maximum d'un tableau, redéfinition de max\"\"\"\n",
    "    m = tab[0]\n",
    "    for terme in tab[1:]: # ou for k in range(1, len(tab))\n",
    "        if terme > m:     # ou if tab[k] > m\n",
    "            m = terme   # ou m = tab[k]\n",
    "    return m \n",
    "    \n",
    "def maximum2(tab):\n",
    "    \"\"\"retourne le maximum d'un tableau, redéfinition de max\"\"\"\n",
    "    m = tab[0]\n",
    "    for i in range(1, len(tab)):\n",
    "        if tab[i] > m:\n",
    "            m = tab[i]\n",
    "    return m"
   ]
  },
  {
   "cell_type": "code",
   "execution_count": 27,
   "metadata": {
    "collapsed": true
   },
   "outputs": [],
   "source": [
    "def position_maximum(tab):\n",
    "    \"\"\"retourne la première position où le maximum est atteint\"\"\"\n",
    "    pos,maxi = 0,tab[0]\n",
    "    for i in range(1, len(tab)):\n",
    "        if tab[i] >= maxi: # si on met une inégalité large, la fonction retourne la dernière position où le maximum est atteint\n",
    "            pos,maxi = i,tab[i]\n",
    "    return pos"
   ]
  },
  {
   "cell_type": "code",
   "execution_count": 157,
   "metadata": {
    "collapsed": true
   },
   "outputs": [],
   "source": [
    "def liste_positions_maximum(tab):\n",
    "    \"\"\"retourne le maximum et la liste des positions où il est atteint\"\"\"\n",
    "    tmaxi, maxi = [0],tab[0]\n",
    "    for i in range(1,len(tab)):\n",
    "        if tab[i] > maxi:\n",
    "            tmaxi,maxi = [i],tab[i]\n",
    "        elif tab[i] == maxi:\n",
    "            tmaxi.append(i)\n",
    "    return tmaxi,maxi"
   ]
  },
  {
   "cell_type": "code",
   "execution_count": 158,
   "metadata": {
    "collapsed": false
   },
   "outputs": [
    {
     "data": {
      "text/plain": [
       "4"
      ]
     },
     "execution_count": 158,
     "metadata": {},
     "output_type": "execute_result"
    }
   ],
   "source": [
    "maximum([3,4,4,2])"
   ]
  },
  {
   "cell_type": "code",
   "execution_count": 159,
   "metadata": {
    "collapsed": false
   },
   "outputs": [
    {
     "data": {
      "text/plain": [
       "2"
      ]
     },
     "execution_count": 159,
     "metadata": {},
     "output_type": "execute_result"
    }
   ],
   "source": [
    "position_maximum([3,4,4,2])"
   ]
  },
  {
   "cell_type": "code",
   "execution_count": 160,
   "metadata": {
    "collapsed": false
   },
   "outputs": [
    {
     "data": {
      "text/plain": [
       "([1, 2], 4)"
      ]
     },
     "execution_count": 160,
     "metadata": {},
     "output_type": "execute_result"
    }
   ],
   "source": [
    "liste_positions_maximum([3,4,4,2])"
   ]
  },
  {
   "cell_type": "markdown",
   "metadata": {},
   "source": [
    "### Exercice 10"
   ]
  },
  {
   "cell_type": "code",
   "execution_count": 161,
   "metadata": {
    "collapsed": true
   },
   "outputs": [],
   "source": [
    "def croissante(t):\n",
    "    \"\"\"Retourne un booleen indiquant si une liste est croissante\"\"\"\n",
    "    for k in range(len(t) - 1):\n",
    "        if t[k] > t[k + 1]:\n",
    "            return False\n",
    "    return True"
   ]
  },
  {
   "cell_type": "code",
   "execution_count": 162,
   "metadata": {
    "collapsed": true
   },
   "outputs": [],
   "source": [
    "import operator  #module permettant de récupérer les opérateurs de base sous forme de fonction\n",
    "\n",
    "def monotone(t):\n",
    "    \"\"\"Retourne un booleen indiquant si une liste est monotone\"\"\"\n",
    "    assert len(t) >= 2, \"La liste doit contenir au moins deux éléments\"\n",
    "    #on choisit la fonction de comparaison selon l'ordre des deux premiers éléments\n",
    "    if t[0] < t[1]:\n",
    "        comparaison = operator.gt\n",
    "    else:\n",
    "        comparaison = operator.lt\n",
    "    for k in range(1, len(t) - 1):\n",
    "        if comparaison(t[k], t[k + 1]):\n",
    "            return False\n",
    "    return True"
   ]
  },
  {
   "cell_type": "code",
   "execution_count": 163,
   "metadata": {
    "collapsed": false
   },
   "outputs": [
    {
     "name": "stdout",
     "output_type": "stream",
     "text": [
      "[0, 1, 2, 3, 4, 5, 6, 7, 8, 9]\n"
     ]
    }
   ],
   "source": [
    "t = [k for k in range(10)]\n",
    "print(t)"
   ]
  },
  {
   "cell_type": "code",
   "execution_count": 164,
   "metadata": {
    "collapsed": false
   },
   "outputs": [
    {
     "data": {
      "text/plain": [
       "True"
      ]
     },
     "execution_count": 164,
     "metadata": {},
     "output_type": "execute_result"
    }
   ],
   "source": [
    "croissante(t)"
   ]
  },
  {
   "cell_type": "code",
   "execution_count": 165,
   "metadata": {
    "collapsed": false
   },
   "outputs": [
    {
     "data": {
      "text/plain": [
       "[9, 8, 7, 6, 5, 4, 3, 2, 1, 0]"
      ]
     },
     "execution_count": 165,
     "metadata": {},
     "output_type": "execute_result"
    }
   ],
   "source": [
    "t[::-1]   #inversion d'une liste par slicing"
   ]
  },
  {
   "cell_type": "code",
   "execution_count": 166,
   "metadata": {
    "collapsed": false
   },
   "outputs": [
    {
     "data": {
      "text/plain": [
       "False"
      ]
     },
     "execution_count": 166,
     "metadata": {},
     "output_type": "execute_result"
    }
   ],
   "source": [
    "croissante(t[::-1] )"
   ]
  },
  {
   "cell_type": "code",
   "execution_count": 167,
   "metadata": {
    "collapsed": false
   },
   "outputs": [
    {
     "data": {
      "text/plain": [
       "True"
      ]
     },
     "execution_count": 167,
     "metadata": {},
     "output_type": "execute_result"
    }
   ],
   "source": [
    "monotone(t)"
   ]
  },
  {
   "cell_type": "code",
   "execution_count": 168,
   "metadata": {
    "collapsed": false
   },
   "outputs": [
    {
     "ename": "AssertionError",
     "evalue": "La liste doit contenir au moins deux éléments",
     "output_type": "error",
     "traceback": [
      "\u001b[0;31m---------------------------------------------------------------------------\u001b[0m",
      "\u001b[0;31mAssertionError\u001b[0m                            Traceback (most recent call last)",
      "\u001b[0;32m<ipython-input-168-4a0d57b15642>\u001b[0m in \u001b[0;36m<module>\u001b[0;34m()\u001b[0m\n\u001b[0;32m----> 1\u001b[0;31m \u001b[0mmonotone\u001b[0m\u001b[0;34m(\u001b[0m\u001b[0;34m[\u001b[0m\u001b[0;36m0\u001b[0m\u001b[0;34m]\u001b[0m\u001b[0;34m)\u001b[0m\u001b[0;34m\u001b[0m\u001b[0m\n\u001b[0m",
      "\u001b[0;32m<ipython-input-162-36c599606821>\u001b[0m in \u001b[0;36mmonotone\u001b[0;34m(t)\u001b[0m\n\u001b[1;32m      3\u001b[0m \u001b[0;32mdef\u001b[0m \u001b[0mmonotone\u001b[0m\u001b[0;34m(\u001b[0m\u001b[0mt\u001b[0m\u001b[0;34m)\u001b[0m\u001b[0;34m:\u001b[0m\u001b[0;34m\u001b[0m\u001b[0m\n\u001b[1;32m      4\u001b[0m     \u001b[0;34m\"\"\"Retourne un booleen indiquant si une liste est monotone\"\"\"\u001b[0m\u001b[0;34m\u001b[0m\u001b[0m\n\u001b[0;32m----> 5\u001b[0;31m     \u001b[0;32massert\u001b[0m \u001b[0mlen\u001b[0m\u001b[0;34m(\u001b[0m\u001b[0mt\u001b[0m\u001b[0;34m)\u001b[0m \u001b[0;34m>=\u001b[0m \u001b[0;36m2\u001b[0m\u001b[0;34m,\u001b[0m \u001b[0;34m\"La liste doit contenir au moins deux éléments\"\u001b[0m\u001b[0;34m\u001b[0m\u001b[0m\n\u001b[0m\u001b[1;32m      6\u001b[0m     \u001b[0;31m#on choisit la fonction de comparaison selon l'ordre des deux premiers éléments\u001b[0m\u001b[0;34m\u001b[0m\u001b[0;34m\u001b[0m\u001b[0m\n\u001b[1;32m      7\u001b[0m     \u001b[0;32mif\u001b[0m \u001b[0mt\u001b[0m\u001b[0;34m[\u001b[0m\u001b[0;36m0\u001b[0m\u001b[0;34m]\u001b[0m \u001b[0;34m<\u001b[0m \u001b[0mt\u001b[0m\u001b[0;34m[\u001b[0m\u001b[0;36m1\u001b[0m\u001b[0;34m]\u001b[0m\u001b[0;34m:\u001b[0m\u001b[0;34m\u001b[0m\u001b[0m\n",
      "\u001b[0;31mAssertionError\u001b[0m: La liste doit contenir au moins deux éléments"
     ]
    }
   ],
   "source": [
    "monotone([0])"
   ]
  },
  {
   "cell_type": "markdown",
   "metadata": {},
   "source": [
    "### Exercice 11 Une suite fortement récurrente, $u_{0}=1$ et $u_{n+1}=\\sum_{k=0}^{n}(n+k)u_{k}$"
   ]
  },
  {
   "cell_type": "markdown",
   "metadata": {},
   "source": [
    "Une première version du calcul des termes $u_{n}$ où l'on mémorise les termes déjà calculés dans une liste."
   ]
  },
  {
   "cell_type": "code",
   "execution_count": 169,
   "metadata": {
    "collapsed": true
   },
   "outputs": [],
   "source": [
    "def suite_exo11V1(n):\n",
    "    u = [1]\n",
    "    for i in range(1, n + 1):\n",
    "        s = 0\n",
    "        j = i - 1\n",
    "        for k in range(0, i):\n",
    "            s = s + (j + k)*u[k]\n",
    "        u.append(s)\n",
    "    return u[-1]"
   ]
  },
  {
   "cell_type": "code",
   "execution_count": 170,
   "metadata": {
    "collapsed": false
   },
   "outputs": [
    {
     "data": {
      "text/plain": [
       "[1, 0, 1, 6, 44, 404]"
      ]
     },
     "execution_count": 170,
     "metadata": {},
     "output_type": "execute_result"
    }
   ],
   "source": [
    "[suite_exo11V1(n) for n in range(6)]"
   ]
  },
  {
   "cell_type": "markdown",
   "metadata": {},
   "source": [
    "Une seconde version où l'on mémorise simplement le terme précédent $u_{n}$, \n",
    "la somme $\\sum_{k=0}^{n}u_{k}$ et la somme pondérée $\\sum_{k=0}^{n}ku_{k}$."
   ]
  },
  {
   "cell_type": "code",
   "execution_count": null,
   "metadata": {
    "collapsed": true
   },
   "outputs": [],
   "source": [
    "def suite_exo11V2(n):\n",
    "    somme = 1\n",
    "    sommepond = 0\n",
    "    u = 1\n",
    "    for i in range(1, n + 1):\n",
    "        u = (i - 1)*somme + sommepond\n",
    "        somme = somme + u\n",
    "        sommepond = sommepond + i*u\n",
    "    return u"
   ]
  },
  {
   "cell_type": "code",
   "execution_count": null,
   "metadata": {
    "collapsed": false
   },
   "outputs": [],
   "source": [
    "[suite_exo11V2(n) for n in range(6)]"
   ]
  },
  {
   "cell_type": "markdown",
   "metadata": {},
   "source": [
    "## Pour compléter"
   ]
  },
  {
   "cell_type": "markdown",
   "metadata": {},
   "source": [
    "### Exercice 12"
   ]
  },
  {
   "cell_type": "code",
   "execution_count": null,
   "metadata": {
    "collapsed": true
   },
   "outputs": [],
   "source": [
    "def compartab(t1, t2):\n",
    "    \"\"\"Compare si deux tableaux sont égaux\"\"\"\n",
    "    taille1 = len(t1)\n",
    "    if taille1 != len(t2):\n",
    "        return False\n",
    "    for k in range(taille1):\n",
    "        if t1[k] != t2[k]:\n",
    "            return False\n",
    "    return True"
   ]
  },
  {
   "cell_type": "code",
   "execution_count": null,
   "metadata": {
    "collapsed": true
   },
   "outputs": [],
   "source": [
    "def compartab2(t1, t2):\n",
    "    \"\"\"Compare si deux tableaux sont égaux avec l'itérateur zip\"\"\"\n",
    "    if len(t1) != len(t2):\n",
    "        return False\n",
    "    for e1, e2 in zip(t1, t2):\n",
    "        if e1 != e2:\n",
    "            return False\n",
    "    return True"
   ]
  },
  {
   "cell_type": "code",
   "execution_count": 171,
   "metadata": {
    "collapsed": true
   },
   "outputs": [],
   "source": [
    "from random import randint\n",
    "alea1 = [randint(0, 20) for _ in range(10)]\n",
    "alea2= [randint(0, 20) for _ in range(10)]"
   ]
  },
  {
   "cell_type": "code",
   "execution_count": 172,
   "metadata": {
    "collapsed": false
   },
   "outputs": [
    {
     "data": {
      "text/plain": [
       "[16, 13, 15, 16, 17, 16, 3, 17, 3, 18]"
      ]
     },
     "execution_count": 172,
     "metadata": {},
     "output_type": "execute_result"
    }
   ],
   "source": [
    "alea1"
   ]
  },
  {
   "cell_type": "code",
   "execution_count": 173,
   "metadata": {
    "collapsed": false
   },
   "outputs": [
    {
     "data": {
      "text/plain": [
       "[3, 8, 19, 17, 11, 1, 13, 11, 18, 16]"
      ]
     },
     "execution_count": 173,
     "metadata": {},
     "output_type": "execute_result"
    }
   ],
   "source": [
    "alea2"
   ]
  },
  {
   "cell_type": "code",
   "execution_count": 174,
   "metadata": {
    "collapsed": false
   },
   "outputs": [
    {
     "data": {
      "text/plain": [
       "False"
      ]
     },
     "execution_count": 174,
     "metadata": {},
     "output_type": "execute_result"
    }
   ],
   "source": [
    "compartab2(alea1, alea2)"
   ]
  },
  {
   "cell_type": "code",
   "execution_count": 175,
   "metadata": {
    "collapsed": false
   },
   "outputs": [
    {
     "data": {
      "text/plain": [
       "False"
      ]
     },
     "execution_count": 175,
     "metadata": {},
     "output_type": "execute_result"
    }
   ],
   "source": [
    "compartab(alea1, alea2)"
   ]
  },
  {
   "cell_type": "code",
   "execution_count": 176,
   "metadata": {
    "collapsed": false
   },
   "outputs": [
    {
     "data": {
      "text/plain": [
       "(True, True)"
      ]
     },
     "execution_count": 176,
     "metadata": {},
     "output_type": "execute_result"
    }
   ],
   "source": [
    "compartab([1,0, 1], [1,0,1]), compartab2([1,0, 1], [1,0,1])"
   ]
  },
  {
   "cell_type": "code",
   "execution_count": 177,
   "metadata": {
    "collapsed": true
   },
   "outputs": [],
   "source": [
    "def inversion(t):\n",
    "    L = []\n",
    "    for e in t:\n",
    "        L.insert(0, e)\n",
    "    return L"
   ]
  },
  {
   "cell_type": "code",
   "execution_count": 178,
   "metadata": {
    "collapsed": true
   },
   "outputs": [],
   "source": [
    "def inversion2(t):\n",
    "    L = []\n",
    "    for k in range(len(t) - 1, -1, -1):\n",
    "        L.append(t[k])\n",
    "    return L"
   ]
  },
  {
   "cell_type": "code",
   "execution_count": 179,
   "metadata": {
    "collapsed": true
   },
   "outputs": [],
   "source": [
    "def inversion3(tab):\n",
    "    \"\"\"idem mais avec une liste en compréhension\"\"\"\n",
    "    return [tab[i] for i in range(-1,-len(tab)-1,-1)]"
   ]
  },
  {
   "cell_type": "code",
   "execution_count": 180,
   "metadata": {
    "collapsed": false
   },
   "outputs": [
    {
     "data": {
      "text/plain": [
       "[18, 3, 17, 3, 16, 17, 16, 15, 13, 16]"
      ]
     },
     "execution_count": 180,
     "metadata": {},
     "output_type": "execute_result"
    }
   ],
   "source": [
    "inversion(alea1)"
   ]
  },
  {
   "cell_type": "code",
   "execution_count": 181,
   "metadata": {
    "collapsed": false
   },
   "outputs": [
    {
     "data": {
      "text/plain": [
       "[18, 3, 17, 3, 16, 17, 16, 15, 13, 16]"
      ]
     },
     "execution_count": 181,
     "metadata": {},
     "output_type": "execute_result"
    }
   ],
   "source": [
    "inversion2(alea1)"
   ]
  },
  {
   "cell_type": "code",
   "execution_count": 182,
   "metadata": {
    "collapsed": false
   },
   "outputs": [
    {
     "data": {
      "text/plain": [
       "[18, 3, 17, 3, 16, 17, 16, 15, 13, 16]"
      ]
     },
     "execution_count": 182,
     "metadata": {},
     "output_type": "execute_result"
    }
   ],
   "source": [
    "#vérification avec un slicing \n",
    "alea1[::-1]"
   ]
  },
  {
   "cell_type": "code",
   "execution_count": 183,
   "metadata": {
    "collapsed": true
   },
   "outputs": [],
   "source": [
    "def remplace(t, x, y):\n",
    "    \"\"\"Remplace dans t toutes les occurences de x par y\"\"\"\n",
    "    for k in range(len(t)):\n",
    "        if t[k] == x:\n",
    "            t[k] = y"
   ]
  },
  {
   "cell_type": "code",
   "execution_count": 184,
   "metadata": {
    "collapsed": false
   },
   "outputs": [
    {
     "data": {
      "text/plain": [
       "[16, 13, 15, 16, 17, 16, 3, 17, 3, 18]"
      ]
     },
     "execution_count": 184,
     "metadata": {},
     "output_type": "execute_result"
    }
   ],
   "source": [
    "alea1"
   ]
  },
  {
   "cell_type": "code",
   "execution_count": 185,
   "metadata": {
    "collapsed": true
   },
   "outputs": [],
   "source": [
    "remplace(alea1, 4, 7)"
   ]
  },
  {
   "cell_type": "code",
   "execution_count": 186,
   "metadata": {
    "collapsed": false
   },
   "outputs": [
    {
     "data": {
      "text/plain": [
       "[16, 13, 15, 16, 17, 16, 3, 17, 3, 18]"
      ]
     },
     "execution_count": 186,
     "metadata": {},
     "output_type": "execute_result"
    }
   ],
   "source": [
    "alea1"
   ]
  },
  {
   "cell_type": "code",
   "execution_count": 187,
   "metadata": {
    "collapsed": true
   },
   "outputs": [],
   "source": [
    "def remplace2(t, x, y):\n",
    "    \"\"\"Remplace dans t toutes les occurences de x par y\n",
    "    Retourne une nouvelle liste\"\"\"\n",
    "    \n",
    "    def auxiliaire(e):\n",
    "        \"\"\"Fonction auxiliaire\"\"\"\n",
    "        if e != x:\n",
    "            return e\n",
    "        return y\n",
    "        \n",
    "    return list(map(auxiliaire, t))"
   ]
  },
  {
   "cell_type": "code",
   "execution_count": 188,
   "metadata": {
    "collapsed": true
   },
   "outputs": [],
   "source": [
    "def remplace3(tab,x,y):\n",
    "    \"\"\"Remplace dans t toutes les occurences de x par y\n",
    "    Retourne une nouvelle liste\"\"\"\n",
    "    return [element if element != x else y for element in tab]"
   ]
  },
  {
   "cell_type": "code",
   "execution_count": 189,
   "metadata": {
    "collapsed": false
   },
   "outputs": [
    {
     "data": {
      "text/plain": [
       "[16, 13, 15, 16, 17, 16, 3, 17, 3, 18]"
      ]
     },
     "execution_count": 189,
     "metadata": {},
     "output_type": "execute_result"
    }
   ],
   "source": [
    "alea1"
   ]
  },
  {
   "cell_type": "code",
   "execution_count": 190,
   "metadata": {
    "collapsed": false
   },
   "outputs": [
    {
     "data": {
      "text/plain": [
       "[16, 13, 15, 16, 17, 16, 3, 17, 3, 18]"
      ]
     },
     "execution_count": 190,
     "metadata": {},
     "output_type": "execute_result"
    }
   ],
   "source": [
    "remplace2(alea1, 20, 0)"
   ]
  },
  {
   "cell_type": "markdown",
   "metadata": {},
   "source": [
    "# Référencement et copie de listes"
   ]
  },
  {
   "cell_type": "markdown",
   "metadata": {},
   "source": [
    "## Référencement,  aliasing"
   ]
  },
  {
   "cell_type": "markdown",
   "metadata": {},
   "source": [
    "### Exercice 13 Lien vers [PythonTutor](http://pythontutor.com/)"
   ]
  },
  {
   "cell_type": "markdown",
   "metadata": {},
   "source": [
    "http://pythontutor.com/visualize.html#code=k%20%3D%20%5B10,%2015,%2012%5D%0At%20%3D%20k%0Am%20%3D%20t%0An%20%3D%20m%5B%3A%5D%0Am%5B1%5D%20%3D%2017%0An%5B0%5D%20%3D%2019%0Ali1%20%3D%20%5B5,%20%5B3,%204%5D,%20-12%5D%0Ali2%20%3D%20li1%5B%3A%5D%0Ali1%5B1%5D%5B1%5D%20%3D%2010&cumulative=false&curInstr=0&heapPrimitives=false&mode=display&origin=opt-frontend.js&py=3&rawInputLstJSON=%5B%5D&textReferences=false"
   ]
  },
  {
   "cell_type": "markdown",
   "metadata": {},
   "source": [
    "En Python, on peut considérer que les variables de types  simples (`int`, `bool`, `float`) sont bien l'association d'un nom et d'une valeur.\n",
    "\n",
    "Les variables de type `list` sont différentes. Dans un autre langage comme le `C`, on dirait qu'il s'agit de __pointeurs__ c'est-à-dire de variables dont les valeurs sont des adresses de zone mémoires où sont stockées les valeurs proprement dites. On parle aussi de __référence__ pour la valeur d'une liste et ce type de mécanisme est appelé __indirection__.\n",
    "\n",
    "Par exemple lorsqu'on écrit `L = [1, 3.14, [2, 3]]`, la valeur de L n'est pas `[1, 3.14, [2, 3]]` mais l'adresse de la zone mémoire où est stockée `[1, 3.14, [2, 3]]`\n",
    "\n",
    "Ainsi lorsqu'on assigne la valeur de `L` à une autre liste `T`, on donne à `T` l'adresse mémoire associée à `L`, celle qui pointe vers la zone mémoire où est stockée `[1, 3.14, [2, 3]]`. Cette dernière peut être vue comme une série d'octets contigus où sont stockés l'entier  `4`, le flottant `3.14` et la valeur de la liste `[2, 3]`. Mais la valeur de la liste `[2, 3]` est elle même une adresse mémoire, celle de la zone mémoire contigue où sont stockés les entiers `2` et `3`.\n",
    "\n",
    "Avec les listes de listes, on peut donc avoir plusieurs niveaux d'indirections imbriquées les unes dans les autres. Il faut donc utiliser la fonction `deepcopy` du module `copy` pour réaliser une vraie copie (dite __copie profonde__), en cassant les références des listes (on dit aussi __déréférencer__)  et en créant de nouvelles zones mémoires pour stocker les mêmes données que la liste de listes source.\n",
    " "
   ]
  },
  {
   "cell_type": "code",
   "execution_count": 1,
   "metadata": {
    "collapsed": true
   },
   "outputs": [],
   "source": [
    "L = [[851, 852], [853, 854]]\n",
    "M = L"
   ]
  },
  {
   "cell_type": "code",
   "execution_count": 3,
   "metadata": {
    "collapsed": false
   },
   "outputs": [
    {
     "data": {
      "text/plain": [
       "(852, 852)"
      ]
     },
     "execution_count": 3,
     "metadata": {},
     "output_type": "execute_result"
    }
   ],
   "source": [
    "L[0][1], M[0][1]"
   ]
  },
  {
   "cell_type": "code",
   "execution_count": 4,
   "metadata": {
    "collapsed": true
   },
   "outputs": [],
   "source": [
    "L[0][1] = 833"
   ]
  },
  {
   "cell_type": "code",
   "execution_count": 5,
   "metadata": {
    "collapsed": false
   },
   "outputs": [
    {
     "data": {
      "text/plain": [
       "([[851, 833], [853, 854]], [[851, 833], [853, 854]])"
      ]
     },
     "execution_count": 5,
     "metadata": {},
     "output_type": "execute_result"
    }
   ],
   "source": [
    "L, M"
   ]
  },
  {
   "cell_type": "code",
   "execution_count": 6,
   "metadata": {
    "collapsed": true
   },
   "outputs": [],
   "source": [
    "N = L[:]"
   ]
  },
  {
   "cell_type": "code",
   "execution_count": 9,
   "metadata": {
    "collapsed": true
   },
   "outputs": [],
   "source": [
    "L[0][1] = 854"
   ]
  },
  {
   "cell_type": "code",
   "execution_count": 10,
   "metadata": {
    "collapsed": false
   },
   "outputs": [
    {
     "data": {
      "text/plain": [
       "([[851, 854], [853, 854]], [[851, 854], [853, 854]])"
      ]
     },
     "execution_count": 10,
     "metadata": {},
     "output_type": "execute_result"
    }
   ],
   "source": [
    "L, N"
   ]
  },
  {
   "cell_type": "code",
   "execution_count": 12,
   "metadata": {
    "collapsed": true
   },
   "outputs": [],
   "source": [
    "from copy import deepcopy\n",
    "P = deepcopy(M)"
   ]
  },
  {
   "cell_type": "code",
   "execution_count": 13,
   "metadata": {
    "collapsed": false
   },
   "outputs": [
    {
     "data": {
      "text/plain": [
       "([[851, 854], [853, 854]], [[851, 854], [853, 854]])"
      ]
     },
     "execution_count": 13,
     "metadata": {},
     "output_type": "execute_result"
    }
   ],
   "source": [
    "P, M"
   ]
  },
  {
   "cell_type": "code",
   "execution_count": 14,
   "metadata": {
    "collapsed": true
   },
   "outputs": [],
   "source": [
    "M[0][1] = 855"
   ]
  },
  {
   "cell_type": "code",
   "execution_count": 15,
   "metadata": {
    "collapsed": false
   },
   "outputs": [
    {
     "data": {
      "text/plain": [
       "([[851, 855], [853, 854]], [[851, 854], [853, 854]])"
      ]
     },
     "execution_count": 15,
     "metadata": {},
     "output_type": "execute_result"
    }
   ],
   "source": [
    "M, P"
   ]
  },
  {
   "cell_type": "markdown",
   "metadata": {},
   "source": [
    "## Copie de listes"
   ]
  },
  {
   "cell_type": "markdown",
   "metadata": {},
   "source": [
    " Lien vers l'exemple ci-dessous sur [PythonTutor](http://pythontutor.com/) :\n",
    " \n",
    " http://pythontutor.com/visualize.html#code=L+%3D+%5B0,0,0%5D*4%0AN+%3D+%5B%5B0,0,0%5D%5D*4%0AN%5B1%5D%5B1%5D+%3D+2%0AM+%3D+%5B%5B0,0,0%5D+for+i+in+range(4)%5D%0AM%5B1%5D%5B1%5D+%3D+2%0AP+%3D+%5B%5B0+for+i+in+range(3)%5D+for+j+in+range(4)%5D%0AP%5B1%5D%5B1%5D+%3D+2%0AQ+%3D+%5B%5B0%5D*3+for+j+in+range(4)%5D&mode=display&origin=opt-frontend.js&cumulative=false&heapPrimitives=false&drawParentPointers=false&textReferences=false&showOnlyOutputs=false&py=3&rawInputLstJSON=%5B%5D&curInstr=0"
   ]
  },
  {
   "cell_type": "code",
   "execution_count": 16,
   "metadata": {
    "collapsed": true
   },
   "outputs": [],
   "source": [
    "L = [0,0,0]*4\n",
    "K = [[0,0,0]] + [[0,0,0]] + [[0,0,0]]  + [[0,0,0]] \n",
    "N = [[0,0,0]]*4\n",
    "N[1][1] = 2\n",
    "M = [[0,0,0] for i in range(4)]\n",
    "M[1][1] = 2\n",
    "P = [[0 for i in range(3)] for j in range(4)]\n",
    "P[1][1] = 2\n",
    "Q = [[0]*3 for j in range(4)]\n",
    "\n",
    "R = []\n",
    "for nligne in range(4):\n",
    "    ligne = []\n",
    "    for ncol in range(3):\n",
    "        ligne.append(0)\n",
    "    R.append(ligne)\n",
    "    \n",
    "S = []\n",
    "for nligne in range(4):\n",
    "    S = S + [0]*3"
   ]
  },
  {
   "cell_type": "markdown",
   "metadata": {},
   "source": [
    "Lien vers un autre exemple  sur [PythonTutor](http://pythontutor.com/) :\n",
    "        \n",
    "http://pythontutor.com/visualize.html#code=R+%3D+%5B0,0,0%5D%0AS+%3D+%5BR%5D+%2B+%5BR%5D+%2B+%5BR%5D+%2B+%5BR%5D%0AT+%3D+%5B%5B0,0,0%5D%5D+%2B+%5B%5B0,0,0%5D%5D++%2B+%5B%5B0,0,0%5D%5D++%2B+%5B%5B0,0,0%5D%5D+&mode=display&origin=opt-frontend.js&cumulative=false&heapPrimitives=false&drawParentPointers=false&textReferences=false&showOnlyOutputs=false&py=3&rawInputLstJSON=%5B%5D&curInstr=0\n"
   ]
  },
  {
   "cell_type": "markdown",
   "metadata": {},
   "source": [
    "### Exercice 14"
   ]
  },
  {
   "cell_type": "code",
   "execution_count": 192,
   "metadata": {
    "collapsed": true
   },
   "outputs": [],
   "source": [
    "def zeros(n,p):\n",
    "    mat = []\n",
    "    for nligne in range(n):\n",
    "        ligne = []\n",
    "        for ncol in range(p):\n",
    "            ligne.append(0)\n",
    "        mat.append(ligne)\n",
    "    return mat\n",
    "\n",
    "def zeros2(n,p):\n",
    "    \"\"\"Retourne la matrice nulle de n lignes et p colonnes\"\"\"\n",
    "    return [[0]*p for i in range(n)]\n",
    "    \n",
    "def zeros3(n,p):\n",
    "    \"\"\"Mauvaise fonction car on réplique toujours \n",
    "    la meme ligne\"\"\"\n",
    "    return [[0]*p]*n"
   ]
  },
  {
   "cell_type": "code",
   "execution_count": 193,
   "metadata": {
    "collapsed": false
   },
   "outputs": [
    {
     "data": {
      "text/plain": [
       "[[0, 0, 0], [0, 0, 0]]"
      ]
     },
     "execution_count": 193,
     "metadata": {},
     "output_type": "execute_result"
    }
   ],
   "source": [
    "a = zeros3(2,3)  #mauvaise  copie\n",
    "a"
   ]
  },
  {
   "cell_type": "code",
   "execution_count": 194,
   "metadata": {
    "collapsed": true
   },
   "outputs": [],
   "source": [
    "a[0][0] = 1"
   ]
  },
  {
   "cell_type": "code",
   "execution_count": 195,
   "metadata": {
    "collapsed": false
   },
   "outputs": [
    {
     "data": {
      "text/plain": [
       "[[1, 0, 0], [1, 0, 0]]"
      ]
     },
     "execution_count": 195,
     "metadata": {},
     "output_type": "execute_result"
    }
   ],
   "source": [
    "a"
   ]
  },
  {
   "cell_type": "code",
   "execution_count": 196,
   "metadata": {
    "collapsed": false
   },
   "outputs": [
    {
     "data": {
      "text/plain": [
       "[[0, 0, 0], [0, 0, 0]]"
      ]
     },
     "execution_count": 196,
     "metadata": {},
     "output_type": "execute_result"
    }
   ],
   "source": [
    "b = zeros(2,3)  #bonne  copie\n",
    "b"
   ]
  },
  {
   "cell_type": "code",
   "execution_count": 197,
   "metadata": {
    "collapsed": false
   },
   "outputs": [
    {
     "data": {
      "text/plain": [
       "[[1, 0, 0], [0, 0, 0]]"
      ]
     },
     "execution_count": 197,
     "metadata": {},
     "output_type": "execute_result"
    }
   ],
   "source": [
    "b[0][0] = 1\n",
    "b"
   ]
  },
  {
   "cell_type": "markdown",
   "metadata": {},
   "source": [
    "### Exercice 15 Copie de matrices (sans `deepcopy`)"
   ]
  },
  {
   "cell_type": "markdown",
   "metadata": {},
   "source": [
    "Lien vers un  exemple  sur [PythonTutor](http://pythontutor.com/) :\n",
    "        \n",
    "http://pythontutor.com/visualize.html#code=R+%3D+%5B0,0,0%5D%0AS+%3D+%5BR%5D+%2B+%5BR%5D+%2B+%5BR%5D+%2B+%5BR%5D%0AT+%3D+%5B%5B0,0,0%5D%5D+%2B+%5B%5B0,0,0%5D%5D++%2B+%5B%5B0,0,0%5D%5D++%2B+%5B%5B0,0,0%5D%5D+&mode=display&origin=opt-frontend.js&cumulative=false&heapPrimitives=false&drawParentPointers=false&textReferences=false&showOnlyOutputs=false&py=3&rawInputLstJSON=%5B%5D&curInstr=0"
   ]
  },
  {
   "cell_type": "code",
   "execution_count": 198,
   "metadata": {
    "collapsed": true
   },
   "outputs": [],
   "source": [
    "def copie0(mat):\n",
    "    \"\"\"Vraie copie de mat sans partage de données\"\"\"\n",
    "    n, p = dimensions(mat)\n",
    "    mat2 = []\n",
    "    for nligne in range(n):\n",
    "        ligne = []\n",
    "        for ncol in range(p):\n",
    "            ligne.append(0)\n",
    "        mat2.append(ligne)\n",
    "    return mat2\n",
    "\n",
    "\n",
    "def copie01(mat):\n",
    "    \"\"\"Vraie copie de mat sans partage de données\"\"\"\n",
    "    n, p = dimensions(mat)\n",
    "    mat2 = zeros2(n, p )    \n",
    "    for i in range(n):\n",
    "        for j in range(p):            \n",
    "            mat2[i][j] = mat[i][j]\n",
    "    return mat2\n",
    "\n",
    "\n",
    "\n",
    "def copie(m):\n",
    "    \"\"\"retourne une copie de la matrice m\"\"\"\n",
    "    nlines,ncols = dimensions(m)\n",
    "    n = zeros(nlines,ncols) # matrice copie\n",
    "    for i in range(nlines):\n",
    "        for j in range(ncols):\n",
    "            n[i][j] = m[i][j]\n",
    "    return n\n",
    "\n",
    "\n",
    "def copie1(m):\n",
    "    \"\"\"copie de matrice avec une liste en compréhension\"\"\"\n",
    "    return [[m[i][j] for j in range(len(m[0]))] for i in range(len(m))]\n",
    "\n",
    "\n",
    "def copie2(m):\n",
    "    \"\"\"retourne une copie de la matrice m\"\"\"\n",
    "    n = [] #matrice copie\n",
    "    nlines,ncols = dimensions(m)\n",
    "    for i in range(nlines):\n",
    "        ligne = [] #vecteur ligne\n",
    "        for j in range(ncols):\n",
    "            ligne.append(m[i][j])\n",
    "        n.append(ligne)\n",
    "    return n"
   ]
  },
  {
   "cell_type": "markdown",
   "metadata": {},
   "source": [
    "# D'autres exercices"
   ]
  },
  {
   "cell_type": "markdown",
   "metadata": {},
   "source": [
    "### Exercice 16 Opérations sur les matrices"
   ]
  },
  {
   "cell_type": "code",
   "execution_count": 199,
   "metadata": {
    "collapsed": true
   },
   "outputs": [],
   "source": [
    "def dimensions(M):    \n",
    "    return (len(M), len(M[0]))\n",
    "\n",
    "def somme_matrice(m,n):\n",
    "    \"\"\"retourne la matrice somme de deux matrices m et n\"\"\"\n",
    "    (nlines, ncols) = dimensions(m)\n",
    "    if dimensions(n) != (nlines, ncols):\n",
    "        return None\n",
    "    s = zeros(nlines,ncols)\n",
    "    for i in range(nlines):\n",
    "        for j in range(ncols):\n",
    "            s[i][j] = m[i][j]+n[i][j]\n",
    "    return s\n",
    "\n",
    "def somme_matrice1(m,n):\n",
    "    \"\"\"retourne la matrice somme de deux matrices m et n\"\"\"\n",
    "    assert dimensions(m)==dimensions(n), \"Les matrices n'ont pas la même dimension\"\n",
    "    return [[m[i][j]+n[i][j] for j in range(len(m[0]))] for i in range(len(m))]\n",
    "\n",
    "\n",
    "def somme_matrice2(m,n):\n",
    "    \"\"\"retourne la matrice somme de deux matrices m et n\"\"\"\n",
    "    assert dimensions(m)==dimensions(n), \"Les matrices n'ont pas la même dimension\"\n",
    "    s = []\n",
    "    for i in range(len(m)):\n",
    "        ligne = []\n",
    "        for j in range(len(m[0])):\n",
    "            ligne.append(m[i][j]+n[i][j])\n",
    "        s.append(ligne)\n",
    "    return s\n",
    "\n",
    "def multscal_matrice(m,t):\n",
    "    \"\"\"multiplie tous les coefficients de la matrice m par le scalaire t\"\"\"\n",
    "    nlines,ncols=dimensions(m)\n",
    "    s=zeros(nlines,ncols)\n",
    "    for i in range(nlines):\n",
    "        for j in range(ncols):\n",
    "            s[i][j]=m[i][j]*t\n",
    "    return s\n",
    "\n",
    "def multscal_matrice1(m,t):\n",
    "    \"\"\"multiplie tous les coefficients de la matrice m par la scalaire t\"\"\"\n",
    "    return [[m[i][j]*t for j in range(len(m[0]))] for i in range(len(m))]\n",
    "\n",
    "def transpose(m):\n",
    "    \"\"\"retourne la transposée d'une matrice\"\"\"\n",
    "    nlines,ncols = dimensions(m)\n",
    "    s = zeros(ncols,nlines)\n",
    "    for i in range(ncols):\n",
    "        for j in range(nlines):\n",
    "            s[i][j] = m[j][i]\n",
    "    return s\n",
    "\n",
    "def transpose1(m):\n",
    "    \"\"\"retourne la transposée d'une matrice\"\"\"\n",
    "    return [[m[i][j] for i in range(len(m))] for j in range(len(m[0]))]\n",
    " \n",
    "\n",
    "def prod_matrice(m,n):\n",
    "    \"\"\"retourne la matrice poduit de m par n\"\"\"\n",
    "    mlines,mcols = dimensions(m)\n",
    "    nlines,ncols = dimensions(n)\n",
    "    if mcols != nlines:\n",
    "        return \"Les dimensions ne sont pas compatibles\"\n",
    "    p = zeros(mlines,ncols)\n",
    "    for i in range(mlines):\n",
    "        for j in range(ncols):\n",
    "            #p[i][j] = 0\n",
    "            for k in range(mcols): # ou nlines c'est pareil\n",
    "                #p[i][j] = p[i][j] + m[i][k]*n[k][j]\n",
    "                p[i][j] += m[i][k]*n[k][j]\n",
    "    return p\n",
    "\n",
    "   \n",
    "def prod_matrice1(m,n):\n",
    "    \"\"\"retourne la matrice poduit de m par n\"\"\"\n",
    "    assert dimensions(m)[1]==dimensions(n)[0], \"Les dimensions ne sont pas compatibles\"\n",
    "    return [[sum([m[i][k]*n[k][j] for k in range(len(m[0]))]) for j in range(len(n[0]))] for i in range(len(m))] \n",
    "\n",
    "def prod_matrice2(m,n):\n",
    "    \"\"\"retourne la matrice poduit de m par n\"\"\"\n",
    "    assert dimensions(m)[1]==dimensions(n)[0], \"Les dimensions ne sont pas compatibles\"\n",
    "    p = []\n",
    "    for i in range(len(m)):\n",
    "        ligne = []\n",
    "        lignem = m[i] #on stocke la ligne de m dans un pointeur\n",
    "        for j in range(len(n[0])):\n",
    "            coef = 0\n",
    "            for k in range(len(m[0])):\n",
    "                coef += lignem[k]*n[k][j]\n",
    "            ligne.append(coef)\n",
    "        p.append(ligne)\n",
    "    return p\n",
    "\n",
    "def diagonale(n,x):\n",
    "    \"\"\"Retourne une matrice diagonale avec que des x sur la diagonale\"\"\"\n",
    "    return [[x if i == j else 0 for j in range(n)] for i in range(n)]\n",
    "    \n",
    "\n",
    "def puissance_mat(m,exposant):\n",
    "    \"\"\"Retourne la puissance de la matrice m d'exposant donné\"\"\"\n",
    "    nlines,ncols = dimensions(m)\n",
    "    assert nlines==ncols,\"La matrice doit être carré\"\n",
    "    p = diagonale(nlines,1)\n",
    "    for i in range(exposant):\n",
    "        p = prod_matrice2(p,m)\n",
    "    return p\n",
    "\n",
    "## Exercice 14\n",
    "def est_symetrique(m):\n",
    "    \"\"\"Retourne un booleen indiquant si la matrice m est symetrique\"\"\"\n",
    "    n, p = dimensions(m)\n",
    "    if n != p:\n",
    "        return False\n",
    "    for i in range(n):\n",
    "        for j in range(i):\n",
    "            if m[i][j] != m[j][i]:\n",
    "                return False\n",
    "    return True\n",
    "    \n",
    "def est_symetrique2(m):\n",
    "    n, p = dimensions(m)\n",
    "    if n != p:\n",
    "        return False\n",
    "    return m == transposition(m)"
   ]
  },
  {
   "cell_type": "markdown",
   "metadata": {},
   "source": [
    "## Exercice 17"
   ]
  },
  {
   "cell_type": "code",
   "execution_count": 200,
   "metadata": {
    "collapsed": true
   },
   "outputs": [],
   "source": [
    "def sommevect1(t1, t2):\n",
    "    taille1 = len(t1)\n",
    "    if  taille1 != len(t2):\n",
    "        return None\n",
    "    t = []\n",
    "    for k in range(taille1):\n",
    "        t.append(t1[k] + t2[k])\n",
    "    return t"
   ]
  },
  {
   "cell_type": "code",
   "execution_count": 201,
   "metadata": {
    "collapsed": true
   },
   "outputs": [],
   "source": [
    "def sommevect2(t1, t2):\n",
    "    assert len(t1) == len(t2), \"les vecteurs doivente etre de meme longueur\"\n",
    "    return [e1 + e2 for (e1, e2) in zip(t1, t2)]"
   ]
  },
  {
   "cell_type": "code",
   "execution_count": 202,
   "metadata": {
    "collapsed": true
   },
   "outputs": [],
   "source": [
    "def sommevect3(t1, t2):\n",
    "    assert len(t1) == len(t2), \"les vecteurs doivente etre de meme longueur\"\n",
    "    return list(map(sum, zip(t1, t2)))"
   ]
  },
  {
   "cell_type": "code",
   "execution_count": 203,
   "metadata": {
    "collapsed": false
   },
   "outputs": [
    {
     "data": {
      "text/plain": [
       "([4, 6], [4, 6], [4, 6])"
      ]
     },
     "execution_count": 203,
     "metadata": {},
     "output_type": "execute_result"
    }
   ],
   "source": [
    "sommevect1([1,2], [3,4]), sommevect2([1,2], [3,4]), sommevect3([1,2], [3,4])"
   ]
  },
  {
   "cell_type": "markdown",
   "metadata": {},
   "source": [
    "### Exercice 18 Sommes cumulées"
   ]
  },
  {
   "cell_type": "code",
   "execution_count": 212,
   "metadata": {
    "collapsed": true
   },
   "outputs": [],
   "source": [
    "def sommes_cumulees(t):\n",
    "    \"\"\"Complexité linéraire par rapport à la taille de la liste t\"\"\"\n",
    "    taille = len(t)\n",
    "    cumul = [t[0]] + [0]*(taille - 1)\n",
    "    for k in range(1, taille):\n",
    "        cumul[k] = cumul[k - 1] + t[k]\n",
    "    return cumul       "
   ]
  },
  {
   "cell_type": "code",
   "execution_count": 209,
   "metadata": {
    "collapsed": false
   },
   "outputs": [
    {
     "data": {
      "text/plain": [
       "[10, 30, 42, 2, 17, 5, 30, -20]"
      ]
     },
     "execution_count": 209,
     "metadata": {},
     "output_type": "execute_result"
    }
   ],
   "source": [
    "t1"
   ]
  },
  {
   "cell_type": "code",
   "execution_count": 211,
   "metadata": {
    "collapsed": false
   },
   "outputs": [
    {
     "data": {
      "text/plain": [
       "[10, 40, 82, 84, 101, 106, 136, 116]"
      ]
     },
     "execution_count": 211,
     "metadata": {},
     "output_type": "execute_result"
    }
   ],
   "source": [
    "sommes_cumulees(t1)"
   ]
  },
  {
   "cell_type": "markdown",
   "metadata": {},
   "source": [
    "### Exercice 19"
   ]
  },
  {
   "cell_type": "code",
   "execution_count": 253,
   "metadata": {
    "collapsed": true
   },
   "outputs": [],
   "source": [
    "def deux_plus_grosV1(t):\n",
    "    \"\"\"Retourne les deux plus grands elements du tableau/liste t.\n",
    "    t est supposé avoir au moins 2 éléments\"\"\"\n",
    "    taille = len(t)\n",
    "    if taille < 2:\n",
    "        return None\n",
    "    #on initialise gros avec les deux premiers éléments dans l'ordre décroissant\n",
    "    if t[0] > t[1]:\n",
    "        gros = t[:2]\n",
    "    else:\n",
    "        gros = t[1::-1]\n",
    "    #on parcourt le tableau à partir de la position 2 (troisieme element)\n",
    "    for k in range(2, len(t), 1):\n",
    "        #on insère l'élément courant à sa place dans la liste des deux plus gros\n",
    "        courant = t[k]\n",
    "        j = 0\n",
    "        while j < 2 and gros[j] > courant:\n",
    "            j += 1\n",
    "        if j == 0:\n",
    "            gros = [courant,  gros[0]]\n",
    "        elif j == 1:\n",
    "            gros = [gros[0], courant]\n",
    "    return gros"
   ]
  },
  {
   "cell_type": "code",
   "execution_count": 254,
   "metadata": {
    "collapsed": false
   },
   "outputs": [
    {
     "data": {
      "text/plain": [
       "[12, 12]"
      ]
     },
     "execution_count": 254,
     "metadata": {},
     "output_type": "execute_result"
    }
   ],
   "source": [
    "deux_plus_grosV1([12, 4, 12, 1, 7, 3, 12,5])"
   ]
  },
  {
   "cell_type": "code",
   "execution_count": 286,
   "metadata": {
    "collapsed": false
   },
   "outputs": [],
   "source": [
    "def deux_plus_gros_rec(t):\n",
    "    \"\"\"Retourne les deux plus grands elements du tableau/liste t.\n",
    "    t est supposé avoir au moins 2 éléments.  Fonction récursive\"\"\"\n",
    "    taille = len(t)\n",
    "    if taille < 2:\n",
    "        return None\n",
    "    if taille == 2:\n",
    "         if t[0] > t[1]:\n",
    "            return t[:2]\n",
    "         elif t[0] < t[1]:\n",
    "            return  t[1::-1]\n",
    "         else:\n",
    "            return t[:1]\n",
    "    else:\n",
    "        gros = deux_plus_gros_rec(t[:-1])\n",
    "        j = 0\n",
    "        courant = t[-1]\n",
    "        while j < len(gros) and gros[j] >= courant:\n",
    "            j += 1\n",
    "        if j == 0:\n",
    "            return [courant,  gros[0]]\n",
    "        elif j == len(gros) - 1 and courant != gros[0]:\n",
    "            return [gros[0], courant]\n",
    "        else:\n",
    "            return gros"
   ]
  },
  {
   "cell_type": "code",
   "execution_count": 279,
   "metadata": {
    "collapsed": true
   },
   "outputs": [],
   "source": [
    "def deux_plus_grosV2(t):\n",
    "    \"\"\"Retourne les deux plus grands elements du tableau/liste t.\n",
    "    t est supposé avoir au moins 2 éléments.\n",
    "    Dans cette version, on insère le sdecond plus gros uniquement s'il est distinct du plus gros\"\"\"\n",
    "    taille = len(t)\n",
    "    if taille < 2:\n",
    "        return None\n",
    "    #on initialise gros avec les deux premiers éléments dans l'ordre strictement décroissant\n",
    "    if t[0] > t[1]:\n",
    "        gros = t[:2]\n",
    "    elif t[0] < t[1]:\n",
    "        gros = t[1::-1]\n",
    "    else:\n",
    "        gros = t[:1]\n",
    "    #on parcourt le tableau à partir de la position 2 (troisieme element)\n",
    "    for k in range(2, len(t), 1):\n",
    "        #on insère l'élément courant à sa place dans la liste des deux plus gros\n",
    "        courant = t[k]\n",
    "        j = 0\n",
    "        while j < len(gros) and gros[j] >= courant:\n",
    "            j += 1\n",
    "        if j == 0:\n",
    "            gros = [courant,  gros[0]]\n",
    "        elif j == len(gros) - 1 and courant != gros[0]:\n",
    "            gros = [gros[0], courant]\n",
    "    return gros"
   ]
  },
  {
   "cell_type": "code",
   "execution_count": 285,
   "metadata": {
    "collapsed": false
   },
   "outputs": [
    {
     "data": {
      "text/plain": [
       "[12, 7]"
      ]
     },
     "execution_count": 285,
     "metadata": {},
     "output_type": "execute_result"
    }
   ],
   "source": [
    "deux_plus_grosV2([12, 4, 12, 1, 7, 3, 12,5])"
   ]
  },
  {
   "cell_type": "markdown",
   "metadata": {},
   "source": [
    "Si tous les  éléments sont identiques, la liste renvoyée est de taille 1."
   ]
  },
  {
   "cell_type": "code",
   "execution_count": 276,
   "metadata": {
    "collapsed": false
   },
   "outputs": [
    {
     "data": {
      "text/plain": [
       "[12]"
      ]
     },
     "execution_count": 276,
     "metadata": {},
     "output_type": "execute_result"
    }
   ],
   "source": [
    "deux_plus_grosV2([12, 12, 12])"
   ]
  },
  {
   "cell_type": "code",
   "execution_count": 284,
   "metadata": {
    "collapsed": false
   },
   "outputs": [
    {
     "data": {
      "text/plain": [
       "[12, 7]"
      ]
     },
     "execution_count": 284,
     "metadata": {},
     "output_type": "execute_result"
    }
   ],
   "source": [
    "deux_plus_gros_rec([12, 4, 12, 1, 7, 3, 12,5])"
   ]
  },
  {
   "cell_type": "code",
   "execution_count": 283,
   "metadata": {
    "collapsed": false
   },
   "outputs": [
    {
     "data": {
      "text/plain": [
       "[12]"
      ]
     },
     "execution_count": 283,
     "metadata": {},
     "output_type": "execute_result"
    }
   ],
   "source": [
    "deux_plus_gros_rec([12, 12, 12])"
   ]
  },
  {
   "cell_type": "markdown",
   "metadata": {},
   "source": [
    "### Exercice 20"
   ]
  },
  {
   "cell_type": "code",
   "execution_count": 214,
   "metadata": {
    "collapsed": false
   },
   "outputs": [],
   "source": [
    "def permutelignes(A,i,j):\n",
    "    \"\"\"permute les lignes i et j de la matrice m\"\"\"\n",
    "    nlines,ncols = dimensions(A)\n",
    "    assert repr(type(i))==repr(type(j))==\"<class 'int'>\" and 0<=i<nlines and 0<=j<nlines, \\\n",
    "    \"i et j doivent être des entiers compris entre 0 et le nombre de lignes de la matrice\"\n",
    "    A[i],A[j] = A[j],A[i]"
   ]
  },
  {
   "cell_type": "code",
   "execution_count": 206,
   "metadata": {
    "collapsed": true
   },
   "outputs": [],
   "source": [
    "def rempl(A,x,y):\n",
    "    \"\"\"remplace toutes les occurences de x dans A par y\"\"\"\n",
    "    nlines,ncols = dimensions(A)\n",
    "    for i in range(nlines):\n",
    "        for j in range(ncols):\n",
    "            if A[i][j] == x:\n",
    "                A[i][j] = y"
   ]
  },
  {
   "cell_type": "markdown",
   "metadata": {},
   "source": [
    "### Exercice 21"
   ]
  },
  {
   "cell_type": "code",
   "execution_count": 217,
   "metadata": {
    "collapsed": true
   },
   "outputs": [],
   "source": [
    "def pascal(n):\n",
    "    \"\"\"Retourne les n premières lignes du triangle de Pascal\"\"\"\n",
    "    triangle = [[1]]\n",
    "    for i in range(1, n):\n",
    "        ligne = [1]\n",
    "        for j in range(1, i):\n",
    "            ligne.append(triangle[i-1][j] + triangle[i-1][j-1] )\n",
    "        ligne.append(1)\n",
    "        triangle.append(ligne)\n",
    "    return triangle"
   ]
  },
  {
   "cell_type": "code",
   "execution_count": 219,
   "metadata": {
    "collapsed": false
   },
   "outputs": [
    {
     "data": {
      "text/plain": [
       "[[1], [1, 1], [1, 2, 1], [1, 3, 3, 1], [1, 4, 6, 4, 1]]"
      ]
     },
     "execution_count": 219,
     "metadata": {},
     "output_type": "execute_result"
    }
   ],
   "source": [
    "pascal(5)"
   ]
  }
 ],
 "metadata": {
  "kernelspec": {
   "display_name": "Python 3",
   "language": "python",
   "name": "python3"
  },
  "language_info": {
   "codemirror_mode": {
    "name": "ipython",
    "version": 3
   },
   "file_extension": ".py",
   "mimetype": "text/x-python",
   "name": "python",
   "nbconvert_exporter": "python",
   "pygments_lexer": "ipython3",
   "version": "3.5.2"
  }
 },
 "nbformat": 4,
 "nbformat_minor": 1
}
